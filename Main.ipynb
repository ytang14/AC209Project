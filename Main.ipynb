{
 "cells": [
  {
   "cell_type": "markdown",
   "metadata": {},
   "source": [
    "#Thanksgiving on Twitter#\n",
    "\n",
    "\n",
    "<img src=\"http://www.saveur.com/sites/saveur.com/files/import/2013/Feature-Thanksgiving-modern-classics-1200x800.jpg\" width=640 height=480/>\n",
    "\n",
    "<img src=\"http://a57.foxnews.com/global.fbnstatic.com/static/managed/img/fb2/news/876/493/black-friday-2012-1.jpg?ve=1&tl=1\" width=640 height=480/>"
   ]
  },
  {
   "cell_type": "code",
   "execution_count": 1,
   "metadata": {
    "collapsed": true
   },
   "outputs": [],
   "source": [
    "%matplotlib inline\n",
    "import re\n",
    "import json\n",
    "import numpy as np\n",
    "import scipy as sp\n",
    "import matplotlib as mpl\n",
    "import matplotlib.cm as cm\n",
    "import matplotlib.pyplot as plt\n",
    "import pandas as pd\n",
    "import time\n",
    "from datetime import datetime \n",
    "import pytz\n",
    "pd.set_option('display.width', 500)\n",
    "pd.set_option('display.max_columns', 100)\n",
    "pd.set_option('display.notebook_repr_html', True)\n",
    "import seaborn as sns\n",
    "sns.set_style(\"whitegrid\")\n",
    "sns.set_context(\"poster\")"
   ]
  },
  {
   "cell_type": "markdown",
   "metadata": {},
   "source": [
    "##Background & Motivations\n",
    "\n",
    "Thanksgiving, one of the major holiday in the U.S.,  is the time when family gathers, and everyone express his/her thankfulness. It is also the time to shop! We are interested in studying what people are talking about and how they feel during Thanksgiving week. Our team members share interests in natural language processing, especially in less structured grammar forms, where the online space is a great place to start. Therefore, we conduct the study by analyzing tweets sent during the week in Boston. \n",
    "\n",
    "Will people mention thanksgiving more often or sent more positive tweets during thanksgiving? Will we find a lot of tweets discussing Black Friday and Cyber Monday? Or are people still worried about what happened in Paris?\n"
   ]
  },
  {
   "cell_type": "markdown",
   "metadata": {},
   "source": [
    "#Table of Contents\n",
    "\n",
    "* [Data](#Data)\n",
    "    * [Scrape Tweets from Twitter API](#Scrape-Tweets-from-Twitter-API)\n",
    "    * [Combine Twitter Data](#Combine-Twitter-Data)\n",
    "    * [Clean Data](#Clean-Data)\n",
    "        * [Spark Attempts to Clean Data](#Spark-Attempts-to-Clean-Data)\n",
    "        * [Initial Data Cleaning in Pandas](#Initial-Data-Cleaning-in-Pandas)\n",
    "* [Exploratory Data Analysis](#Exploratory-Data-Analysis)\n",
    "* [Analysis](#Analysis)\n",
    "    * [Topic Analysis](#Topic-Analysis)\n",
    "        * [Batch Variation Bayes for LDA](#Batch-Variation-Bayes-for-LDA)\n",
    "            * [Algorithm Procedures: Batch Variation Bayes for LDA](#Algorithm-Procedures:-Batch-Variation-Bayes-for-LDA)\n",
    "            * [Applying the tweets dataset on the Batch Variation Bayesian LDA](#Applying-the-tweets-dataset-on-the-Batch-Variation-Bayesian-LDA)\n",
    "        * [Unsupervised Topic Extraction with LDA](#Unsupervised-Topic-Extraction-with-LDA)\n",
    "            * [Creating the vocabulary](#Creating-the-vocabulary)\n",
    "            * [Finding the natural number of topics](#Finding-the-natural-number-of-topics-for-Latent-Dirichlet-Allocationopics-to-fit-the-LDA-Model.)\n",
    "            * [LDA Topic Interpretation](#LDA-Topic-Interpretation)\n",
    "            * [Map the topic of each tweet ](#Map-the-topic-of-each-tweet)\n",
    "        * [Visualisations for Topic Analysis](#Visualisation-for-Topic-Analysis)\n",
    "    * [Sentiment Analysis](#Sentiment-Analysis)\n",
    "        * [Sentiment Analysis using Word Match](#Sentiment-Analysis-using-Word-Match)\n",
    "            * [Positive - Negative Word Lists](#Positive---Negative-Word-Lists)\n",
    "            * [Analysis on Tweets' main text](#Analysis-on-Tweets'-main-text)\n",
    "            * [Comparing sentiments of emoticons and text of the same tweet](#Comparing-sentiments-of-emoticons-and-text-of-the-same-tweet)\n",
    "            * [Comparing sentiment of main text with that of quoted text](#Comparing-sentiment-of-main-text-with-that-of-quoted-text)\n",
    "        * [Sentiment Analysis using Pattern](#Sentiment-Analysis-using-Pattern)\n",
    "        * [Visualisation for Sentiment Analysis](#Visualisation-for-Sentiment-Analysis)\n",
    "    * [Predictive Analysis](#Predictive-Analysis)\n",
    "        * [Feature Selection](#Feature-Selection)\n",
    "        * [Linear Regression](#Linear-Regression)\n",
    "        * [Ridge Regression](#Ridge-Regression)\n",
    "        * [Lasso Regression](#Lasso-Regression)\n",
    "        * [Random Forest](#Random-Forest)\n",
    "* [Take Away](#Take-Away)\n",
    "        \n",
    "       "
   ]
  },
  {
   "cell_type": "markdown",
   "metadata": {},
   "source": [
    "#Data"
   ]
  },
  {
   "cell_type": "markdown",
   "metadata": {},
   "source": [
    "## Scrape Tweets from Twitter API"
   ]
  },
  {
   "cell_type": "markdown",
   "metadata": {},
   "source": [
    "###Introduce the Twitter Stream API\n",
    "\n",
    "Twitter provides two kinds of API for developers, the REST APIs and Streaming APIs. The REST APIs provides programmatic access to read and write Twitter data. While the Streaming APIs continuously deliver new responses to REST API queries over a long-lived HTTP connection. It receives updates on the latest Tweets matching a search query, stay in sync with user profile updates, and more. Since our goal is to collecte real-time tweets, we will use the Stream API based on a Python implementation \"tweepy\". For more information about Twitter API, please read the information on https://dev.twitter.com/overview/documentation"
   ]
  },
  {
   "cell_type": "code",
   "execution_count": 9,
   "metadata": {
    "collapsed": true
   },
   "outputs": [],
   "source": [
    "import time, sys, tweepy\n",
    "from tweepy.streaming import StreamListener\n",
    "from tweepy import OAuthHandler\n",
    "from tweepy import Stream"
   ]
  },
  {
   "cell_type": "markdown",
   "metadata": {},
   "source": [
    "\n",
    "The Twitter APIs require to authorized request to Twitter via an OAuth endpoints. We have registered an OAuth for your application.\n",
    "\n",
    "All the Twitter API search results are returned in a JSON format. JSON is a way to encode complicated information in a platform-independent way. It could be considered the lingua franca of information exchange on the Internet. It is a rather simplistic and elegant way to encode complex data structures. To encode and decode JSON, we need the package \"json\".\n",
    "\n",
    "The code below allows us to collect twitter data. We started to collect tweets from Monday, November 23rd to Monday, November 30th, 2015. "
   ]
  },
  {
   "cell_type": "code",
   "execution_count": null,
   "metadata": {
    "collapsed": true
   },
   "outputs": [],
   "source": [
    "\"\"\"\n",
    "Class\n",
    "--------\n",
    "JSONListener\n",
    "\n",
    "This class is a wrap up for StreamListener to handles tweets are the \n",
    "received from the stream.\n",
    "This is a basic listener that just prints received tweets to stdout.\n",
    "    \n",
    "Parameters\n",
    "----------\n",
    "max_tweet: the maximum number of tweets the listener will receive.\n",
    "output folder: assign the value to designate the output folder for all json files.\n",
    "\n",
    "\n",
    "Output\n",
    "---------\n",
    "The class receives data from StreamListener and store them to the designated folder, \n",
    "with filename the time the listerner starts\n",
    "\"\"\"\n",
    "\n",
    "\n",
    "#[NEED TO UPDATE WITH THE ACTUAL CODE]\n",
    "# Go to http://dev.twitter.com and create an app.\n",
    "# The consumer key and secret will be generated for you after\n",
    "consumer_key=\"fyeZKOx2yQorVWIeir6Iefvzd\"\n",
    "consumer_secret=\"96eaL995tWhqyN2mjdT8IHqK6AEzvcn1qJAaSbjzw62TP5uaxO\"\n",
    "\n",
    "# After the step above, you will be redirected to your app's page.\n",
    "# Create an access token under the the \"Your access token\" section\n",
    "access_token=\"273534302-uY6aKA3iz9KTTgHsGBPEKln188FKocOfikAnbyuE\"\n",
    "access_token_secret=\"OfT42aA94rWPec1bqokFR7VygPu8QO6wv1Rdf25sOlKhO\"\n",
    "\n",
    "# List of cities: the numbers are the centers of each city, with square -/+ 0.2\n",
    "location_list = {'Harvard University, Cambridge' : [-71.1211537 - 0.3, 42.3735321 - 0.3, -71.1211537 + 0.3, 42.3735321 + 0.3]}\n",
    "\n",
    "class JSONListener(StreamListener):\n",
    "\n",
    "    def __init__(self, fprefix = 'streamer', max_tweets = 5):\n",
    "        self.counter = 0\n",
    "        self.fprefix = fprefix\n",
    "        self.output  = open('../../../Desktop/109data/' + fprefix + '.json', 'wb')\n",
    "        self.max_tweets = max_tweets\n",
    "        \n",
    "    def on_data(self, data):\n",
    "        if self.counter < self.max_tweets:\n",
    "            data = data.encode(\"UTF-8\")\n",
    "            self.output.write(data)\n",
    "            self.counter += 1\n",
    "\n",
    "            # Print the information\n",
    "            status = json.loads(data)\n",
    "            print '{} Tweets at [Time = {}]'.format(self.counter, status['created_at'])\n",
    "            return True\n",
    "        else:\n",
    "            self.output.close()\n",
    "            print 'Totally {} tweets collected'.format(self.max_tweets)\n",
    "            return False\n",
    "        \n",
    "\n",
    "        \n",
    "    def on_error(self, status):\n",
    "        print 'Error: ' + str(status)\n",
    "\n",
    "if __name__ == '__main__':\n",
    "    auth = OAuthHandler(consumer_key, consumer_secret)\n",
    "    auth.set_access_token(access_token, access_token_secret)\n",
    "    # Set Track\n",
    "    count = 0\n",
    "    while True:\n",
    "        listen = JSONListener(fprefix = time.strftime(\"%d-%m-%Y %H-%M-%S\"), max_tweets = 1000)\n",
    "\n",
    "        stream = Stream(auth, listen)\n",
    "\n",
    "        start = time.time()\n",
    "        stream.filter(locations = location_list['Harvard University, Cambridge'], track=['#ECEupgrade'])\n",
    "\n",
    "        print 'Job completed. Disconnecting stream...'\n",
    "        print 'Total Time:', time.time() - start\n",
    "\n",
    "        stream.disconnect()\n",
    "        count += 1"
   ]
  },
  {
   "cell_type": "markdown",
   "metadata": {},
   "source": [
    "##Combine Twitter Data\n",
    "\n",
    "After extracting daily tweets into json files, we need to combine all the json files to a master pool."
   ]
  },
  {
   "cell_type": "code",
   "execution_count": 2,
   "metadata": {
    "collapsed": false
   },
   "outputs": [],
   "source": [
    "\"\"\"\n",
    "The codes below combines all output files gathered by streaming API to a single list 'tweets_data'\n",
    "\n",
    "Each element in 'tweets_data' contains all the infomation of a single tweet.\n",
    "\"\"\"\n",
    "\n",
    "import os\n",
    "tweets_data = []\n",
    "\n",
    "for data_file_name in os.listdir(\"raw_data/data/\"):\n",
    "    if data_file_name.endswith(\".json\"): \n",
    "        #print data_file_name\n",
    "        tweets_file = open(\"raw_data/data/\" + data_file_name, \"r\")\n",
    "        for line in tweets_file:\n",
    "            try:\n",
    "                tweet = json.loads(line)\n",
    "                tweets_data.append(tweet)\n",
    "            except:\n",
    "                continue"
   ]
  },
  {
   "cell_type": "markdown",
   "metadata": {},
   "source": [
    "We collect 166,941 tweets in total from Monday Nov 23 to Monday Nov 30."
   ]
  },
  {
   "cell_type": "markdown",
   "metadata": {},
   "source": [
    "##Clean Data"
   ]
  },
  {
   "cell_type": "markdown",
   "metadata": {},
   "source": [
    "\n",
    "Each tweet have many features, and we focus on the following features:\n",
    "    - user id: the user's tweeter id\n",
    "    - followers_count: the number of followers\n",
    "    - friends_count: the number of people the user is following\n",
    "    - statuses_count: the number of status tweets sent in the past\n",
    "    - created_at_u: time the user account is created\n",
    "   \n",
    "    - created_at_t: time the tweet is created\n",
    "    - tweet_id: tweet's id\n",
    "    - text: the content of the tweet\n",
    "    - truncated: (boolean) whether the text is truncated or not.\n",
    "    - in_reply_to_status_id: whether the tweet is a reply ???\n",
    "    - retweeted_status: True if the tweet is a retweet\n",
    "    - lang: language of the text\n",
    "    - timestamp_ms: when the tweet is created.\n",
    "        -date: when date the tweet is created\n",
    "        -time: the time the tweet is created\n",
    "    \n",
    "    - place.full_name: location of tweets if geo enabled\n",
    "        -tweet_longitude, tweet_latitude: the midpoint of the area where the tweet is sent \n",
    "    - quoted_status.text: text of quoted tweet\n",
    "\n",
    "    \n"
   ]
  },
  {
   "cell_type": "code",
   "execution_count": 96,
   "metadata": {
    "collapsed": true
   },
   "outputs": [],
   "source": [
    "\"\"\"\n",
    "Function\n",
    "--------\n",
    "getCoords\n",
    "\n",
    "Get the longitude and latitude where the tweets were sent by computing the average boundaries\n",
    "\n",
    "Parameters\n",
    "----------\n",
    "tweet: one single tweet infomation extracted from tweets dataframe\n",
    "coord_type: mark the type of coordinate, 0 for longitude and 1 for latitude\n",
    "\n",
    "Output: either average longitude or latitude depending on coord_type\n",
    "\"\"\"\n",
    "\n",
    "def getCoords(tweet, coord_type):\n",
    "    if tweet['place'] is None:\n",
    "        return None;\n",
    "    coord = tweet['place']['bounding_box']['coordinates'][0]\n",
    "    result = []\n",
    "    for i in range(len(coord)):\n",
    "        result.append(coord[i][coord_type])\n",
    "    return np.mean(result)"
   ]
  },
  {
   "cell_type": "markdown",
   "metadata": {},
   "source": [
    "\n",
    "\n",
    "\n",
    "With tweets_data read from previous section, we are able to generate a raw dataframe containing all the tweets and use it for all future data cleaning and analysis.\n",
    "\n",
    "Here we also convert timestamp to Boston local time and computed tweet coordinate using getCoords function defined above."
   ]
  },
  {
   "cell_type": "code",
   "execution_count": 7,
   "metadata": {
    "collapsed": true
   },
   "outputs": [],
   "source": [
    "from datetime import datetime\n",
    "from pytz import timezone\n",
    "eastern = timezone('US/Eastern')"
   ]
  },
  {
   "cell_type": "code",
   "execution_count": null,
   "metadata": {
    "collapsed": true
   },
   "outputs": [],
   "source": [
    "\n",
    "\"\"\"\n",
    "Note:\n",
    "\n",
    "In this section of codes, two parts worth attention:\n",
    "\n",
    "1) Call datetime.fromtimestamp()\n",
    "Process timestamp to extract date and time according to local Boston time zone\n",
    "\n",
    "2) Call getCoords(tweet, coord_type)\n",
    "compute average longitude and latitude of the tweet\n",
    "\n",
    "\"\"\"\n",
    "\n",
    "tweets = pd.DataFrame()\n",
    "tweets['user_id'] = map(lambda tweet: tweet['user']['id'], tweets_data)\n",
    "tweets['date'] = map(lambda tweet: datetime.fromtimestamp(float(tweet['timestamp_ms'])/1000.0, tz = eastern).date().strftime(\"%Y-%m-%d\"), tweets_data)\n",
    "tweets['time'] = map(lambda tweet: datetime.fromtimestamp(float(tweet['timestamp_ms'])/1000.0, tz = eastern).time().strftime(\"%H:%M:%S\"), tweets_data)\n",
    "tweets['tweet_longitude'] = map(lambda tweet: getCoords(tweet, 0), tweets_data)\n",
    "tweets['tweet_latitude'] = map(lambda tweet: getCoords(tweet, 1), tweets_data)\n",
    "tweets['tweet_id'] = map(lambda tweet: tweet['id'], tweets_data)\n",
    "tweets['text'] = map(lambda tweet: tweet['text'], tweets_data)\n",
    "tweets['followers_count'] = map(lambda tweet: tweet['user']['followers_count'], tweets_data)\n",
    "tweets['friends_count'] = map(lambda tweet: tweet['user']['friends_count'], tweets_data)\n",
    "tweets['statuses_count'] = map(lambda tweet: tweet['user']['statuses_count'], tweets_data)\n",
    "tweets['created_at_u'] = map(lambda tweet: tweet['user']['created_at'], tweets_data)\n",
    "tweets['truncated'] = map(lambda tweet: tweet['truncated'], tweets_data)\n",
    "tweets['quoted_text'] = map(lambda tweet: tweet['quoted_status']['text'] if (tweet['is_quote_status'] == True) & ('quoted_status' in tweet.keys()) else None, tweets_data)\n",
    "tweets['in_reply_to_status_id'] = map(lambda tweet: tweet['in_reply_to_status_id'], tweets_data)\n",
    "tweets['retweeted_status'] = map(lambda tweet: tweet['retweeted_status'] if 'retweeted_status' in tweet.keys() else None, tweets_data)\n",
    "tweets['timestamp_ms'] = map(lambda tweet: tweet['timestamp_ms'], tweets_data)\n",
    "tweets['lang'] = map(lambda tweet: tweet['lang'], tweets_data)\n",
    "tweets['country'] = map(lambda tweet: tweet['place']['country'] if tweet['place'] != None else None, tweets_data)\n",
    "tweets['place_full_name'] = map(lambda tweet: tweet['place']['full_name'] if tweet['place'] != None else None, tweets_data)\n"
   ]
  },
  {
   "cell_type": "markdown",
   "metadata": {},
   "source": [
    "Clean NaN values:"
   ]
  },
  {
   "cell_type": "code",
   "execution_count": null,
   "metadata": {
    "collapsed": true
   },
   "outputs": [],
   "source": [
    "tweets.loc[tweets.quoted_text.isnull(),'quoted_text'] = None\n",
    "tweets.loc[tweets.in_reply_to_status_id.isnull(),'in_reply_to_status_id'] = 0\n",
    "tweets.loc[tweets.retweeted_status.isnull(),'retweeted_status'] = False"
   ]
  },
  {
   "cell_type": "markdown",
   "metadata": {},
   "source": [
    "And finally we save it. This ends the initial data gathering and combining part of the project. Save the csv file, store it somewhere safe first. Later we start from reading the csv file every time we reopen the notebook."
   ]
  },
  {
   "cell_type": "code",
   "execution_count": null,
   "metadata": {
    "collapsed": true
   },
   "outputs": [],
   "source": [
    "tweets.to_csv(\"raw_data/dftweets.csv\", index = False, encoding='utf-8')"
   ]
  },
  {
   "cell_type": "code",
   "execution_count": 12,
   "metadata": {
    "collapsed": false
   },
   "outputs": [
    {
     "name": "stderr",
     "output_type": "stream",
     "text": [
      "//anaconda/lib/python2.7/site-packages/pandas/io/parsers.py:1170: DtypeWarning: Columns (0,4,5,8,11,14) have mixed types. Specify dtype option on import or set low_memory=False.\n",
      "  data = self._reader.read(nrows)\n"
     ]
    },
    {
     "data": {
      "text/html": [
       "<div>\n",
       "<table border=\"1\" class=\"dataframe\">\n",
       "  <thead>\n",
       "    <tr style=\"text-align: right;\">\n",
       "      <th></th>\n",
       "      <th>user_id</th>\n",
       "      <th>date</th>\n",
       "      <th>time</th>\n",
       "      <th>tweet_longitude</th>\n",
       "      <th>tweet_latitude</th>\n",
       "      <th>tweet_id</th>\n",
       "      <th>text</th>\n",
       "      <th>followers_count</th>\n",
       "      <th>friends_count</th>\n",
       "      <th>statuses_count</th>\n",
       "      <th>created_at_u</th>\n",
       "      <th>truncated</th>\n",
       "      <th>quoted_text</th>\n",
       "      <th>in_reply_to_status_id</th>\n",
       "      <th>retweeted_status</th>\n",
       "      <th>timestamp_ms</th>\n",
       "      <th>lang</th>\n",
       "      <th>country</th>\n",
       "      <th>place_full_name</th>\n",
       "    </tr>\n",
       "  </thead>\n",
       "  <tbody>\n",
       "    <tr>\n",
       "      <th>0</th>\n",
       "      <td>3095695629</td>\n",
       "      <td>2015-11-23</td>\n",
       "      <td>14:06:44</td>\n",
       "      <td>-71.683502</td>\n",
       "      <td>42.0369325</td>\n",
       "      <td>668868299040665603</td>\n",
       "      <td>@DopeAhhAquarius lemme come over bro :(</td>\n",
       "      <td>7424</td>\n",
       "      <td>985</td>\n",
       "      <td>36984</td>\n",
       "      <td>Thu Mar 19 01:33:34 +0000 2015</td>\n",
       "      <td>False</td>\n",
       "      <td>NaN</td>\n",
       "      <td>6.688680e+17</td>\n",
       "      <td>False</td>\n",
       "      <td>1.448306e+12</td>\n",
       "      <td>en</td>\n",
       "      <td>United States</td>\n",
       "      <td>Massachusetts, USA</td>\n",
       "    </tr>\n",
       "    <tr>\n",
       "      <th>1</th>\n",
       "      <td>2174756318</td>\n",
       "      <td>2015-11-23</td>\n",
       "      <td>14:06:44</td>\n",
       "      <td>-71.326858</td>\n",
       "      <td>42.636248</td>\n",
       "      <td>668868299116138496</td>\n",
       "      <td>I've been in a bad mood since like 2010</td>\n",
       "      <td>110</td>\n",
       "      <td>159</td>\n",
       "      <td>2199</td>\n",
       "      <td>Mon Nov 04 21:06:33 +0000 2013</td>\n",
       "      <td>False</td>\n",
       "      <td>NaN</td>\n",
       "      <td>0.000000e+00</td>\n",
       "      <td>False</td>\n",
       "      <td>1.448306e+12</td>\n",
       "      <td>en</td>\n",
       "      <td>United States</td>\n",
       "      <td>Lowell, MA</td>\n",
       "    </tr>\n",
       "    <tr>\n",
       "      <th>2</th>\n",
       "      <td>408976087</td>\n",
       "      <td>2015-11-23</td>\n",
       "      <td>14:06:46</td>\n",
       "      <td>-71.088755</td>\n",
       "      <td>42.3136695</td>\n",
       "      <td>668868309526429697</td>\n",
       "      <td>what's the appropriate age for me to start act...</td>\n",
       "      <td>514</td>\n",
       "      <td>246</td>\n",
       "      <td>37162</td>\n",
       "      <td>Thu Nov 10 03:50:52 +0000 2011</td>\n",
       "      <td>False</td>\n",
       "      <td>NaN</td>\n",
       "      <td>0.000000e+00</td>\n",
       "      <td>False</td>\n",
       "      <td>1.448306e+12</td>\n",
       "      <td>en</td>\n",
       "      <td>United States</td>\n",
       "      <td>Boston, MA</td>\n",
       "    </tr>\n",
       "    <tr>\n",
       "      <th>3</th>\n",
       "      <td>1163319366</td>\n",
       "      <td>2015-11-23</td>\n",
       "      <td>14:06:52</td>\n",
       "      <td>-71.312617</td>\n",
       "      <td>42.6931085</td>\n",
       "      <td>668868335573012480</td>\n",
       "      <td>@JackSillin @AlexReedWX @WesternMEwx ...I assu...</td>\n",
       "      <td>465</td>\n",
       "      <td>604</td>\n",
       "      <td>57037</td>\n",
       "      <td>Sat Feb 09 16:02:36 +0000 2013</td>\n",
       "      <td>False</td>\n",
       "      <td>NaN</td>\n",
       "      <td>6.688683e+17</td>\n",
       "      <td>False</td>\n",
       "      <td>1.448306e+12</td>\n",
       "      <td>en</td>\n",
       "      <td>United States</td>\n",
       "      <td>Dracut, MA</td>\n",
       "    </tr>\n",
       "    <tr>\n",
       "      <th>4</th>\n",
       "      <td>1600099118</td>\n",
       "      <td>2015-11-23</td>\n",
       "      <td>14:06:53</td>\n",
       "      <td>-96.307306</td>\n",
       "      <td>65.8381145</td>\n",
       "      <td>668868340136484864</td>\n",
       "      <td>https://t.co/pEaLZwrJpj https://t.co/MZKFV7H10o</td>\n",
       "      <td>3</td>\n",
       "      <td>43</td>\n",
       "      <td>26716</td>\n",
       "      <td>Wed Jul 17 05:04:16 +0000 2013</td>\n",
       "      <td>False</td>\n",
       "      <td>NaN</td>\n",
       "      <td>0.000000e+00</td>\n",
       "      <td>False</td>\n",
       "      <td>1.448306e+12</td>\n",
       "      <td>und</td>\n",
       "      <td>Canada</td>\n",
       "      <td>Canada</td>\n",
       "    </tr>\n",
       "  </tbody>\n",
       "</table>\n",
       "</div>"
      ],
      "text/plain": [
       "      user_id        date      time  tweet_longitude tweet_latitude            tweet_id                                               text  followers_count friends_count  statuses_count                    created_at_u truncated quoted_text  in_reply_to_status_id retweeted_status  timestamp_ms lang        country     place_full_name\n",
       "0  3095695629  2015-11-23  14:06:44       -71.683502     42.0369325  668868299040665603            @DopeAhhAquarius lemme come over bro :(             7424           985           36984  Thu Mar 19 01:33:34 +0000 2015     False         NaN           6.688680e+17            False  1.448306e+12   en  United States  Massachusetts, USA\n",
       "1  2174756318  2015-11-23  14:06:44       -71.326858      42.636248  668868299116138496            I've been in a bad mood since like 2010              110           159            2199  Mon Nov 04 21:06:33 +0000 2013     False         NaN           0.000000e+00            False  1.448306e+12   en  United States          Lowell, MA\n",
       "2   408976087  2015-11-23  14:06:46       -71.088755     42.3136695  668868309526429697  what's the appropriate age for me to start act...              514           246           37162  Thu Nov 10 03:50:52 +0000 2011     False         NaN           0.000000e+00            False  1.448306e+12   en  United States          Boston, MA\n",
       "3  1163319366  2015-11-23  14:06:52       -71.312617     42.6931085  668868335573012480  @JackSillin @AlexReedWX @WesternMEwx ...I assu...              465           604           57037  Sat Feb 09 16:02:36 +0000 2013     False         NaN           6.688683e+17            False  1.448306e+12   en  United States          Dracut, MA\n",
       "4  1600099118  2015-11-23  14:06:53       -96.307306     65.8381145  668868340136484864    https://t.co/pEaLZwrJpj https://t.co/MZKFV7H10o                3            43           26716  Wed Jul 17 05:04:16 +0000 2013     False         NaN           0.000000e+00            False  1.448306e+12  und         Canada              Canada"
      ]
     },
     "execution_count": 12,
     "metadata": {},
     "output_type": "execute_result"
    }
   ],
   "source": [
    "dftouse=pd.read_csv(\"raw_data/dftweets.csv\")\n",
    "dftouse.head()"
   ]
  },
  {
   "cell_type": "markdown",
   "metadata": {},
   "source": [
    "###Sanity Check Data###\n",
    "There might be corrupted data during the process of extracting and dumping, and we want to see the frequency and impact of these corrupted records. We found that there are only 2 records that look corrupted, and therefore remove them from the dataframe we work with."
   ]
  },
  {
   "cell_type": "code",
   "execution_count": 13,
   "metadata": {
    "collapsed": false
   },
   "outputs": [
    {
     "data": {
      "text/plain": [
       "user_id                       0\n",
       "date                          0\n",
       "time                          0\n",
       "tweet_longitude              78\n",
       "tweet_latitude               78\n",
       "tweet_id                      0\n",
       "text                          2\n",
       "followers_count               2\n",
       "friends_count                 2\n",
       "statuses_count                2\n",
       "created_at_u                  2\n",
       "truncated                     2\n",
       "quoted_text              154439\n",
       "in_reply_to_status_id         4\n",
       "retweeted_status              4\n",
       "timestamp_ms                  4\n",
       "lang                          4\n",
       "country                      82\n",
       "place_full_name              82\n",
       "dtype: int64"
      ]
     },
     "execution_count": 13,
     "metadata": {},
     "output_type": "execute_result"
    }
   ],
   "source": [
    "dftouse.isnull().sum()"
   ]
  },
  {
   "cell_type": "markdown",
   "metadata": {},
   "source": [
    "We expect to see lots of NaN's for quoted_text or country/place, as not all tweets contain that data. However, there seems to be two tweets that are missing lots of fields:"
   ]
  },
  {
   "cell_type": "code",
   "execution_count": 15,
   "metadata": {
    "collapsed": false,
    "scrolled": true
   },
   "outputs": [
    {
     "data": {
      "text/html": [
       "<div>\n",
       "<table border=\"1\" class=\"dataframe\">\n",
       "  <thead>\n",
       "    <tr style=\"text-align: right;\">\n",
       "      <th></th>\n",
       "      <th>user_id</th>\n",
       "      <th>date</th>\n",
       "      <th>time</th>\n",
       "      <th>tweet_longitude</th>\n",
       "      <th>tweet_latitude</th>\n",
       "      <th>tweet_id</th>\n",
       "      <th>text</th>\n",
       "      <th>followers_count</th>\n",
       "      <th>friends_count</th>\n",
       "      <th>statuses_count</th>\n",
       "      <th>created_at_u</th>\n",
       "      <th>truncated</th>\n",
       "      <th>quoted_text</th>\n",
       "      <th>in_reply_to_status_id</th>\n",
       "      <th>retweeted_status</th>\n",
       "      <th>timestamp_ms</th>\n",
       "      <th>lang</th>\n",
       "      <th>country</th>\n",
       "      <th>place_full_name</th>\n",
       "    </tr>\n",
       "  </thead>\n",
       "  <tbody>\n",
       "  </tbody>\n",
       "</table>\n",
       "</div>"
      ],
      "text/plain": [
       "Empty DataFrame\n",
       "Columns: [user_id, date, time, tweet_longitude, tweet_latitude, tweet_id, text, followers_count, friends_count, statuses_count, created_at_u, truncated, quoted_text, in_reply_to_status_id, retweeted_status, timestamp_ms, lang, country, place_full_name]\n",
       "Index: []"
      ]
     },
     "execution_count": 15,
     "metadata": {},
     "output_type": "execute_result"
    }
   ],
   "source": [
    "dftouse[dftouse.tweet_id.isnull()]"
   ]
  },
  {
   "cell_type": "markdown",
   "metadata": {},
   "source": [
    "Therefore, we decide to remove these two tweets from our dataframe, along with the tweets that are missing geographical information, because most of our analyses involves geographical variance. Also, we remove all tweets that are not in English, as we won't be able to accurately classify topics and sentiments for these tweets."
   ]
  },
  {
   "cell_type": "code",
   "execution_count": 16,
   "metadata": {
    "collapsed": false,
    "scrolled": true
   },
   "outputs": [
    {
     "data": {
      "text/plain": [
       "en     138468\n",
       "und     18152\n",
       "es       2705\n",
       "fr       1590\n",
       "pt       1287\n",
       "tl        755\n",
       "ar        696\n",
       "in        464\n",
       "de        323\n",
       "it        264\n",
       "tr        199\n",
       "et        198\n",
       "ro        188\n",
       "ja        167\n",
       "nl        158\n",
       "no        150\n",
       "da        129\n",
       "sv        127\n",
       "pl        117\n",
       "ne         75\n",
       "zh         74\n",
       "bs         69\n",
       "ru         69\n",
       "th         58\n",
       "fi         52\n",
       "sl         51\n",
       "hi         47\n",
       "sk         43\n",
       "lv         40\n",
       "hu         36\n",
       "is         33\n",
       "lt         33\n",
       "el         33\n",
       "hr         29\n",
       "fa         22\n",
       "ko         15\n",
       "iw          9\n",
       "bg          6\n",
       "ur          6\n",
       "vi          2\n",
       "uk          1\n",
       "te          1\n",
       "dtype: int64"
      ]
     },
     "execution_count": 16,
     "metadata": {},
     "output_type": "execute_result"
    }
   ],
   "source": [
    "dftouse[\"lang\"].value_counts()"
   ]
  },
  {
   "cell_type": "code",
   "execution_count": 17,
   "metadata": {
    "collapsed": false
   },
   "outputs": [],
   "source": [
    "dftouse = dftouse[dftouse.tweet_id.notnull() & dftouse.place_full_name.notnull()]\n",
    "dftouse = dftouse[dftouse.lang == \"en\"]\n",
    "#dftouse.isnull().sum()"
   ]
  },
  {
   "cell_type": "markdown",
   "metadata": {},
   "source": [
    "###Spark Attempts to Clean Data###\n",
    "\n",
    "Initially, we tried reading in and cleaning data in Spark, because SPARK SQL gives very clean and nice functionalities for showing multi-layer data. We were successful for individual datasets but failed on the combined data. The problem arises when we are trying to use SPARK SQL to read the whole tweet data, and there is memory issues potentially due to the large data size. \n",
    "\n",
    "Therefore, we did our initial data cleaning using Pandas, and then convert the dataframe into Spark dataframe for natural language processing."
   ]
  },
  {
   "cell_type": "code",
   "execution_count": null,
   "metadata": {
    "collapsed": true
   },
   "outputs": [],
   "source": [
    "# Read in json file: (create a list of tweets)\n",
    "# with open(\"raw_data/pre-thanksgiving data/26-11-2015 10-19-06.json\") as json_file:    \n",
    "import os\n",
    "with open('raw_data/combined.json', 'w') as fp:\n",
    "    for data_file_name in os.listdir(\"raw_data/pre-thanksgiving data/\"):\n",
    "        if data_file_name.endswith(\".json\"): \n",
    "            for line in open(\"raw_data/pre-thanksgiving data/\"+data_file_name):\n",
    "                json.dump(line, fp)"
   ]
  },
  {
   "cell_type": "code",
   "execution_count": null,
   "metadata": {
    "collapsed": true
   },
   "outputs": [],
   "source": [
    "# tweetdf = sqlsc.read.json(\"raw_data/combined.json\")\n",
    "tweetdfspark = sqlsc.read.json(\"raw_data/pre-thanksgiving data/26-11-2015 10-19-06.json\")\n",
    "#tweetdf.show(5)"
   ]
  },
  {
   "cell_type": "code",
   "execution_count": 3,
   "metadata": {
    "collapsed": false,
    "scrolled": false
   },
   "outputs": [],
   "source": [
    "# We cache the data to make sure it is only read once from disk\n",
    "tweetdf.cache()\n",
    "print \"How many tweets do we have?\", tweetdf.count()\n",
    "# Then we use printSchema to lay out the structure of the tweet data\n",
    "#tweetdf.printSchema()"
   ]
  },
  {
   "cell_type": "markdown",
   "metadata": {},
   "source": [
    "One of the key challenges in data cleaning on tweets is that the desired variables are usually sub-attributes that are a few layers nested inside different categories.\n",
    "\n",
    "Our solution is to use Spark SQL, which allows us to use SQL-like queries to select, filter and aggregate the Spark Dataframe.\n",
    "http://spark.apache.org/docs/latest/sql-programming-guide.html\n",
    "\n"
   ]
  },
  {
   "cell_type": "code",
   "execution_count": 6,
   "metadata": {
    "collapsed": false,
    "scrolled": true
   },
   "outputs": [],
   "source": [
    "# Create temporary table for SQL queries\n",
    "tweetdf.registerTempTable(\"tweetdf\") \n",
    "dftouse = sqlsc.sql(\"SELECT user.id as uid, user.location as location_u, user.followers_count, user.friends_count, user.statuses_count, user.created_at as created_at_u, created_at as created_at_t, id as tid, text, truncated, in_reply_to_status_id, retweeted, quoted_status.text as quote_text, lang, timestamp_ms, place.full_name as location_t FROM tweetdf\")"
   ]
  },
  {
   "cell_type": "code",
   "execution_count": 7,
   "metadata": {
    "collapsed": false,
    "scrolled": true
   },
   "outputs": [
    {
     "data": {
      "text/plain": [
       "[Row(uid=1652821, location_u=u'boston, ma', followers_count=2060, friends_count=1508, statuses_count=38508, created_at_u=u'Tue Mar 20 17:49:39 +0000 2007', created_at_t=u'Thu Nov 26 15:19:08 +0000 2015', tid=669898187356954624, text=u'That was quick https://t.co/te2gtFO47Q', truncated=False, in_reply_to_status_id=None, retweeted=False, quote_text=u'It hasnt taken long for community members to make #PiZero #RaspberryPi cases for #3DPrinting https://t.co/3FbnFwEcpv https://t.co/OrUCPjNhDM', lang=u'en', timestamp_ms=u'1448551148629', location_t=u'Lowell, MA'),\n",
       " Row(uid=96374440, location_u=u'Springfield, MA', followers_count=1225, friends_count=1686, statuses_count=28033, created_at_u=u'Sat Dec 12 16:43:59 +0000 2009', created_at_t=u'Thu Nov 26 15:19:10 +0000 2015', tid=669898193425948672, text=u\"First legal drink with my little sister last night #ThanksgivingEve #tobysilovethisbar @ Toby Keith's\\u2026 https://t.co/sfo45GwihA\", truncated=False, in_reply_to_status_id=None, retweeted=False, quote_text=None, lang=u'en', timestamp_ms=u'1448551150076', location_t=u'Foxborough, MA'),\n",
       " Row(uid=314797090, location_u=None, followers_count=2131, friends_count=1899, statuses_count=116434, created_at_u=u'Fri Jun 10 20:38:46 +0000 2011', created_at_t=u'Thu Nov 26 15:19:12 +0000 2015', tid=669898201655300096, text=u\"@JonnieKruger lmao Na bro \\U0001f602. You'll look like a savage though \\U0001f480\", truncated=False, in_reply_to_status_id=669897772183773184, retweeted=False, quote_text=None, lang=u'en', timestamp_ms=u'1448551152038', location_t=u'Boston, MA')]"
      ]
     },
     "execution_count": 7,
     "metadata": {},
     "output_type": "execute_result"
    }
   ],
   "source": [
    "dftouse.take(3)"
   ]
  },
  {
   "cell_type": "code",
   "execution_count": 320,
   "metadata": {
    "collapsed": false
   },
   "outputs": [],
   "source": [
    "# Clean some variables to usable formats as needed\n",
    "import datetime\n",
    "starttime = datetime.datetime(1970,1,1,0,0,0)\n",
    "def clean_df((uid, location_u, followers_count, friends_count, statuses_count, created_at_u, created_at_t, tid, text, truncated, in_reply_to_status_id, retweeted, quote_text, lang, timestamp_ms, location_t)):\n",
    "# Date and Time of Tweet\n",
    "    timestamp = starttime + datetime.timedelta(milliseconds = int(timestamp_ms))\n",
    "    #add date variable --- J#\n",
    "    date=timestamp.date()\n",
    "    return uid, location_u, followers_count, friends_count, statuses_count, created_at_u, created_at_t, tid, text, truncated, in_reply_to_status_id, retweeted, quote_text, lang, timestamp, location_t, date"
   ]
  },
  {
   "cell_type": "code",
   "execution_count": 321,
   "metadata": {
    "collapsed": false,
    "scrolled": false
   },
   "outputs": [
    {
     "data": {
      "text/plain": [
       "[(1652821,\n",
       "  u'boston, ma',\n",
       "  2060,\n",
       "  1508,\n",
       "  38508,\n",
       "  u'Tue Mar 20 17:49:39 +0000 2007',\n",
       "  u'Thu Nov 26 15:19:08 +0000 2015',\n",
       "  669898187356954624,\n",
       "  u'That was quick https://t.co/te2gtFO47Q',\n",
       "  False,\n",
       "  None,\n",
       "  False,\n",
       "  u'It hasnt taken long for community members to make #PiZero #RaspberryPi cases for #3DPrinting https://t.co/3FbnFwEcpv https://t.co/OrUCPjNhDM',\n",
       "  u'en',\n",
       "  datetime.datetime(2015, 11, 26, 15, 19, 8, 629000),\n",
       "  u'Lowell, MA',\n",
       "  datetime.date(2015, 11, 26))]"
      ]
     },
     "execution_count": 321,
     "metadata": {},
     "output_type": "execute_result"
    }
   ],
   "source": [
    "dftouse1 = dftouse.map(clean_df)\n",
    "dftouse1.take(1)"
   ]
  },
  {
   "cell_type": "markdown",
   "metadata": {},
   "source": [
    "<img src=\"https://media.giphy.com/media/9Y5BbDSkSTiY8/giphy.gif\">\n",
    "####---end of the failed attempt---###\n"
   ]
  },
  {
   "cell_type": "markdown",
   "metadata": {},
   "source": [
    "###Initial Data Cleaning in Pandas"
   ]
  },
  {
   "cell_type": "markdown",
   "metadata": {},
   "source": [
    "#####1. Clean Date and Timestamp\n",
    "#####(This has already been down in Clean Data section - no need to rerun)\n",
    "*Note: Already modified this part and get job done in the dataframe initiation stage...*\n",
    "\n",
    "\n",
    "Use microsecond variable to compute the exact timestamp for each tweet."
   ]
  },
  {
   "cell_type": "code",
   "execution_count": 5,
   "metadata": {
    "collapsed": false
   },
   "outputs": [],
   "source": [
    "import datetime\n",
    "starttime = datetime.datetime(1970,1,1,0,0,0)\n",
    "def clean_df(time_ms):\n",
    "    timestamp = starttime + datetime.timedelta(milliseconds = int(time_ms))\n",
    "    return timestamp\n",
    "dftouse['timestamp'] = dftouse['timestamp_ms'].apply(clean_df)\n",
    "dftouse['date'] = dftouse['timestamp'].apply(lambda r: r.date())"
   ]
  },
  {
   "cell_type": "code",
   "execution_count": 9,
   "metadata": {
    "collapsed": true
   },
   "outputs": [],
   "source": [
    "dftouse.to_csv(\"raw_data/dftweet_datetime.csv\", index = False)"
   ]
  },
  {
   "cell_type": "code",
   "execution_count": 19,
   "metadata": {
    "collapsed": false
   },
   "outputs": [
    {
     "data": {
      "text/plain": [
       "138396"
      ]
     },
     "execution_count": 19,
     "metadata": {},
     "output_type": "execute_result"
    }
   ],
   "source": [
    "len(dftouse)"
   ]
  },
  {
   "cell_type": "markdown",
   "metadata": {},
   "source": [
    "#####2. Clean Hashtags"
   ]
  },
  {
   "cell_type": "markdown",
   "metadata": {},
   "source": [
    "Beause thanksgiving and shopping may be quoted in different formats in hashtags, we use regular expression to identify hashtags about thanksgiving and shopping. And we define a function `regreform` to formate hashtag texts. We lemmatize other words by using `gensim` package.\n",
    "\n",
    "Note that lemmatization is type of normalization that treats different inflected forms of a word as a single unit (\"work\", \"working\", \"works\", \"worked\", \"working\" => same lemma: \"work\"):\n",
    "         "
   ]
  },
  {
   "cell_type": "code",
   "execution_count": 20,
   "metadata": {
    "collapsed": true
   },
   "outputs": [],
   "source": [
    "#keywords\n",
    "thxgiving=[r'[\\w_]giving',r'turkey']\n",
    "giving_re = re.compile(r'('+'|'.join(thxgiving)+')', re.VERBOSE | re.IGNORECASE)\n",
    "shopping=[r'macys',\n",
    "          r'shop',\n",
    "          r'nordstrom',\n",
    "          r'amazon',\n",
    "          r'blackfriday',\n",
    "          r'bloomingdales',\n",
    "          r'bestbuy',\n",
    "          r'target',\n",
    "          r'cybermonday',\n",
    "          r'[\\w_]sale']\n",
    "shop_re=re.compile(r'('+'|'.join(shopping)+')', re.VERBOSE | re.IGNORECASE)"
   ]
  },
  {
   "cell_type": "code",
   "execution_count": 21,
   "metadata": {
    "collapsed": true
   },
   "outputs": [],
   "source": [
    "import gensim\n",
    "\"\"\"\n",
    "Function\n",
    "--------\n",
    "regreform\n",
    "\n",
    "Reformate hashtags extracted from text and quoted text\n",
    "\n",
    "Parameters\n",
    "----------\n",
    "textlist : a list of hashtag texts.\n",
    "\n",
    "Output: a list of reformatted hashtags\n",
    "\"\"\"\n",
    "\n",
    "\n",
    "def regreform(textlist):\n",
    "    tokens=set()\n",
    "\n",
    "    for token in textlist:\n",
    "        \n",
    "        #add thanksgiving/NN to token list if textlist have \n",
    "        #mentioned thanksgiving\n",
    "        if giving_re.search(token):\n",
    "            tokens.add('thanksgiving/NN')\n",
    "            if shop_re.search(token):\n",
    "                tokens.add('shopping/NN')\n",
    "        \n",
    "        #add shopping/NN to token list if textlist have \n",
    "        #mentioned shopping\n",
    "        elif shop_re.search(token):\n",
    "            tokens.add('shopping/NN')\n",
    "        else:\n",
    "            \n",
    "        #lemmatize other words\n",
    "            t=gensim.utils.lemmatize(token)\n",
    "            if len(t)>0:\n",
    "                tokens.add(t[0])\n",
    "            else:\n",
    "                tokens.add(token)\n",
    "    \n",
    "    return list(tokens)"
   ]
  },
  {
   "cell_type": "markdown",
   "metadata": {},
   "source": [
    "####3. Extract hashtags, emoticons, and emoji"
   ]
  },
  {
   "cell_type": "markdown",
   "metadata": {},
   "source": [
    "Emoticons and emoji are quite popular, and people tend to include them in their tweets. In particular, emoji is very useful for our analysis. For example, 📀 refers DVD. If we are able to replace emoji with the items they represent, we will obtain more information about a tweet.\n",
    "\n",
    "We found a emoji list with explanation for each emoji [here](http://ftp.unicode.org/Public/emoji/1.0/emoji-data.txt), and we use it to create a emoji dictionary."
   ]
  },
  {
   "cell_type": "code",
   "execution_count": 22,
   "metadata": {
    "collapsed": true
   },
   "outputs": [],
   "source": [
    "#'http://ftp.unicode.org/Public/emoji/1.0/emoji-data.txt'\n",
    "f = open('raw_data/emoji-data.txt','r');\n",
    "mapping = {};\n",
    "for line in f:\n",
    "    line = line.decode('utf-8')\n",
    "    line=re.sub('\\(',\";\",line)\n",
    "    line=re.sub('\\)',\";\",line)\n",
    "    linelist=line.split(';')\n",
    "    mapping[linelist[5]] = linelist[6].strip()\n",
    "f.close;"
   ]
  },
  {
   "cell_type": "code",
   "execution_count": 24,
   "metadata": {
    "collapsed": false
   },
   "outputs": [],
   "source": [
    "#source: http://marcobonzanini.com/2015/03/09/mining-twitter-data-with-python-part-2/\n",
    "    \n",
    "emoticons_str = r\"\"\"\n",
    "    (?:\n",
    "        [:=;] # Eyes\n",
    "        [oO\\-]? # Nose (optional)\n",
    "        [D\\)\\]\\(\\[/\\\\OpP] # Mouth\n",
    "    )\"\"\"\n",
    "\n",
    "#we are not interested in url, and @ mentions\n",
    "\n",
    "hash_tags= r\"(?:\\#+[\\w_]+[\\w\\'_\\-]*[\\w_]+)\"\n",
    "\n",
    "html=r'<[^>]+>'\n",
    "\n",
    "url=r'http[s]?://(?:[a-z]|[0-9]|[$-_@.&+]|[!*\\(\\),]|(?:%[0-9a-f][0-9a-f]))+'\n",
    "\n",
    "mention=r'(?:@[?\\w_]+)'\n",
    "\n",
    "regex1=r\"\\.{2,}\"\n",
    "\n",
    "regex2=r\"\\-{2,}\"\n",
    "\n",
    "#emoji\n",
    "try:\n",
    "    # UCS-4\n",
    "    emoji_re = re.compile(u'([\\U00002600-\\U000027BF])|([\\U0001f300-\\U0001f64F])|([\\U0001f680-\\U0001f6FF])')\n",
    "except re.error:\n",
    "    # UCS-2\n",
    "    emoji_re = re.compile(u'([\\u2600-\\u27BF])|([\\uD83C][\\uDF00-\\uDFFF])|([\\uD83D][\\uDC00-\\uDE4F])|([\\uD83D][\\uDE80-\\uDEFF])')\n",
    "\n",
    "\n",
    "regex_str = [\n",
    "    emoticons_str,\n",
    "    html, # HTML tags\n",
    "    mention, # @-mentions\n",
    "    hash_tags, # hash-tags\n",
    "    url, # URLs\n",
    "    r'(?:(?:\\d+,?)+(?:\\.?\\d+)?)', # numbers\n",
    "    r\"(?:[a-z][a-z'\\-_]+[a-z])\", # words with - and '\n",
    "    r'(?:[\\w_]+)', # other words\n",
    "    regex1,\n",
    "    regex2,\n",
    "    r'(?:\\S)' # anything else\n",
    "]\n",
    "\n",
    "\n",
    "remove_str=[\n",
    "    emoticons_str,\n",
    "    html, # HTML tags\n",
    "    mention, # @-mentions ????\n",
    "    url, # URLs\n",
    "    regex1,\n",
    "    regex2,\n",
    "]\n",
    "    \n",
    "\n",
    "tokens_re = re.compile(r'('+'|'.join(regex_str)+')', re.VERBOSE | re.IGNORECASE)\n",
    "remove_re = re.compile(r'('+'|'.join(remove_str)+')', re.VERBOSE | re.IGNORECASE)\n",
    "emoticon_re = re.compile(r'^'+emoticons_str+'$', re.VERBOSE | re.IGNORECASE)\n",
    "hash_tags_re = re.compile(hash_tags, re.VERBOSE | re.IGNORECASE)\n",
    "   "
   ]
  },
  {
   "cell_type": "markdown",
   "metadata": {},
   "source": [
    "The function below tokenizes the text, and it is able to identify hashtags, emoticons, emoji, url, html tags, and mention tag of a tweet."
   ]
  },
  {
   "cell_type": "code",
   "execution_count": 25,
   "metadata": {
    "collapsed": true
   },
   "outputs": [],
   "source": [
    "\"\"\"\n",
    "Function\n",
    "--------\n",
    "tokenize\n",
    "\n",
    "Convert text to tokens, if the text has emoji,\n",
    "convert emoji to text using `mapping`, and save as a list.\n",
    "\n",
    "Parameters\n",
    "----------\n",
    "s: text\n",
    "\n",
    "Output\n",
    "---------\n",
    "tokens: tokens of a text, including emoji \n",
    "emojitext: list of texts represented by emoji\n",
    "\"\"\"\n",
    "\n",
    "def tokenize(s):\n",
    "    emojitext=set([])\n",
    "    #find all emoji\n",
    "    for utuple in emoji_re.findall(s):\n",
    "        for i in utuple:\n",
    "            if len(i)>0:\n",
    "                try:\n",
    "    #use the emoji dictionary to find what the emoji represent\n",
    "                    emojitext.add(mapping[i])\n",
    "                except KeyError:\n",
    "                    continue\n",
    "    \n",
    "    #find all tokens\n",
    "    tokens=tokens_re.findall(s)\n",
    "    \n",
    "    if len(emojitext)>0:\n",
    "        tokens=tokens+(list(emojitext))\n",
    "    \n",
    "    return tokens,list(emojitext)"
   ]
  },
  {
   "cell_type": "markdown",
   "metadata": {},
   "source": [
    "Once we are able to tokenize the texts, we can do a text cleaning. We extract emoticons and hashtags from the text, and save as seperate strings. Then we remove url, html, emoticons and mentions tags from the text, and replace emoji with text explaning it. "
   ]
  },
  {
   "cell_type": "code",
   "execution_count": 26,
   "metadata": {
    "collapsed": true
   },
   "outputs": [],
   "source": [
    "\"\"\"\n",
    "Function\n",
    "--------\n",
    "preprocess\n",
    "\n",
    "Combine text and quoted_text to one,\n",
    "Remove url, html tag, @-mentions from the combined text,\n",
    "Extract hashtags  and emoticons from the combined text.\n",
    "\n",
    "Parameters\n",
    "----------\n",
    "s: text\n",
    "\n",
    "Output\n",
    "---------\n",
    "s: return a string without url, html tag, and @-mentions\n",
    "s_tokens: return a list of tokens\n",
    "emoticons: return a list of emoticons\n",
    "hashtags: return a list of hashtags\n",
    "\"\"\"\n",
    "\n",
    "def preprocess(s):\n",
    "        s=s.decode('utf-8')\n",
    "        tokens,emoji = tokenize(s)\n",
    "        #get the lower case\n",
    "        tokens = [token if emoticon_re.search(token) else token.lower() for token in tokens]\n",
    "        \n",
    "        #get the list of emoticons\n",
    "        emo= filter(None,[token if emoticon_re.search(token) else None for token in tokens])\n",
    "        \n",
    "        #get the list of hashtags\n",
    "        ht=filter(None,[token[1:] if hash_tags_re.search(token) else None for token in tokens])\n",
    "        hashtags = regreform(ht)    \n",
    "        \n",
    "        #remove @ and html tag, url, emoticons_str,emoji\n",
    "        s_clean=emoji_re.sub(',',s)\n",
    "        s_clean=remove_re.sub('',s_clean)\n",
    "        \n",
    "        #add the list of texts represented by emoji to clean text\n",
    "        emoji.append(s_clean)\n",
    "        s_clean='.'.join(emoji)\n",
    "        t_c,e_c = tokenize(s_clean)\n",
    "        s_tokens = [token.lower() for token in t_c]\n",
    "        return s_clean, s_tokens,emo,hashtags"
   ]
  },
  {
   "cell_type": "code",
   "execution_count": 4,
   "metadata": {
    "collapsed": false,
    "scrolled": true
   },
   "outputs": [],
   "source": [
    "dftokens=dftouse.reset_index()\n",
    "dftokens['sent']=dftokens['text'].apply(lambda r: preprocess(r) if (len(str(r))>0) & (isinstance(r, str)) else '' )"
   ]
  },
  {
   "cell_type": "markdown",
   "metadata": {},
   "source": [
    "Update the dataframe to store hashtag tokens and emoticans separately."
   ]
  },
  {
   "cell_type": "code",
   "execution_count": 59,
   "metadata": {
    "collapsed": false
   },
   "outputs": [
    {
     "data": {
      "text/html": [
       "<div>\n",
       "<table border=\"1\" class=\"dataframe\">\n",
       "  <thead>\n",
       "    <tr style=\"text-align: right;\">\n",
       "      <th></th>\n",
       "      <th>s_clean</th>\n",
       "      <th>s_tokens</th>\n",
       "      <th>s_emo</th>\n",
       "      <th>s_hashtags</th>\n",
       "    </tr>\n",
       "  </thead>\n",
       "  <tbody>\n",
       "    <tr>\n",
       "      <th>0</th>\n",
       "      <td>lemme come over bro</td>\n",
       "      <td>[lemme, come, over, bro]</td>\n",
       "      <td>[:(]</td>\n",
       "      <td>[]</td>\n",
       "    </tr>\n",
       "    <tr>\n",
       "      <th>1</th>\n",
       "      <td>I've been in a bad mood since like 2010</td>\n",
       "      <td>[i've, been, in, a, bad, mood, since, like, 2010]</td>\n",
       "      <td>[]</td>\n",
       "      <td>[]</td>\n",
       "    </tr>\n",
       "    <tr>\n",
       "      <th>2</th>\n",
       "      <td>what's the appropriate age for me to start act...</td>\n",
       "      <td>[what's, the, appropriate, age, for, me, to, s...</td>\n",
       "      <td>[]</td>\n",
       "      <td>[]</td>\n",
       "    </tr>\n",
       "    <tr>\n",
       "      <th>3</th>\n",
       "      <td>I assume your dad works at your school?)</td>\n",
       "      <td>[i, assume, your, dad, works, at, your, school...</td>\n",
       "      <td>[]</td>\n",
       "      <td>[]</td>\n",
       "    </tr>\n",
       "    <tr>\n",
       "      <th>4</th>\n",
       "      <td>I'm watching River (BBC) on netflix, I think ...</td>\n",
       "      <td>[i'm, watching, river, (, bbc, ), on, netflix,...</td>\n",
       "      <td>[]</td>\n",
       "      <td>[]</td>\n",
       "    </tr>\n",
       "  </tbody>\n",
       "</table>\n",
       "</div>"
      ],
      "text/plain": [
       "                                             s_clean                                           s_tokens s_emo s_hashtags\n",
       "0                               lemme come over bro                            [lemme, come, over, bro]  [:(]         []\n",
       "1            I've been in a bad mood since like 2010  [i've, been, in, a, bad, mood, since, like, 2010]    []         []\n",
       "2  what's the appropriate age for me to start act...  [what's, the, appropriate, age, for, me, to, s...    []         []\n",
       "3           I assume your dad works at your school?)  [i, assume, your, dad, works, at, your, school...    []         []\n",
       "4   I'm watching River (BBC) on netflix, I think ...  [i'm, watching, river, (, bbc, ), on, netflix,...    []         []"
      ]
     },
     "execution_count": 59,
     "metadata": {},
     "output_type": "execute_result"
    }
   ],
   "source": [
    "splitcol = lambda x: pd.Series([i for i in x])\n",
    "text_s = dftokens['sent'].apply(splitcol)\n",
    "text_s.rename(columns={0:'s_clean',1:'s_tokens',2:'s_emo',3:'s_hashtags'},inplace=True)\n",
    "text_s.head()"
   ]
  },
  {
   "cell_type": "code",
   "execution_count": 74,
   "metadata": {
    "collapsed": false
   },
   "outputs": [],
   "source": [
    "dftokens['quoted']=dftokens['quoted_text'].apply(lambda r: preprocess(r) if (len(str(r))>0) & (isinstance(r, str)) else '' )\n",
    "dftokens.take(2)\n",
    "text_q = dftokens['quoted'].apply(splitcol)\n",
    "text_q.rename(columns={0:'q_clean',1:'q_tokens',2:'q_emo',3:'q_hashtags'},inplace=True)"
   ]
  },
  {
   "cell_type": "code",
   "execution_count": null,
   "metadata": {
    "collapsed": true
   },
   "outputs": [],
   "source": [
    "dftokens1 = pd.concat([dftokens, text_s, text_q], axis=1)"
   ]
  },
  {
   "cell_type": "markdown",
   "metadata": {},
   "source": [
    "Change NaNs to meaningful representation:"
   ]
  },
  {
   "cell_type": "code",
   "execution_count": 62,
   "metadata": {
    "collapsed": false
   },
   "outputs": [],
   "source": [
    "dftokens1.to_csv(\"raw_data/dftokens.csv\", index = False, encoding='utf-8')\n",
    "#dftokens.to_json(\"raw_data/dftokens.json\")"
   ]
  },
  {
   "cell_type": "code",
   "execution_count": 72,
   "metadata": {
    "collapsed": false
   },
   "outputs": [
    {
     "data": {
      "text/html": [
       "<div>\n",
       "<table border=\"1\" class=\"dataframe\">\n",
       "  <thead>\n",
       "    <tr style=\"text-align: right;\">\n",
       "      <th></th>\n",
       "      <th>index</th>\n",
       "      <th>user_id</th>\n",
       "      <th>date</th>\n",
       "      <th>time</th>\n",
       "      <th>tweet_longitude</th>\n",
       "      <th>tweet_latitude</th>\n",
       "      <th>tweet_id</th>\n",
       "      <th>text</th>\n",
       "      <th>followers_count</th>\n",
       "      <th>friends_count</th>\n",
       "      <th>statuses_count</th>\n",
       "      <th>created_at_u</th>\n",
       "      <th>truncated</th>\n",
       "      <th>quoted_text</th>\n",
       "      <th>in_reply_to_status_id</th>\n",
       "      <th>retweeted_status</th>\n",
       "      <th>timestamp_ms</th>\n",
       "      <th>lang</th>\n",
       "      <th>country</th>\n",
       "      <th>place_full_name</th>\n",
       "      <th>sent</th>\n",
       "      <th>quoted</th>\n",
       "      <th>s_clean</th>\n",
       "      <th>s_tokens</th>\n",
       "      <th>s_emo</th>\n",
       "      <th>s_hashtags</th>\n",
       "      <th>q_clean</th>\n",
       "      <th>q_tokens</th>\n",
       "      <th>q_emo</th>\n",
       "      <th>q_hashtags</th>\n",
       "      <th>cleaned_text</th>\n",
       "    </tr>\n",
       "  </thead>\n",
       "  <tbody>\n",
       "    <tr>\n",
       "      <th>0</th>\n",
       "      <td>0</td>\n",
       "      <td>3095695629</td>\n",
       "      <td>2015-11-23</td>\n",
       "      <td>14:06:44</td>\n",
       "      <td>-71.683502</td>\n",
       "      <td>42.036932</td>\n",
       "      <td>668868299040665603</td>\n",
       "      <td>@DopeAhhAquarius lemme come over bro :(</td>\n",
       "      <td>7424</td>\n",
       "      <td>985</td>\n",
       "      <td>36984</td>\n",
       "      <td>Thu Mar 19 01:33:34 +0000 2015</td>\n",
       "      <td>False</td>\n",
       "      <td>NaN</td>\n",
       "      <td>6.688680e+17</td>\n",
       "      <td>False</td>\n",
       "      <td>1.448306e+12</td>\n",
       "      <td>en</td>\n",
       "      <td>United States</td>\n",
       "      <td>Massachusetts, USA</td>\n",
       "      <td>( lemme come over bro , [lemme, come, over, br...</td>\n",
       "      <td>NaN</td>\n",
       "      <td>lemme come over bro</td>\n",
       "      <td>[lemme, come, over, bro]</td>\n",
       "      <td>[:(]</td>\n",
       "      <td>[]</td>\n",
       "      <td></td>\n",
       "      <td>NaN</td>\n",
       "      <td>NaN</td>\n",
       "      <td>NaN</td>\n",
       "      <td>lemme come over bro</td>\n",
       "    </tr>\n",
       "    <tr>\n",
       "      <th>1</th>\n",
       "      <td>1</td>\n",
       "      <td>2174756318</td>\n",
       "      <td>2015-11-23</td>\n",
       "      <td>14:06:44</td>\n",
       "      <td>-71.326858</td>\n",
       "      <td>42.636248</td>\n",
       "      <td>668868299116138496</td>\n",
       "      <td>I've been in a bad mood since like 2010</td>\n",
       "      <td>110</td>\n",
       "      <td>159</td>\n",
       "      <td>2199</td>\n",
       "      <td>Mon Nov 04 21:06:33 +0000 2013</td>\n",
       "      <td>False</td>\n",
       "      <td>NaN</td>\n",
       "      <td>0.000000e+00</td>\n",
       "      <td>False</td>\n",
       "      <td>1.448306e+12</td>\n",
       "      <td>en</td>\n",
       "      <td>United States</td>\n",
       "      <td>Lowell, MA</td>\n",
       "      <td>(I've been in a bad mood since like 2010, [i'v...</td>\n",
       "      <td>NaN</td>\n",
       "      <td>I've been in a bad mood since like 2010</td>\n",
       "      <td>[i've, been, in, a, bad, mood, since, like, 2010]</td>\n",
       "      <td>[]</td>\n",
       "      <td>[]</td>\n",
       "      <td></td>\n",
       "      <td>NaN</td>\n",
       "      <td>NaN</td>\n",
       "      <td>NaN</td>\n",
       "      <td>I've been in a bad mood since like 2010</td>\n",
       "    </tr>\n",
       "    <tr>\n",
       "      <th>2</th>\n",
       "      <td>2</td>\n",
       "      <td>408976087</td>\n",
       "      <td>2015-11-23</td>\n",
       "      <td>14:06:46</td>\n",
       "      <td>-71.088755</td>\n",
       "      <td>42.313670</td>\n",
       "      <td>668868309526429697</td>\n",
       "      <td>what's the appropriate age for me to start act...</td>\n",
       "      <td>514</td>\n",
       "      <td>246</td>\n",
       "      <td>37162</td>\n",
       "      <td>Thu Nov 10 03:50:52 +0000 2011</td>\n",
       "      <td>False</td>\n",
       "      <td>NaN</td>\n",
       "      <td>0.000000e+00</td>\n",
       "      <td>False</td>\n",
       "      <td>1.448306e+12</td>\n",
       "      <td>en</td>\n",
       "      <td>United States</td>\n",
       "      <td>Boston, MA</td>\n",
       "      <td>(what's the appropriate age for me to start ac...</td>\n",
       "      <td>NaN</td>\n",
       "      <td>what's the appropriate age for me to start act...</td>\n",
       "      <td>[what's, the, appropriate, age, for, me, to, s...</td>\n",
       "      <td>[]</td>\n",
       "      <td>[]</td>\n",
       "      <td></td>\n",
       "      <td>NaN</td>\n",
       "      <td>NaN</td>\n",
       "      <td>NaN</td>\n",
       "      <td>what's the appropriate age for me to start act...</td>\n",
       "    </tr>\n",
       "    <tr>\n",
       "      <th>3</th>\n",
       "      <td>3</td>\n",
       "      <td>1163319366</td>\n",
       "      <td>2015-11-23</td>\n",
       "      <td>14:06:52</td>\n",
       "      <td>-71.312617</td>\n",
       "      <td>42.693109</td>\n",
       "      <td>668868335573012480</td>\n",
       "      <td>@JackSillin @AlexReedWX @WesternMEwx ...I assu...</td>\n",
       "      <td>465</td>\n",
       "      <td>604</td>\n",
       "      <td>57037</td>\n",
       "      <td>Sat Feb 09 16:02:36 +0000 2013</td>\n",
       "      <td>False</td>\n",
       "      <td>NaN</td>\n",
       "      <td>6.688683e+17</td>\n",
       "      <td>False</td>\n",
       "      <td>1.448306e+12</td>\n",
       "      <td>en</td>\n",
       "      <td>United States</td>\n",
       "      <td>Dracut, MA</td>\n",
       "      <td>(   I assume your dad works at your school?), ...</td>\n",
       "      <td>NaN</td>\n",
       "      <td>I assume your dad works at your school?)</td>\n",
       "      <td>[i, assume, your, dad, works, at, your, school...</td>\n",
       "      <td>[]</td>\n",
       "      <td>[]</td>\n",
       "      <td></td>\n",
       "      <td>NaN</td>\n",
       "      <td>NaN</td>\n",
       "      <td>NaN</td>\n",
       "      <td>I assume your dad works at your school?)</td>\n",
       "    </tr>\n",
       "    <tr>\n",
       "      <th>4</th>\n",
       "      <td>6</td>\n",
       "      <td>107886768</td>\n",
       "      <td>2015-11-23</td>\n",
       "      <td>14:06:55</td>\n",
       "      <td>-96.307306</td>\n",
       "      <td>65.838115</td>\n",
       "      <td>668868346813771776</td>\n",
       "      <td>@kady I'm watching River (BBC) on netflix, I t...</td>\n",
       "      <td>961</td>\n",
       "      <td>1198</td>\n",
       "      <td>85936</td>\n",
       "      <td>Sun Jan 24 03:02:09 +0000 2010</td>\n",
       "      <td>False</td>\n",
       "      <td>NaN</td>\n",
       "      <td>0.000000e+00</td>\n",
       "      <td>False</td>\n",
       "      <td>1.448306e+12</td>\n",
       "      <td>en</td>\n",
       "      <td>Canada</td>\n",
       "      <td>Canada</td>\n",
       "      <td>( I'm watching River (BBC) on netflix, I think...</td>\n",
       "      <td>NaN</td>\n",
       "      <td>I'm watching River (BBC) on netflix, I think ...</td>\n",
       "      <td>[i'm, watching, river, (, bbc, ), on, netflix,...</td>\n",
       "      <td>[]</td>\n",
       "      <td>[]</td>\n",
       "      <td></td>\n",
       "      <td>NaN</td>\n",
       "      <td>NaN</td>\n",
       "      <td>NaN</td>\n",
       "      <td>I'm watching River (BBC) on netflix, I think ...</td>\n",
       "    </tr>\n",
       "  </tbody>\n",
       "</table>\n",
       "</div>"
      ],
      "text/plain": [
       "   index     user_id        date      time  tweet_longitude  tweet_latitude            tweet_id                                               text  followers_count  friends_count  statuses_count                    created_at_u truncated quoted_text  in_reply_to_status_id retweeted_status  timestamp_ms lang        country     place_full_name                                               sent quoted                                            s_clean  \\\n",
       "0      0  3095695629  2015-11-23  14:06:44       -71.683502       42.036932  668868299040665603            @DopeAhhAquarius lemme come over bro :(             7424            985           36984  Thu Mar 19 01:33:34 +0000 2015     False         NaN           6.688680e+17            False  1.448306e+12   en  United States  Massachusetts, USA  ( lemme come over bro , [lemme, come, over, br...    NaN                               lemme come over bro    \n",
       "1      1  2174756318  2015-11-23  14:06:44       -71.326858       42.636248  668868299116138496            I've been in a bad mood since like 2010              110            159            2199  Mon Nov 04 21:06:33 +0000 2013     False         NaN           0.000000e+00            False  1.448306e+12   en  United States          Lowell, MA  (I've been in a bad mood since like 2010, [i'v...    NaN            I've been in a bad mood since like 2010   \n",
       "2      2   408976087  2015-11-23  14:06:46       -71.088755       42.313670  668868309526429697  what's the appropriate age for me to start act...              514            246           37162  Thu Nov 10 03:50:52 +0000 2011     False         NaN           0.000000e+00            False  1.448306e+12   en  United States          Boston, MA  (what's the appropriate age for me to start ac...    NaN  what's the appropriate age for me to start act...   \n",
       "3      3  1163319366  2015-11-23  14:06:52       -71.312617       42.693109  668868335573012480  @JackSillin @AlexReedWX @WesternMEwx ...I assu...              465            604           57037  Sat Feb 09 16:02:36 +0000 2013     False         NaN           6.688683e+17            False  1.448306e+12   en  United States          Dracut, MA  (   I assume your dad works at your school?), ...    NaN           I assume your dad works at your school?)   \n",
       "4      6   107886768  2015-11-23  14:06:55       -96.307306       65.838115  668868346813771776  @kady I'm watching River (BBC) on netflix, I t...              961           1198           85936  Sun Jan 24 03:02:09 +0000 2010     False         NaN           0.000000e+00            False  1.448306e+12   en         Canada              Canada  ( I'm watching River (BBC) on netflix, I think...    NaN   I'm watching River (BBC) on netflix, I think ...   \n",
       "\n",
       "                                            s_tokens s_emo s_hashtags q_clean q_tokens q_emo q_hashtags                                       cleaned_text  \n",
       "0                           [lemme, come, over, bro]  [:(]         []              NaN   NaN        NaN                               lemme come over bro   \n",
       "1  [i've, been, in, a, bad, mood, since, like, 2010]    []         []              NaN   NaN        NaN            I've been in a bad mood since like 2010  \n",
       "2  [what's, the, appropriate, age, for, me, to, s...    []         []              NaN   NaN        NaN  what's the appropriate age for me to start act...  \n",
       "3  [i, assume, your, dad, works, at, your, school...    []         []              NaN   NaN        NaN           I assume your dad works at your school?)  \n",
       "4  [i'm, watching, river, (, bbc, ), on, netflix,...    []         []              NaN   NaN        NaN   I'm watching River (BBC) on netflix, I think ...  "
      ]
     },
     "execution_count": 72,
     "metadata": {},
     "output_type": "execute_result"
    }
   ],
   "source": [
    "dftokens=pd.read_csv(\"raw_data/dftokens.csv\")\n",
    "\n",
    "dftokens.loc[dftokens.q_clean.isnull(),'q_clean'] = ''\n",
    "dftokens['cleaned_text'] = dftokens['s_clean'] + dftokens['q_clean']\n",
    "dftokens.head()"
   ]
  },
  {
   "cell_type": "markdown",
   "metadata": {},
   "source": [
    "Check how many tweets are quoted:"
   ]
  },
  {
   "cell_type": "code",
   "execution_count": 76,
   "metadata": {
    "collapsed": false
   },
   "outputs": [
    {
     "data": {
      "text/plain": [
       "8412"
      ]
     },
     "execution_count": 76,
     "metadata": {},
     "output_type": "execute_result"
    }
   ],
   "source": [
    "len(dftokens[~dftokens.quoted_text.isnull()])"
   ]
  },
  {
   "cell_type": "markdown",
   "metadata": {},
   "source": [
    "##Exploratory Data Analysis"
   ]
  },
  {
   "cell_type": "markdown",
   "metadata": {},
   "source": [
    "Nowe we first convert the dataframe into Spark, and perform some exploratory analysis.\n",
    "\n",
    "Before we move on to dive into the topic analysis, we want to first do some exploratory analyses. We create a new column called `hashtag`, which is the topic marked by the users. "
   ]
  },
  {
   "cell_type": "code",
   "execution_count": 79,
   "metadata": {
    "collapsed": false
   },
   "outputs": [],
   "source": [
    "import findspark\n",
    "findspark.init()\n",
    "\n",
    "import pyspark\n",
    "conf = (pyspark.SparkConf()\n",
    "    .setMaster('local')\n",
    "    .setAppName('pyspark')\n",
    "    .set(\"spark.executor.memory\", \"2g\"))\n",
    "sc = pyspark.SparkContext(conf=conf)"
   ]
  },
  {
   "cell_type": "code",
   "execution_count": 78,
   "metadata": {
    "collapsed": true
   },
   "outputs": [],
   "source": [
    "from pyspark.sql import SQLContext\n",
    "sqlsc=SQLContext(sc)"
   ]
  },
  {
   "cell_type": "code",
   "execution_count": 64,
   "metadata": {
    "collapsed": false
   },
   "outputs": [],
   "source": [
    "dftokens_spark = sqlsc.createDataFrame(dftokens)"
   ]
  },
  {
   "cell_type": "code",
   "execution_count": 10,
   "metadata": {
    "collapsed": true
   },
   "outputs": [],
   "source": [
    "# dftokens_spark1 = sqlsc.read.json(\"raw_data/dftokens.json\")\n",
    "# dftokens_spark1.cache()\n",
    "# print \"How many tweets do we have?\", dftokens_spark.count()\n",
    "# Then we use printSchema to lay out the structure of the tweet data\n",
    "# dftokens_spark1.printSchema()"
   ]
  },
  {
   "cell_type": "code",
   "execution_count": 11,
   "metadata": {
    "collapsed": true
   },
   "outputs": [],
   "source": [
    "# dftokens_spark1 = sqlsc.read.format(\"com.databricks.spark.csv\").option(\"header\", \"true\").load(\"raw_data/dftokens.csv\")\n",
    "# dftokens_spark1.take(5)"
   ]
  },
  {
   "cell_type": "code",
   "execution_count": 80,
   "metadata": {
    "collapsed": false
   },
   "outputs": [
    {
     "name": "stdout",
     "output_type": "stream",
     "text": [
      "root\n",
      " |-- index: long (nullable = true)\n",
      " |-- user_id: long (nullable = true)\n",
      " |-- date: string (nullable = true)\n",
      " |-- time: string (nullable = true)\n",
      " |-- tweet_longitude: double (nullable = true)\n",
      " |-- tweet_latitude: double (nullable = true)\n",
      " |-- tweet_id: long (nullable = true)\n",
      " |-- text: string (nullable = true)\n",
      " |-- followers_count: double (nullable = true)\n",
      " |-- friends_count: long (nullable = true)\n",
      " |-- statuses_count: double (nullable = true)\n",
      " |-- created_at_u: string (nullable = true)\n",
      " |-- truncated: boolean (nullable = true)\n",
      " |-- quoted_text: double (nullable = true)\n",
      " |-- in_reply_to_status_id: double (nullable = true)\n",
      " |-- retweeted_status: boolean (nullable = true)\n",
      " |-- timestamp_ms: double (nullable = true)\n",
      " |-- lang: string (nullable = true)\n",
      " |-- country: string (nullable = true)\n",
      " |-- place_full_name: string (nullable = true)\n",
      " |-- sent: string (nullable = true)\n",
      " |-- quoted: double (nullable = true)\n",
      " |-- s_clean: string (nullable = true)\n",
      " |-- s_tokens: string (nullable = true)\n",
      " |-- s_emo: string (nullable = true)\n",
      " |-- s_hashtags: string (nullable = true)\n",
      " |-- q_clean: double (nullable = true)\n",
      " |-- q_tokens: double (nullable = true)\n",
      " |-- q_emo: double (nullable = true)\n",
      " |-- q_hashtags: double (nullable = true)\n",
      "\n"
     ]
    }
   ],
   "source": [
    "dftokens_spark.printSchema()"
   ]
  },
  {
   "cell_type": "markdown",
   "metadata": {},
   "source": [
    "Problem spotted: all the lists are converted to a string\n",
    "\n",
    "Solution: convert\n",
    "\n",
    "Here: try to fix the columns\n",
    "Workaround: extract the single column and use split"
   ]
  },
  {
   "cell_type": "code",
   "execution_count": 166,
   "metadata": {
    "collapsed": false
   },
   "outputs": [],
   "source": [
    "import ast\n",
    "# def string_to_list(r):\n",
    "#     return ast.literal_eval(r)\n",
    "from pyspark.sql.functions import udf\n",
    "from pyspark.sql.types import ArrayType, StringType\n",
    "\n",
    "string_to_list = udf(lambda r: ast.literal_eval(r), ArrayType(StringType()))\n",
    "\n",
    "dftokens_spark1 = dftokens_spark.withColumn(\"s_hashtags_list\", string_to_list(dftokens_spark.s_hashtags))\n",
    "dftokens_spark1 = dftokens_spark1.withColumn(\"s_token_list\", string_to_list(dftokens_spark1.s_tokens))\n",
    "dftokens_spark1 = dftokens_spark1.withColumn(\"s_emo_list\", string_to_list(dftokens_spark1.s_emo))\n",
    "dftokens_spark1 = dftokens_spark1.withColumn(\"q_hashtags_list\", string_to_list(dftokens_spark1.q_hashtags))\n",
    "dftokens_spark1 = dftokens_spark1.withColumn(\"q_token_list\", string_to_list(dftokens_spark1.q_tokens))\n",
    "dftokens_spark1 = dftokens_spark1.withColumn(\"q_emo_list\", string_to_list(dftokens_spark1.q_emo))"
   ]
  },
  {
   "cell_type": "code",
   "execution_count": 168,
   "metadata": {
    "collapsed": true
   },
   "outputs": [],
   "source": [
    "dftokens_spark2 = dftokens_spark.withColumn(\"s_emo_list\", string_to_list(dftokens_spark.s_emo))"
   ]
  },
  {
   "cell_type": "code",
   "execution_count": 3,
   "metadata": {
    "collapsed": false
   },
   "outputs": [],
   "source": [
    "#need?????????????\n",
    "dftokens_spark2.show(10)"
   ]
  },
  {
   "cell_type": "code",
   "execution_count": 66,
   "metadata": {
    "collapsed": false
   },
   "outputs": [],
   "source": [
    "dftokens_spark1.show(10)"
   ]
  },
  {
   "cell_type": "markdown",
   "metadata": {},
   "source": [
    "Extract hashtags and frequencies"
   ]
  },
  {
   "cell_type": "code",
   "execution_count": 67,
   "metadata": {
    "collapsed": false
   },
   "outputs": [],
   "source": [
    "hashcount=dftokens_spark1.flatMap(lambda l:l.s_hashtags_list).map(lambda h: (h.split(\"/\")[0],1)).reduceByKey(lambda a,b: a+b)\n",
    "hashcount_nonempty = hashcount.takeOrdered(100,key = lambda x: -x[1])[1:]\n",
    "# hashcount=dftokens_spark.flatMap(lambda l:l.s_hashtags[1:-1].replace(\"'\",\"\").split(\", \")).map(lambda h: (h.split(\"/\")[0],1)).reduceByKey(lambda a,b: a+b)\n",
    "# hashcount_nonempty = hashcount.takeOrdered(100,key = lambda x: -x[1])[1:]"
   ]
  },
  {
   "cell_type": "code",
   "execution_count": null,
   "metadata": {
    "collapsed": false
   },
   "outputs": [],
   "source": [
    "hashcount_plot = pd.DataFrame(hashcount_nonempty)\n",
    "hashcount_plot.columns = ['hashtag', 'count']\n",
    "hashcount_plot.head()"
   ]
  },
  {
   "cell_type": "code",
   "execution_count": 108,
   "metadata": {
    "collapsed": false,
    "scrolled": false
   },
   "outputs": [
    {
     "data": {
      "text/plain": [
       "<matplotlib.text.Text at 0x13dd7e9d0>"
      ]
     },
     "execution_count": 108,
     "metadata": {},
     "output_type": "execute_result"
    },
    {
     "data": {
      "image/png": "[encoded data removed]",
      "text/plain": [
       "<matplotlib.figure.Figure at 0x13c570450>"
      ]
     },
     "metadata": {},
     "output_type": "display_data"
    }
   ],
   "source": [
    "plt.figure(figsize=(15,10))  \n",
    "sns.barplot(x='count', y='hashtag', data=hashcount_plot[:15], palette=\"Blues_d\")\n",
    "plt.xlabel(\"Count\")\n",
    "plt.ylabel(\"Hashtag\")"
   ]
  },
  {
   "cell_type": "code",
   "execution_count": null,
   "metadata": {
    "collapsed": true
   },
   "outputs": [],
   "source": [
    "#extract hashtags\n",
    "# subdf=dftokens_spark['s_hashtags'].flatMap(lambda l:l[2])\n",
    "# hashtags=subdf.map(lambda w: (w,1)).reduceByKey(lambda a,b: a+b)\n",
    "# hashtags.takeOrdered(10,key = lambda x: -x[1])"
   ]
  },
  {
   "cell_type": "code",
   "execution_count": 123,
   "metadata": {
    "collapsed": false
   },
   "outputs": [],
   "source": [
    "# print \"How many tweets have hash tags?\", dftokens.map(lambda l:l[4]).reduce(lambda a,b:a+b)\n",
    "# print \"How many tweets have emoji?\", dftokens.map(lambda l:l[3]).reduce(lambda a,b:a+b)"
   ]
  },
  {
   "cell_type": "markdown",
   "metadata": {},
   "source": [
    "We use tableau to conduct our exploratory data analysis. "
   ]
  },
  {
   "cell_type": "markdown",
   "metadata": {},
   "source": [
    "###WordCloud - Hashtags"
   ]
  },
  {
   "cell_type": "markdown",
   "metadata": {},
   "source": [
    "<script type='text/javascript' src='https://public.tableau.com/javascripts/api/viz_v1.js'></script><div class='tableauPlaceholder' style='width: 982px; height: 745px;'><noscript><a href='https:&#47;&#47;public.tableau.com&#47;jack91an&#47;CS109-Hash&#47;'><img alt=' ' src='https:&#47;&#47;public.tableau.com&#47;static&#47;images&#47;CS&#47;CS109-Hash&#47;WordCloud&#47;1_rss.png' style='border: none' /></a></noscript><object class='tableauViz' width='600' height='400' style='display:none;'><param name='host_url' value='https%3A%2F%2Fpublic.tableau.com%2F' /> <param name='site_root' value='' /><param name='name' value='CS109-Hash&#47;WordCloud' /><param name='tabs' value='yes' /><param name='toolbar' value='yes' /><param name='static_image' value='https:&#47;&#47;public.tableau.com&#47;static&#47;images&#47;CS&#47;CS109-Hash&#47;WordCloud&#47;1.png' /> <param name='animate_transition' value='yes' /><param name='display_static_image' value='yes' /><param name='display_spinner' value='yes' /><param name='display_overlay' value='yes' /><param name='display_count' value='yes' /><param name='showVizHome' value='no' /><param name='showTabs' value='y' /><param name='bootstrapWhenNotified' value='true' /></object></div>"
   ]
  },
  {
   "cell_type": "markdown",
   "metadata": {},
   "source": [
    "###Hashtags Over Time"
   ]
  },
  {
   "cell_type": "markdown",
   "metadata": {},
   "source": [
    "<script type='text/javascript' src='https://public.tableau.com/javascripts/api/viz_v1.js'></script><div class='tableauPlaceholder' style='width: 982px; height: 745px;'><noscript><a href='https:&#47;&#47;public.tableau.com&#47;jack91an&#47;CS109-Hash&#47;'><img alt=' ' src='https:&#47;&#47;public.tableau.com&#47;static&#47;images&#47;CS&#47;CS109-Hash&#47;HashtagoverTime&#47;1_rss.png' style='border: none' /></a></noscript><object class='tableauViz' width='600' height='400' style='display:none;'><param name='host_url' value='https%3A%2F%2Fpublic.tableau.com%2F' /> <param name='site_root' value='' /><param name='name' value='CS109-Hash&#47;HashtagoverTime' /><param name='tabs' value='yes' /><param name='toolbar' value='yes' /><param name='static_image' value='https:&#47;&#47;public.tableau.com&#47;static&#47;images&#47;CS&#47;CS109-Hash&#47;HashtagoverTime&#47;1.png' /> <param name='animate_transition' value='yes' /><param name='display_static_image' value='yes' /><param name='display_spinner' value='yes' /><param name='display_overlay' value='yes' /><param name='display_count' value='yes' /><param name='showVizHome' value='no' /><param name='showTabs' value='y' /><param name='bootstrapWhenNotified' value='true' /></object></div>"
   ]
  },
  {
   "cell_type": "markdown",
   "metadata": {
    "collapsed": true
   },
   "source": [
    "###Hashtags by Location"
   ]
  },
  {
   "cell_type": "markdown",
   "metadata": {
    "collapsed": true
   },
   "source": [
    "<script type='text/javascript' src='https://public.tableau.com/javascripts/api/viz_v1.js'></script><div class='tableauPlaceholder' style='width: 982px; height: 745px;'><noscript><a href='https:&#47;&#47;public.tableau.com&#47;jack91an&#47;CS109-Hash&#47;'><img alt=' ' src='https:&#47;&#47;public.tableau.com&#47;static&#47;images&#47;CS&#47;CS109-Hash&#47;HashtagbyLocation&#47;1_rss.png' style='border: none' /></a></noscript><object class='tableauViz' width='600' height='400' style='display:none;'><param name='host_url' value='https%3A%2F%2Fpublic.tableau.com%2F' /> <param name='site_root' value='' /><param name='name' value='CS109-Hash&#47;HashtagbyLocation' /><param name='tabs' value='yes' /><param name='toolbar' value='yes' /><param name='static_image' value='https:&#47;&#47;public.tableau.com&#47;static&#47;images&#47;CS&#47;CS109-Hash&#47;HashtagbyLocation&#47;1.png' /> <param name='animate_transition' value='yes' /><param name='display_static_image' value='yes' /><param name='display_spinner' value='yes' /><param name='display_overlay' value='yes' /><param name='display_count' value='yes' /><param name='showVizHome' value='no' /><param name='showTabs' value='y' /><param name='bootstrapWhenNotified' value='true' /></object></div>"
   ]
  },
  {
   "cell_type": "markdown",
   "metadata": {},
   "source": [
    "### What we find?\n",
    "\n",
    "'Job' and 'Hire' are the most frequently used hashtags. Originally, we think it is normal because now is job hunting season. However, after we take a closer look at the data, we find that most tweets with these two hashtags are sent by the same account! \n",
    "\n",
    "Ignoring 'Job' and 'Hire', we see an observable increase in appearance of 'Thanksgiving' hashtags on Thanksgiving Day. In addition, we find at least three topics in this tweets data: Job, Thanksgiving, and Shopping."
   ]
  },
  {
   "cell_type": "markdown",
   "metadata": {},
   "source": [
    "#Analysis"
   ]
  },
  {
   "cell_type": "markdown",
   "metadata": {},
   "source": [
    "### Natural Language processing"
   ]
  },
  {
   "cell_type": "markdown",
   "metadata": {},
   "source": [
    "Our next step is to take the text of the tweets and process this text to extract grammar and semantic meaning from it.\n",
    "\n",
    "The tweets language is very informal, which makes parsing very hard. In general ,we still use the very standard sentence parsing techniques from `pattern` to help use identify noun and adjectives.\n",
    "\n",
    "We will use a simialr function as `get_parts` from homework 5 to get the nouns of the text."
   ]
  },
  {
   "cell_type": "markdown",
   "metadata": {},
   "source": [
    "We create a list of what we consider punctuation below, and obtain our stopwords from the `sklearn` stopwords list."
   ]
  },
  {
   "cell_type": "code",
   "execution_count": 5,
   "metadata": {
    "collapsed": true
   },
   "outputs": [],
   "source": [
    "from pattern.en import parse\n",
    "from pattern.en import pprint\n",
    "from pattern.vector import stem, PORTER, LEMMA\n",
    "punctuation = list('.,;:!?()[]{}`''\\\"@#$^&*+-|=~_')"
   ]
  },
  {
   "cell_type": "code",
   "execution_count": 6,
   "metadata": {
    "collapsed": true
   },
   "outputs": [],
   "source": [
    "from sklearn.feature_extraction import text \n",
    "stopwords=text.ENGLISH_STOP_WORDS"
   ]
  },
  {
   "cell_type": "markdown",
   "metadata": {},
   "source": [
    "#### Parsing language"
   ]
  },
  {
   "cell_type": "markdown",
   "metadata": {},
   "source": [
    "We compile two regular expressions we will use. The first matched two or more dots in an ellipsis, while the second matches too or more dashes. We'll assume a single dot is a sentence separator while an single dash means a hyphenated word which is important to keep."
   ]
  },
  {
   "cell_type": "code",
   "execution_count": 83,
   "metadata": {
    "collapsed": true
   },
   "outputs": [],
   "source": [
    "import re\n",
    "regex1=re.compile(r\"\\.{2,}\")\n",
    "regex2=re.compile(r\"\\-{2,}\")"
   ]
  },
  {
   "cell_type": "markdown",
   "metadata": {},
   "source": [
    "The function get_parts below takes in an input tweet and returns a tuple of nouns and adjectives. Each member of the tuple is a list of lists. For instance the first member is a list, whose members are lists of nouns. Each such member is mined from a sentence. Some sentences will not have any representation as they dont pass the battery of conditions we impose below. Indeed if any sentence has no adjectives or no nouns we remove it. The idea eventually is to treat each such sentence as a tweet, with the nouns used to find the topic (using LDA), and the adjectives used to do sentiment analysis (via Naive Bayes)."
   ]
  },
  {
   "cell_type": "markdown",
   "metadata": {},
   "source": [
    "`get_parts` does the following:\n",
    "\n",
    "- First we substitute anything more than two dots or two dashes by a space so the letters on either side are treated as separate words\n",
    "- Then we use pattern to parse the text into sentences. The sentences are tokenized into words, and lemmatized, which means that we convert words into their basic form, for [example](https://github.com/piskvorky/topic_modeling_tutorial/blob/master/1%20-%20Streamed%20Corpora.ipynb):\n",
    "\n",
    "> \"work\", \"working\", \"works\", \"worked\", \"working\" => same lemma: \"work\"\n",
    "\n",
    "- The words are associated with tags from the [Penn Treebank](http://www.clips.ua.ac.be/pages/mbsp-tags) in the parse process. This enables us to identify parts-of-speech."
   ]
  },
  {
   "cell_type": "code",
   "execution_count": 84,
   "metadata": {
    "collapsed": true
   },
   "outputs": [],
   "source": [
    "def get_parts(thetext):\n",
    "    thetext=re.sub(regex1, ' ', thetext)\n",
    "    thetext=re.sub(regex2, ' ', thetext)\n",
    "    nouns=[]\n",
    "    descriptives=[]\n",
    "    for i,sentence in enumerate(parse(thetext, tokenize=True, lemmata=True).split()):\n",
    "        nouns.append([])\n",
    "        descriptives.append([])\n",
    "        for token in sentence:\n",
    "            #print token\n",
    "            if len(token[4]) >0:\n",
    "                if token[1] in ['JJ', 'JJR', 'JJS']:\n",
    "                    if token[4] in stopwords or token[4][0] in punctuation or token[4][-1] in punctuation or len(token[4])==1:\n",
    "                        continue\n",
    "                    descriptives[i].append(token[4])\n",
    "                elif token[1] in ['NN', 'NNS']:\n",
    "                    if token[4] in stopwords or token[4][0] in punctuation or token[4][-1] in punctuation or len(token[4])==1:\n",
    "                        continue\n",
    "                    nouns[i].append(token[4])\n",
    "    out=zip(nouns, descriptives)\n",
    "    nouns2=[]\n",
    "    descriptives2=[]\n",
    "    for n,d in out:\n",
    "        if len(n)!=0 and len(d)!=0:\n",
    "            nouns2.append(n)\n",
    "            descriptives2.append(d)\n",
    "    return nouns2, descriptives2"
   ]
  },
  {
   "cell_type": "markdown",
   "metadata": {},
   "source": [
    "#### Run `get_parts` on the `text` column of the dataframe"
   ]
  },
  {
   "cell_type": "code",
   "execution_count": 85,
   "metadata": {
    "collapsed": false
   },
   "outputs": [],
   "source": [
    "tweet_parts = dftokens_spark.map(lambda x: get_parts(x.text))"
   ]
  },
  {
   "cell_type": "markdown",
   "metadata": {},
   "source": [
    "We'll take the first three to see what our code looks like."
   ]
  },
  {
   "cell_type": "code",
   "execution_count": 86,
   "metadata": {
    "collapsed": false
   },
   "outputs": [
    {
     "data": {
      "text/plain": [
       "[([], []),\n",
       " ([[u'mood']], [[u'bad']]),\n",
       " ([[u'age', u'adult']], [[u'appropriate']])]"
      ]
     },
     "execution_count": 86,
     "metadata": {},
     "output_type": "execute_result"
    }
   ],
   "source": [
    "tweet_parts.take(3)"
   ]
  },
  {
   "cell_type": "markdown",
   "metadata": {},
   "source": [
    "We use collect to collect in a python list all of our results. "
   ]
  },
  {
   "cell_type": "code",
   "execution_count": 87,
   "metadata": {
    "collapsed": false
   },
   "outputs": [
    {
     "name": "stdout",
     "output_type": "stream",
     "text": [
      "CPU times: user 2.79 s, sys: 7.53 s, total: 10.3 s\n",
      "Wall time: 10min 1s\n"
     ]
    }
   ],
   "source": [
    "%%time\n",
    "parseout=tweet_parts.collect()"
   ]
  },
  {
   "cell_type": "markdown",
   "metadata": {},
   "source": [
    "##Topic Analysis"
   ]
  },
  {
   "cell_type": "markdown",
   "metadata": {},
   "source": [
    "###Batch Variation Bayes for LDA\n",
    "This LDA is a more advanced model according to http://www.cs.princeton.edu/~blei/papers/HoffmanBleiBach2010b.pdf\n",
    "\n",
    "Some of the codes are excerpted from an open source LDA algorithm https://github.com/qpleple/online-lda-vb/tree/master/mdhoffma "
   ]
  },
  {
   "cell_type": "code",
   "execution_count": 1,
   "metadata": {
    "collapsed": true
   },
   "outputs": [],
   "source": [
    "import sys, re, time, string\n",
    "import numpy as n\n",
    "from scipy.special import gammaln, psi\n",
    "\n",
    "n.random.seed(100000001)\n",
    "meanchangethresh = 0.001"
   ]
  },
  {
   "cell_type": "markdown",
   "metadata": {},
   "source": [
    "We used an online variational Bayes algorithm for latent Dirichlet allocation (LDA), one of the simplest topic models and one on which many others are based. This algorithm is based on online stochastic optimization, which has been shown to produce good parameter estimates dramatically faster than batch algorithms on large datasets. Online LDA handily analyzes massive collections of documents and, moreover, online LDA need not locally store or collect the documents— each can arrive in a stream and be discarded after one look, although we are doing it locally "
   ]
  },
  {
   "cell_type": "markdown",
   "metadata": {},
   "source": [
    "Latent Dirichlet Allocation (LDA) is a Bayesian probabilistic model of text documents. It assumes a collection of K “topics.” Each topic defines a multinomial distribution over the vocabulary and is assumed to have been drawn from a Dirichlet, $\\beta_k$ ~ Dirichlet($\\eta$). Given the topics, LDA assumes the following generative process for each document (**d**). First, draw a distribution over topics $\\theta_d$ ∼ Dirichlet($\\alpha$). Then, for each word **i** in the document, draw a topic index $z_{di}$ ∈ {1, . . . , K} from the topic weights $z_{di}$ ∼ $\\theta_d$ and draw the observed word wdi from the selected topic, $w_di$ ∼ $\\beta_{z_{di}}$ ."
   ]
  },
  {
   "cell_type": "markdown",
   "metadata": {},
   "source": [
    "For simplicity, the paper assumes symmetric priors on $\\theta$ and $\\beta$, but this assumption is easy to relax. Note that if we sum over the topic assignments $z$, then we get p($w_{di}$|$\\theta_d$, $\\beta$) = $\\sum_k \\theta_{dk} \\beta_{kw}$.This leads to the “multinomial PCA” interpretation of LDA; we can think of LDA as a probabilistic factorization of the matrix of word counts **n** (where $n_{dw}$ is the number of times word $w$ appears in document $d$) into a matrix of topic weights $\\theta$ and a dictionary of topics $\\beta$. This algorithm can thus be seen as an extension of online matrix factorization techniques that optimize squared error to more general probabilistic formulations.\n",
    "\n",
    "This algorithm can analyze a corpus of documents with LDA by examining the **posterior distribution** of the\n",
    "topics $\\beta$, topic proportions $\\theta$, and topic assignments $z$ conditioned on the documents. This reveals latent structure in the collection that can be used for prediction or data exploration. This posterior cannot be computed directly, and is usually approximated using **Markov Chain Monte Carlo (MCMC)** methods or variational inference. Both classes of methods are effective, but both present significant computational challenges in the face of massive data sets. To this end, this algorithm develops online variational inference for LDA, an approximate posterior inference algorithm that can analyze massive collections of documents. It first review the traditional variational Bayes algorithm for LDA and its objective function, then present our online method, and show that it converges to a stationary point of the same objective function."
   ]
  },
  {
   "cell_type": "markdown",
   "metadata": {},
   "source": [
    "####Algorithm Procedures: Batch Variation Bayes for LDA\n",
    "    "
   ]
  },
  {
   "cell_type": "markdown",
   "metadata": {},
   "source": [
    "<br>Initialize $\\lambda$ randomly\n",
    "<br>**while** relative improvements in $L$($w, \\phi, \\gamma, \\lambda$) > 0.00001 **do**:\n",
    "<ul>$E$ step:\n",
    "<br>**for** $d$ = 1 to D **do**:\n",
    "<br><ul>Initialize $\\gamma_{dk}$ = 1. (The constant 1 is arbitrary.)\n",
    "<br>**repeat**:\n",
    "<br><ul>Set $\\phi \\propto$ exp{$E_q$[log$\\theta_{dk}$] + $E_q$[log$\\beta_{kw}$]}\n",
    "<br>Set $\\gamma_{dk} = \\alpha + \\sum_w\\phi_{dwk}n_{dw}$\n",
    "</ul> **until** $\\frac{1}{K}\\sum_k$|change in $\\gamma_{dk}$|<0.00001\n",
    "<br></ul> **end for** <br>  *M step:* <br> Set $\\lambda_{kw} = \\eta + \\sum_dn_{dw}\\phi_{dwk}$<br></ul> **end while**\n"
   ]
  },
  {
   "cell_type": "code",
   "execution_count": 3,
   "metadata": {
    "collapsed": true
   },
   "outputs": [],
   "source": [
    "def dirichlet_expectation(alpha):\n",
    "    if (len(alpha.shape) == 1):\n",
    "        return(psi(alpha) - psi(n.sum(alpha)))\n",
    "    return(psi(alpha) - psi(n.sum(alpha, 1))[:, n.newaxis])"
   ]
  },
  {
   "cell_type": "code",
   "execution_count": 12,
   "metadata": {
    "collapsed": true
   },
   "outputs": [],
   "source": [
    "def parse_doc_list(docs, vocab):\n",
    "    \"\"\"\n",
    "    Parse a document into a list of word ids and a list of counts,\n",
    "    or parse a set of documents into two lists of lists of word ids\n",
    "    and counts.\n",
    "    Arguments: \n",
    "    docs:  List of D documents. Each document must be represented as\n",
    "           a single string. (Word order is unimportant.) Any\n",
    "           words not in the vocabulary will be ignored.\n",
    "    vocab: Dictionary mapping from words to integer ids.\n",
    "    Returns a pair of lists of lists. \n",
    "    The first, wordids, says what vocabulary tokens are present in\n",
    "    each document. wordids[i][j] gives the jth unique token present in\n",
    "    document i. (Don't count on these tokens being in any particular\n",
    "    order.)\n",
    "    The second, wordcts, says how many times each vocabulary token is\n",
    "    present. wordcts[i][j] is the number of times that the token given\n",
    "    by wordids[i][j] appears in document i.\n",
    "    \"\"\"\n",
    "    if (type(docs).__name__ == 'str'):\n",
    "        temp = list()\n",
    "        temp.append(docs)\n",
    "        docs = temp\n",
    "\n",
    "    D = len(docs)\n",
    "    \n",
    "    wordids = list()\n",
    "    wordcts = list()\n",
    "    for d in range(0, D):\n",
    "        docs[d] = docs[d].lower()\n",
    "        docs[d] = re.sub(r'-', ' ', docs[d])\n",
    "        docs[d] = re.sub(r'[^a-z ]', '', docs[d])\n",
    "        docs[d] = re.sub(r' +', ' ', docs[d])\n",
    "        words = string.split(docs[d])\n",
    "        ddict = dict()\n",
    "        for word in words:\n",
    "            if (word in vocab):\n",
    "                wordtoken = vocab[word]\n",
    "                if (not wordtoken in ddict):\n",
    "                    ddict[wordtoken] = 0\n",
    "                ddict[wordtoken] += 1\n",
    "        wordids.append(ddict.keys())\n",
    "        wordcts.append(ddict.values())\n",
    "\n",
    "    return((wordids, wordcts))"
   ]
  },
  {
   "cell_type": "code",
   "execution_count": 10,
   "metadata": {
    "collapsed": true
   },
   "outputs": [],
   "source": [
    "class OnlineLDA:\n",
    "    \"\"\"\n",
    "    Implements online VB for LDA as described in (Hoffman et al. 2010).\n",
    "    \"\"\"\n",
    "\n",
    "    def __init__(self, vocab, K, D, alpha, eta, tau0, kappa):\n",
    "        \"\"\"\n",
    "        Arguments:\n",
    "        K: Number of topics\n",
    "        vocab: A set of words to recognize. When analyzing documents, any word\n",
    "           not in this set will be ignored.\n",
    "        D: Total number of documents in the population. For a fixed corpus,\n",
    "           this is the size of the corpus. In the truly online setting, this\n",
    "           can be an estimate of the maximum number of documents that\n",
    "           could ever be seen.\n",
    "        alpha: Hyperparameter for prior on weight vectors theta\n",
    "        eta: Hyperparameter for prior on topics beta\n",
    "        tau0: A (positive) learning parameter that downweights early iterations\n",
    "        kappa: Learning rate: exponential decay rate---should be between\n",
    "             (0.5, 1.0] to guarantee asymptotic convergence.\n",
    "\n",
    "        Note that if you pass the same set of D documents in every time and\n",
    "        set kappa=0 this class can also be used to do batch VB.\n",
    "        \"\"\"\n",
    "        self._vocab = dict()\n",
    "        for word in vocab:\n",
    "            #word = word.lower()\n",
    "            #word = re.sub(r'[^a-z]', '', word)\n",
    "            self._vocab[word] = len(self._vocab)\n",
    "\n",
    "        self._K = K\n",
    "        self._W = len(self._vocab)\n",
    "        self._D = D\n",
    "        self._alpha = alpha\n",
    "        self._eta = eta\n",
    "        self._tau0 = tau0 + 1\n",
    "        self._kappa = kappa\n",
    "        self._updatect = 0\n",
    "\n",
    "        # Initialize the variational distribution q(beta|lambda)\n",
    "        self._lambda = 1*n.random.gamma(100., 1./100., (self._K, self._W))\n",
    "        self._Elogbeta = dirichlet_expectation(self._lambda)\n",
    "        self._expElogbeta = n.exp(self._Elogbeta)\n",
    "\n",
    "    def do_e_step(self, docs):\n",
    "        \"\"\"\n",
    "        Given a mini-batch of documents, estimates the parameters\n",
    "        gamma controlling the variational distribution over the topic\n",
    "        weights for each document in the mini-batch.\n",
    "\n",
    "        Arguments:\n",
    "        docs:  List of D documents. Each document must be represented\n",
    "               as a string. (Word order is unimportant.) Any\n",
    "               words not in the vocabulary will be ignored.\n",
    "\n",
    "        Returns a tuple containing the estimated values of gamma,\n",
    "        as well as sufficient statistics needed to update lambda.\n",
    "        \"\"\"\n",
    "        # This is to handle the case where someone just hands us a single\n",
    "        # document, not in a list.\n",
    "        if (type(docs).__name__ == 'string'):\n",
    "            temp = list()\n",
    "            temp.append(docs)\n",
    "            docs = temp\n",
    "\n",
    "        (wordids, wordcts) = parse_doc_list(docs, self._vocab)\n",
    "        batchD = len(docs)\n",
    "\n",
    "        # Initialize the variational distribution q(theta|gamma) for\n",
    "        # the mini-batch\n",
    "        gamma = 1*n.random.gamma(100., 1./100., (batchD, self._K))\n",
    "        Elogtheta = dirichlet_expectation(gamma)\n",
    "        expElogtheta = n.exp(Elogtheta)\n",
    "\n",
    "        sstats = n.zeros(self._lambda.shape)\n",
    "        # Now, for each document d update that document's gamma and phi\n",
    "        it = 0\n",
    "        meanchange = 0\n",
    "        for d in range(0, batchD):\n",
    "            # These are mostly just shorthand (but might help cache locality)\n",
    "            ids = wordids[d]\n",
    "            cts = wordcts[d]\n",
    "            gammad = gamma[d, :]\n",
    "            Elogthetad = Elogtheta[d, :]\n",
    "            expElogthetad = expElogtheta[d, :]\n",
    "            expElogbetad = self._expElogbeta[:, ids]\n",
    "            # The optimal phi_{dwk} is proportional to \n",
    "            # expElogthetad_k * expElogbetad_w. phinorm is the normalizer.\n",
    "            phinorm = n.dot(expElogthetad, expElogbetad) + 1e-100\n",
    "            # Iterate between gamma and phi until convergence\n",
    "            for it in range(0, 100):\n",
    "                lastgamma = gammad\n",
    "                # We represent phi implicitly to save memory and time.\n",
    "                # Substituting the value of the optimal phi back into\n",
    "                # the update for gamma gives this update. Cf. Lee&Seung 2001.\n",
    "                gammad = self._alpha + expElogthetad * \\\n",
    "                    n.dot(cts / phinorm, expElogbetad.T)\n",
    "                Elogthetad = dirichlet_expectation(gammad)\n",
    "                expElogthetad = n.exp(Elogthetad)\n",
    "                phinorm = n.dot(expElogthetad, expElogbetad) + 1e-100\n",
    "                # If gamma hasn't changed much, we're done.\n",
    "                meanchange = n.mean(abs(gammad - lastgamma))\n",
    "                if (meanchange < meanchangethresh):\n",
    "                    break\n",
    "            gamma[d, :] = gammad\n",
    "            # Contribution of document d to the expected sufficient\n",
    "            # statistics for the M step.\n",
    "            sstats[:, ids] += n.outer(expElogthetad.T, cts/phinorm)\n",
    "\n",
    "        # This step finishes computing the sufficient statistics for the\n",
    "        # M step, so that\n",
    "        # sstats[k, w] = \\sum_d n_{dw} * phi_{dwk} \n",
    "        # = \\sum_d n_{dw} * exp{Elogtheta_{dk} + Elogbeta_{kw}} / phinorm_{dw}.\n",
    "        sstats = sstats * self._expElogbeta\n",
    "\n",
    "        return((gamma, sstats))\n",
    "\n",
    "    def update_lambda(self, docs):\n",
    "        \"\"\"\n",
    "        First does an E step on the mini-batch given in wordids and\n",
    "        wordcts, then uses the result of that E step to update the\n",
    "        variational parameter matrix lambda.\n",
    "\n",
    "        Arguments:\n",
    "        docs:  List of D documents. Each document must be represented\n",
    "               as a string. (Word order is unimportant.) Any\n",
    "               words not in the vocabulary will be ignored.\n",
    "\n",
    "        Returns gamma, the parameters to the variational distribution\n",
    "        over the topic weights theta for the documents analyzed in this\n",
    "        update.\n",
    "\n",
    "        Also returns an estimate of the variational bound for the\n",
    "        entire corpus for the OLD setting of lambda based on the\n",
    "        documents passed in. This can be used as a (possibly very\n",
    "        noisy) estimate of held-out likelihood.\n",
    "        \"\"\"\n",
    "\n",
    "        # rhot will be between 0 and 1, and says how much to weight\n",
    "        # the information we got from this mini-batch.\n",
    "        rhot = pow(self._tau0 + self._updatect, -self._kappa)\n",
    "        self._rhot = rhot\n",
    "        # Do an E step to update gamma, phi | lambda for this\n",
    "        # mini-batch. This also returns the information about phi that\n",
    "        # we need to update lambda.\n",
    "        (gamma, sstats) = self.do_e_step(docs)\n",
    "        # Estimate held-out likelihood for current values of lambda.\n",
    "        bound = self.approx_bound(docs, gamma)\n",
    "        # Update lambda based on documents.\n",
    "        self._lambda = self._lambda * (1-rhot) + \\\n",
    "            rhot * (self._eta + self._D * sstats / len(docs))\n",
    "        self._Elogbeta = dirichlet_expectation(self._lambda)\n",
    "        self._expElogbeta = n.exp(self._Elogbeta)\n",
    "        self._updatect += 1\n",
    "\n",
    "        return(gamma, bound)\n",
    "\n",
    "    def approx_bound(self, docs, gamma):\n",
    "        \"\"\"\n",
    "        Estimates the variational bound over *all documents* using only\n",
    "        the documents passed in as \"docs.\" gamma is the set of parameters\n",
    "        to the variational distribution q(theta) corresponding to the\n",
    "        set of documents passed in.\n",
    "\n",
    "        The output of this function is going to be noisy, but can be\n",
    "        useful for assessing convergence.\n",
    "        \"\"\"\n",
    "\n",
    "        # This is to handle the case where someone just hands us a single\n",
    "        # document, not in a list.\n",
    "        if (type(docs).__name__ == 'string'):\n",
    "            temp = list()\n",
    "            temp.append(docs)\n",
    "            docs = temp\n",
    "\n",
    "        (wordids, wordcts) = parse_doc_list(docs, self._vocab)\n",
    "        batchD = len(docs)\n",
    "\n",
    "        score = 0\n",
    "        Elogtheta = dirichlet_expectation(gamma)\n",
    "        expElogtheta = n.exp(Elogtheta)\n",
    "\n",
    "        # E[log p(docs | theta, beta)]\n",
    "        for d in range(0, batchD):\n",
    "            gammad = gamma[d, :]\n",
    "            ids = wordids[d]\n",
    "            cts = n.array(wordcts[d])\n",
    "            phinorm = n.zeros(len(ids))\n",
    "            for i in range(0, len(ids)):\n",
    "                temp = Elogtheta[d, :] + self._Elogbeta[:, ids[i]]\n",
    "                tmax = max(temp)\n",
    "                phinorm[i] = n.log(sum(n.exp(temp - tmax))) + tmax\n",
    "            score += n.sum(cts * phinorm)\n",
    "#             oldphinorm = phinorm\n",
    "#             phinorm = n.dot(expElogtheta[d, :], self._expElogbeta[:, ids])\n",
    "#             print oldphinorm\n",
    "#             print n.log(phinorm)\n",
    "#             score += n.sum(cts * n.log(phinorm))\n",
    "\n",
    "        # E[log p(theta | alpha) - log q(theta | gamma)]\n",
    "        score += n.sum((self._alpha - gamma)*Elogtheta)\n",
    "        score += n.sum(gammaln(gamma) - gammaln(self._alpha))\n",
    "        score += sum(gammaln(self._alpha*self._K) - gammaln(n.sum(gamma, 1)))\n",
    "\n",
    "        # Compensate for the subsampling of the population of documents\n",
    "        score = score * self._D / len(docs)\n",
    "\n",
    "        # E[log p(beta | eta) - log q (beta | lambda)]\n",
    "        score = score + n.sum((self._eta-self._lambda)*self._Elogbeta)\n",
    "        score = score + n.sum(gammaln(self._lambda) - gammaln(self._eta))\n",
    "        score = score + n.sum(gammaln(self._eta*self._W) - \n",
    "                              gammaln(n.sum(self._lambda, 1)))\n",
    "\n",
    "        return(score)"
   ]
  },
  {
   "cell_type": "markdown",
   "metadata": {},
   "source": [
    "####Applying the tweets dataset on the Batch Variation Bayesian LDA"
   ]
  },
  {
   "cell_type": "code",
   "execution_count": 4,
   "metadata": {
    "collapsed": true
   },
   "outputs": [],
   "source": [
    "import xlrd\n",
    "import numpy\n",
    "import re  "
   ]
  },
  {
   "cell_type": "markdown",
   "metadata": {},
   "source": [
    "1. dftokens.xls: Each row represents one tweet, including all the information needed\n",
    "\n",
    "2. stop_word.txt: Each line is a stop word, a potentially unsubstantive word which should be filtered out before natural language processing"
   ]
  },
  {
   "cell_type": "code",
   "execution_count": 6,
   "metadata": {
    "collapsed": true
   },
   "outputs": [],
   "source": [
    "stop_word_list = []\n",
    "file_name = 'raw_data/stop_word.txt'\n",
    "\n",
    "file_ = open(file_name,'r')\n",
    "line = file_.readlines()\n",
    "\n",
    "for stopword in line:\n",
    "    stop_word_list.append(stopword)\n",
    "stop_word_list = [x.replace('\\r\\n',str()) for x in stop_word_list]\n"
   ]
  },
  {
   "cell_type": "code",
   "execution_count": 7,
   "metadata": {
    "collapsed": true
   },
   "outputs": [],
   "source": [
    "wb = xlrd.open_workbook('raw_data/dftokens.xls')\n",
    "ws = wb.sheet_by_name('tweets')"
   ]
  },
  {
   "cell_type": "code",
   "execution_count": 8,
   "metadata": {
    "collapsed": true
   },
   "outputs": [],
   "source": [
    "vocab = []\n",
    "docset = []\n",
    "for row_idx in range(1, ws.nrows):\n",
    "    tweet = unicode(ws.row_values(row_idx)[7]).encode(\"utf-8\")        \n",
    "    tweet = ' '.join(re.sub(\"(@[A-Za-z0-9]+)|([^0-9A-Za-z '\\t])|(\\w+:\\/\\/\\S+)\",\" \",tweet).split())    \n",
    "    tmp = str()\n",
    "    for word in tweet.split():\n",
    "        if (word.lower() not in  stop_word_list) :\n",
    "            tmp+=word.lower()\n",
    "            tmp+=\" \"\n",
    "            if (word.lower() not in  vocab) :\n",
    "                vocab+=[word.lower()]\n",
    "    if (tmp!=\"\"):\n",
    "        docset+=[tmp[:len(tmp)-1]]\n",
    "#print docset"
   ]
  },
  {
   "cell_type": "code",
   "execution_count": 40,
   "metadata": {
    "collapsed": false
   },
   "outputs": [],
   "source": [
    "W = len(vocab)\n",
    "D = len(docset)\n",
    "batchsize = 64\n",
    "documentstoanalyze = int(D/batchsize)\n",
    "K = 5\n",
    "olda_ingredient = OnlineLDA(vocab, K, D, 1./K, 1./K, 1024., 0.6)\n",
    "n_pass = 1\n",
    "for iteration in range(0, n_pass*documentstoanalyze):\n",
    "    perm_indexes = numpy.random.permutation(range(D))[0:batchsize]\n",
    "    sub_docset = []\n",
    "    for idx in perm_indexes:\n",
    "        sub_docset.append(docset[idx])\n",
    "    # Give them to online LDA\n",
    "    (gamma, bound) = olda_ingredient.update_lambda(sub_docset)\n",
    "    # Compute an estimate of held-out perplexity\n",
    "    (wordids, wordcts) = parse_doc_list(sub_docset, olda_ingredient._vocab)\n",
    "    perwordbound = bound * len(sub_docset) / (D * sum(map(sum, wordcts)))\n",
    "    #print '%d:  rho_t = %f,  held-out perplexity estimate = %f' % \\\n",
    "     #   (iteration, olda_ingredient._rhot, numpy.exp(-perwordbound))"
   ]
  },
  {
   "cell_type": "code",
   "execution_count": 41,
   "metadata": {
    "collapsed": false
   },
   "outputs": [
    {
     "name": "stdout",
     "output_type": "stream",
     "text": [
      "41303\n",
      "topic 0:\n",
      "                love  \t---\t  0.0276\n",
      "              people  \t---\t  0.0152\n",
      "                game  \t---\t  0.0133\n",
      "                life  \t---\t  0.0106\n",
      "                home  \t---\t  0.0103\n",
      "             tonight  \t---\t  0.0084\n",
      "               gonna  \t---\t  0.0072\n",
      "                wait  \t---\t  0.0070\n",
      "                stop  \t---\t  0.0060\n",
      "                hope  \t---\t  0.0057\n",
      "topic 1:\n",
      "               today  \t---\t  0.0187\n",
      "              boston  \t---\t  0.0102\n",
      "                feel  \t---\t  0.0099\n",
      "                shit  \t---\t  0.0079\n",
      "             fucking  \t---\t  0.0078\n",
      "                 god  \t---\t  0.0073\n",
      "                hate  \t---\t  0.0067\n",
      "               hours  \t---\t  0.0062\n",
      "               watch  \t---\t  0.0060\n",
      "                  st  \t---\t  0.0050\n",
      "topic 2:\n",
      "        thanksgiving  \t---\t  0.0351\n",
      "                 amp  \t---\t  0.0332\n",
      "               happy  \t---\t  0.0287\n",
      "               night  \t---\t  0.0121\n",
      "            thankful  \t---\t  0.0118\n",
      "                  gt  \t---\t  0.0111\n",
      "            tomorrow  \t---\t  0.0099\n",
      "            birthday  \t---\t  0.0088\n",
      "              school  \t---\t  0.0088\n",
      "       massachusetts  \t---\t  0.0080\n",
      "topic 3:\n",
      "                  ma  \t---\t  0.0528\n",
      "                 job  \t---\t  0.0495\n",
      "              hiring  \t---\t  0.0425\n",
      "              boston  \t---\t  0.0238\n",
      "                jobs  \t---\t  0.0193\n",
      "           careerarc  \t---\t  0.0185\n",
      "                time  \t---\t  0.0177\n",
      "                good  \t---\t  0.0165\n",
      "               great  \t---\t  0.0146\n",
      "              latest  \t---\t  0.0123\n",
      "topic 4:\n",
      "                 day  \t---\t  0.0269\n",
      "                 man  \t---\t  0.0122\n",
      "                fuck  \t---\t  0.0118\n",
      "                  im  \t---\t  0.0094\n",
      "                nice  \t---\t  0.0081\n",
      "               start  \t---\t  0.0068\n",
      "                 big  \t---\t  0.0061\n",
      "             amazing  \t---\t  0.0061\n",
      "               gotta  \t---\t  0.0057\n",
      "                hard  \t---\t  0.0051\n"
     ]
    }
   ],
   "source": [
    "#numpy.savetxt('lambda-ingredient-%d.txt' % iteration, olda_ingredient._lambda)\n",
    "#numpy.savetxt('gamma-ingredient-%d.txt' % iteration, gamma)\n",
    "\n",
    "num_elements = 10\n",
    "testlambda = olda_ingredient._lambda\n",
    "print len(testlambda[1])\n",
    "for k in range(0, len(testlambda)):\n",
    "\n",
    "    lambdak = list(testlambda[k, :])\n",
    "    lambdak = lambdak / sum(lambdak)\n",
    "    temp = zip(lambdak, range(0, len(lambdak)))\n",
    "    temp = sorted(temp, key = lambda x: x[0], reverse=True)\n",
    "    print 'topic %d:' % (k)\n",
    "    # feel free to change the \"53\" here to whatever fits your screen nicely.\n",
    "    for i in range(0, num_elements):\n",
    "        print '%20s  \\t---\\t  %.4f' % (vocab[temp[i][1]], temp[i][0])"
   ]
  },
  {
   "cell_type": "markdown",
   "metadata": {},
   "source": [
    "**Understanding The Result** :\n",
    "<br> The above list gives us the most significant 5 topics people were discussing during the Thanksgiving break. \n",
    "<br> To interprete: \n",
    "<br><li> Topic 0: It is clearly related to the thanksgiving break, people are talking about family.\n",
    "<br><li> Topic 1: People are showing a degree of anger, I guess this might be related to the lost game of Patriots.\n",
    "<br><li> Topic 2: This is related to the thanksgiving night, people are talking positive words.\n",
    "<br><li> Topic 3: This is a spamming account, which kept posting career hiring on twitter in Boston area.\n",
    "<br><li> Topic 4: People are complaining about the end of the holiday because they have to go back to work/school"
   ]
  },
  {
   "cell_type": "markdown",
   "metadata": {},
   "source": [
    "###Unsupervised Topic Extraction with LDA"
   ]
  },
  {
   "cell_type": "markdown",
   "metadata": {},
   "source": [
    "As we can see from the interpretation above, the **Batch Variation Bayes for LDA** generated pretty plausible result. However, WE WANT TO KNOW MORE! Instead of just knowing what top five topics of all the tweets gathered, we explore further to see whick topic each tweet belongs to. This requires mapping back the lda model to specific set of words and generate topic distribution. To do this, we switched our direction a bit by adopting the LDA method introdeced in *HW5* and added some helper function to reach our goal. In this section we will walk through the entire process from creating vocabulary to finding the best number of topics to LDA modeling and finally to topic mapping."
   ]
  },
  {
   "cell_type": "markdown",
   "metadata": {},
   "source": [
    "We want to find out what a particular sentence of a tweet talks about. We look at the nouns of the sentence to do this. The nouns are the first elements of all the tuples we created. We flatten the outer list which holds all the lists corresponding to one given tweet out, because we now want to treat each accepted sentence in a tweet as a separate mini-tweet."
   ]
  },
  {
   "cell_type": "markdown",
   "metadata": {},
   "source": [
    "The generative model for LDA is one in which a document comes from a mixture of topics. Each topic can be thought of as a cluster. We need some data which has very clear and strong cluster membership to clearly delineate the clusters. Thus we need to treat the text at a granularity where at-least some sentences have strong cluster membership. For a tweet, for example, some sentences may talk only about thanksgiving food, and some sentences may talk only about shopping, and its important to have these so that the topics (clusters) can be clearly established. Thus a sentence is a reasonable granularity, while a paragraph may be too big.\n",
    "\n",
    "We use Spark's `flatMap` to do this."
   ]
  },
  {
   "cell_type": "code",
   "execution_count": 88,
   "metadata": {
    "collapsed": false
   },
   "outputs": [
    {
     "data": {
      "text/plain": [
       "[[u'mood'], [u'age', u'adult'], [u'netflix'], [u'bit', u'amp'], [u'goody']]"
      ]
     },
     "execution_count": 88,
     "metadata": {},
     "output_type": "execute_result"
    }
   ],
   "source": [
    "ldadatardd=sc.parallelize([ele[0] for ele in parseout]).flatMap(lambda l: l)\n",
    "ldadatardd.cache()\n",
    "ldadatardd.take(5)"
   ]
  },
  {
   "cell_type": "markdown",
   "metadata": {},
   "source": [
    "#### Creating the vocabulary"
   ]
  },
  {
   "cell_type": "markdown",
   "metadata": {},
   "source": [
    "We have a set of \"documents\" for the LDA, each corresponding to the nouns in a sentence in all the tweets, lets go about compiling the complete vocabulary that these documents use. We need to do this so that we can set up the documents in the form of a corpus, where each document is a sparse vector of the size of the vocabulary, with a number in the slot for the word indicating how many times that word appeared in a document.\n",
    "So the first thing we want to do is to collect all the words. One more flattening does the job but will have duplicates"
   ]
  },
  {
   "cell_type": "code",
   "execution_count": 89,
   "metadata": {
    "collapsed": false
   },
   "outputs": [
    {
     "data": {
      "text/plain": [
       "[u'mood',\n",
       " u'age',\n",
       " u'adult',\n",
       " u'netflix',\n",
       " u'bit',\n",
       " u'amp',\n",
       " u'goody',\n",
       " u'order',\n",
       " u'cheese',\n",
       " u'pizza',\n",
       " u'friend',\n",
       " u'cop',\n",
       " u'job',\n",
       " u'movie',\n",
       " u'hotel']"
      ]
     },
     "execution_count": 89,
     "metadata": {},
     "output_type": "execute_result"
    }
   ],
   "source": [
    "ldadatardd.flatMap(lambda word: word).take(15)"
   ]
  },
  {
   "cell_type": "markdown",
   "metadata": {},
   "source": [
    "Then, in the usual word-count style we reduce to get the word numbers and then just drop these numbers as we dont care for them. We zipWithIndex the words to give them an index which we'll use as the place index in the corpus vector."
   ]
  },
  {
   "cell_type": "code",
   "execution_count": 90,
   "metadata": {
    "collapsed": true
   },
   "outputs": [],
   "source": [
    "vocabtups = (ldadatardd.flatMap(lambda word: word)\n",
    "             .map(lambda word: (word, 1))\n",
    "             .reduceByKey(lambda a, b: a + b)\n",
    "             .map(lambda (x,y): x)\n",
    "             .zipWithIndex()\n",
    ").cache()"
   ]
  },
  {
   "cell_type": "markdown",
   "metadata": {},
   "source": [
    "We use Spark's collectAsMap to output the vocabulary vocab with the words as keys. We also use map to invert this dictionary and get id2word which maps the index to the word. This dictionary is then used by Gensim."
   ]
  },
  {
   "cell_type": "code",
   "execution_count": 91,
   "metadata": {
    "collapsed": true
   },
   "outputs": [],
   "source": [
    "vocab=vocabtups.collectAsMap()\n",
    "id2word=vocabtups.map(lambda (x,y): (y,x)).collectAsMap()"
   ]
  },
  {
   "cell_type": "markdown",
   "metadata": {},
   "source": [
    "The size of our vocabulary:"
   ]
  },
  {
   "cell_type": "code",
   "execution_count": 92,
   "metadata": {
    "collapsed": false
   },
   "outputs": [
    {
     "data": {
      "text/plain": [
       "25738"
      ]
     },
     "execution_count": 92,
     "metadata": {},
     "output_type": "execute_result"
    }
   ],
   "source": [
    "len(vocab.keys())"
   ]
  },
  {
   "cell_type": "markdown",
   "metadata": {},
   "source": [
    "#### Create a Corpus in bag of words form"
   ]
  },
  {
   "cell_type": "markdown",
   "metadata": {},
   "source": [
    "Now we create the lazy RDD `documents`.  `documents`  will be a list of lists that reflects the entire set of sentences. Each one of the member lists consists of a set of tuples `(index, count)` where `index` is the index of the corresponding word in the vocabulary and `count` is the number of times it occured in the sentence.\n",
    "\n",
    "`documents` will look something like:\n",
    "\n",
    "```\n",
    "[[(5912, 1), (3809, 1), (14131, 1), (3876, 1)],\n",
    "[(3266, 1), (3652, 1), (11644, 1), (2296, 1), (27516, 1), (8382, 1)],\n",
    " [(17217, 1), (22979, 1), (11210, 1), (18736, 1), (3893, 1), (21307, 1)],\n",
    " ...,\n",
    " [(23980, 1), (24730, 1), (22979, 1), (20012, 1), (11206, 2)]]\n",
    "```"
   ]
  },
  {
   "cell_type": "code",
   "execution_count": 93,
   "metadata": {
    "collapsed": true
   },
   "outputs": [],
   "source": [
    "from collections import defaultdict\n",
    "def constructDict(wordlist):\n",
    "    result = defaultdict(int)\n",
    "    for word in wordlist:\n",
    "        result[word] += 1\n",
    "    return list(result.iteritems())\n",
    "\n",
    "documents = ldadatardd.map(lambda x: [vocab[i] for i in x]).map(lambda x: constructDict(x))\n"
   ]
  },
  {
   "cell_type": "markdown",
   "metadata": {},
   "source": [
    "We `collect` and store in the variable `corpus`."
   ]
  },
  {
   "cell_type": "code",
   "execution_count": 94,
   "metadata": {
    "collapsed": false
   },
   "outputs": [],
   "source": [
    "corpus=documents.collect()"
   ]
  },
  {
   "cell_type": "markdown",
   "metadata": {},
   "source": [
    "We now run the LDA algorithm on the nouns only. The nouns typically reflect the themes of a tweet sentence and including other parts of speech adds noise.\n",
    "\n",
    "We'll explore different number of topics, since the tweets are collected without theme bias, and they should intuitivly belong to different topics. However, out wish is there are at least two specific kind of topics generated: *thanksgiving reunion* and *thanksgiving shopping*, since the data is collected before, during and after thanksgiving holidays and it is our intuition to study thanksgiving's influence on tweets. Of course there will be some mixing and such. The decision is rarely ever completely clean.\n",
    "\n",
    "Remember that LDA is an unsupervised algorithm, so there is no \"performance\" to measure. But we would like the two clusters we are looking for to correspond to our intuition that one should cover the thanksgiving reunion (including food) and one the another qualities of the shopping. Or something similar.\n",
    "\n",
    "But again remember that there is no reason that this intuition is correct. Since these clusters are \"latent\" factors. But if they do coincide with topics/classes/clusters in our data, LDA is more useful.\n",
    "\n",
    "We run LDA using a method called \"variational inference\", which can be updated online. We run it in chunks of 20,000 documents, hoping that topics have converged by then. This makes subsequent training faster."
   ]
  },
  {
   "cell_type": "markdown",
   "metadata": {},
   "source": [
    "####Finding the natural number of topics for Latent Dirichlet Allocationopics to fit the LDA Model."
   ]
  },
  {
   "cell_type": "markdown",
   "metadata": {},
   "source": [
    "Frequently, setting the parameter for the number of topics is treated as ‘an art’. However, Arun et al2 have put forward a process for finding the natural number of topics through matrix factorisation. After seeing a few requests for an implementation of this, we coded up a way to do it with gensim library for Python and combine the result with empirical evidence to decide the number of topics. "
   ]
  },
  {
   "cell_type": "markdown",
   "metadata": {},
   "source": [
    "The HDP mixture model is a natural nonparametric generalization of Latent Dirichlet allocation, where the number of topics can be unbounded and learnt from data. Here each group is a document consisting of a bag of words, each cluster is a topic, and each document is a mixture of topics. The HDP is also a core component of the infinite hidden Markov model, which is a nonparametric generalization of the hidden Markov model allowing the number of states to be unbounded and learnt from data.\n",
    "\n",
    "The HDP module encapsulates functionality for the online Hierarchical Dirichlet Process algorithm. It allows both model estimation from a training corpus and inference of topic distribution on new, unseen documents."
   ]
  },
  {
   "cell_type": "code",
   "execution_count": 96,
   "metadata": {
    "collapsed": false
   },
   "outputs": [],
   "source": [
    "from gensim import models\n",
    "hdp = models.HdpModel(corpus = corpus, id2word = id2word)"
   ]
  },
  {
   "cell_type": "markdown",
   "metadata": {},
   "source": [
    "Since in HDP model the number of topics can be unbounded and learnt from data, we print out the top 10 topics:"
   ]
  },
  {
   "cell_type": "code",
   "execution_count": 104,
   "metadata": {
    "collapsed": false
   },
   "outputs": [
    {
     "name": "stdout",
     "output_type": "stream",
     "text": [
      "topic 0: 0.005*gt + 0.003*job + 0.002*temperature + 0.002*humidity + 0.002*pressure + 0.001*amp + 0.001*wind + 0.001*day + 0.001*person + 0.001*time + 0.001*fit + 0.001*thing + 0.001*game + 0.001*thanksgiving + 0.001*year + 0.001*today + 0.001*friend + 0.001*thank + 0.001*sale + 0.001*love\n",
      "\n",
      "topic 1: 0.003*job + 0.002*amp + 0.001*time + 0.001*person + 0.001*day + 0.001*year + 0.001*fit + 0.001*thanksgiving + 0.001*today + 0.001*game + 0.001*friend + 0.001*family + 0.001*guy + 0.001*thank + 0.001*thing + 0.001*sale + 0.001*shit + 0.001*life + 0.001*click + 0.000*monday\n",
      "\n",
      "topic 2: 0.003*job + 0.001*amp + 0.001*person + 0.001*day + 0.001*time + 0.001*today + 0.001*fit + 0.001*thanksgiving + 0.001*friend + 0.001*year + 0.001*thing + 0.001*family + 0.001*thank + 0.001*man + 0.001*sale + 0.001*life + 0.001*shit + 0.001*game + 0.001*click + 0.000*night\n",
      "\n",
      "topic 3: 0.003*job + 0.001*amp + 0.001*person + 0.001*day + 0.001*time + 0.001*thanksgiving + 0.001*fit + 0.001*today + 0.001*year + 0.001*thing + 0.001*friend + 0.001*man + 0.001*life + 0.001*game + 0.001*thank + 0.001*sale + 0.001*click + 0.001*family + 0.001*way + 0.001*birthday\n",
      "\n",
      "topic 4: 0.003*job + 0.001*amp + 0.001*person + 0.001*thanksgiving + 0.001*day + 0.001*time + 0.001*fit + 0.001*today + 0.001*friend + 0.001*year + 0.001*game + 0.001*thing + 0.001*thank + 0.001*life + 0.001*home + 0.001*shit + 0.001*sale + 0.000*click + 0.000*family + 0.000*birthday\n",
      "\n",
      "topic 5: 0.003*job + 0.001*amp + 0.001*person + 0.001*day + 0.001*time + 0.001*fit + 0.001*today + 0.001*thanksgiving + 0.001*birthday + 0.001*friend + 0.001*thank + 0.001*game + 0.001*year + 0.001*thing + 0.001*life + 0.001*way + 0.001*family + 0.001*sale + 0.000*click + 0.000*shit\n",
      "\n",
      "topic 6: 0.003*job + 0.001*amp + 0.001*person + 0.001*day + 0.001*time + 0.001*thanksgiving + 0.001*today + 0.001*game + 0.001*fit + 0.001*year + 0.001*family + 0.001*thing + 0.001*thank + 0.001*life + 0.001*friend + 0.001*night + 0.001*shit + 0.001*sale + 0.001*click + 0.000*way\n",
      "\n",
      "topic 7: 0.003*job + 0.001*amp + 0.001*person + 0.001*day + 0.001*fit + 0.001*time + 0.001*today + 0.001*thanksgiving + 0.001*thing + 0.001*game + 0.001*year + 0.001*thank + 0.001*friend + 0.001*family + 0.001*click + 0.001*life + 0.001*way + 0.001*sale + 0.001*shit + 0.000*man\n",
      "\n",
      "topic 8: 0.003*job + 0.001*amp + 0.001*person + 0.001*day + 0.001*year + 0.001*time + 0.001*fit + 0.001*thanksgiving + 0.001*today + 0.001*sale + 0.001*thank + 0.001*game + 0.001*friend + 0.001*birthday + 0.001*click + 0.001*thing + 0.001*life + 0.001*shit + 0.000*family + 0.000*night\n",
      "\n",
      "topic 9: 0.003*job + 0.001*amp + 0.001*fit + 0.001*person + 0.001*day + 0.001*time + 0.001*shit + 0.001*thanksgiving + 0.001*friend + 0.001*today + 0.001*sale + 0.001*year + 0.001*game + 0.001*team + 0.001*thing + 0.001*click + 0.001*thank + 0.001*family + 0.001*way + 0.001*life\n",
      "\n"
     ]
    }
   ],
   "source": [
    "hdp_topics = hdp.print_topics(10)\n",
    "for i in hdp_topics:\n",
    "    print i + '\\n'\n"
   ]
  },
  {
   "cell_type": "markdown",
   "metadata": {},
   "source": [
    "Judging from the output, we see the topics don't change much after 5, moreover, the fisrt part of our LDA with 5 topics generate pretty plausible results. Thus we choose **topic number = 5** for all the following LDA analysis."
   ]
  },
  {
   "cell_type": "code",
   "execution_count": 135,
   "metadata": {
    "collapsed": false
   },
   "outputs": [
    {
     "name": "stderr",
     "output_type": "stream",
     "text": [
      "WARNING:gensim.models.ldamodel:too few updates, training might not converge; consider increasing the number of passes or iterations to improve accuracy\n"
     ]
    }
   ],
   "source": [
    "import gensim\n",
    "lda5 = gensim.models.ldamodel.LdaModel(corpus = corpus, id2word = id2word, num_topics = 5, update_every=1, chunksize=20000, passes=1)"
   ]
  },
  {
   "cell_type": "markdown",
   "metadata": {},
   "source": [
    "####LDA Topic Interpretation"
   ]
  },
  {
   "cell_type": "markdown",
   "metadata": {},
   "source": [
    "Since LDA is a generative model, each time the trained topics are different. To further explore the hidden facts of tweeter data during Thanksgiving, we need to make sure the topics stays consistant during the following analysis. To do this, we record one of our topic result and use it for all following analysis."
   ]
  },
  {
   "cell_type": "markdown",
   "metadata": {},
   "source": [
    "<img src='lda_topic.png' width=1200 height=480/>"
   ]
  },
  {
   "cell_type": "code",
   "execution_count": null,
   "metadata": {
    "collapsed": true
   },
   "outputs": [],
   "source": [
    "for bow in corpus[0:900:15]:\n",
    "    print bow\n",
    "    print lda5.get_document_topics(bow)\n",
    "    print \" \".join([id2word[e[0]] for e in bow])\n",
    "    print \"==========================================\""
   ]
  },
  {
   "cell_type": "markdown",
   "metadata": {},
   "source": [
    "We create a new dataframe **topicRef** to store the the topic indices and their corresponding bag of words."
   ]
  },
  {
   "cell_type": "code",
   "execution_count": 138,
   "metadata": {
    "collapsed": true
   },
   "outputs": [],
   "source": [
    "topic_index = []\n",
    "topic_BoW = []\n",
    "for i in lda5.print_topics():\n",
    "    topic_index.append(i[0])\n",
    "    topic_BoW.append(i[1])\n",
    "\n",
    "topicRef = pd.DataFrame({'topic_index':topic_index, 'topic_BoW': topic_BoW})"
   ]
  },
  {
   "cell_type": "code",
   "execution_count": 142,
   "metadata": {
    "collapsed": false
   },
   "outputs": [
    {
     "data": {
      "text/html": [
       "<div>\n",
       "<table border=\"1\" class=\"dataframe\">\n",
       "  <thead>\n",
       "    <tr style=\"text-align: right;\">\n",
       "      <th></th>\n",
       "      <th>topic_BoW</th>\n",
       "      <th>topic_index</th>\n",
       "    </tr>\n",
       "  </thead>\n",
       "  <tbody>\n",
       "    <tr>\n",
       "      <th>0</th>\n",
       "      <td>0.161*job + 0.050*fit + 0.039*time + 0.034*sal...</td>\n",
       "      <td>0</td>\n",
       "    </tr>\n",
       "    <tr>\n",
       "      <th>1</th>\n",
       "      <td>0.038*year + 0.025*shit + 0.024*birthday + 0.0...</td>\n",
       "      <td>1</td>\n",
       "    </tr>\n",
       "    <tr>\n",
       "      <th>2</th>\n",
       "      <td>0.042*face + 0.039*amp + 0.033*tear + 0.021*gu...</td>\n",
       "      <td>2</td>\n",
       "    </tr>\n",
       "    <tr>\n",
       "      <th>3</th>\n",
       "      <td>0.054*day + 0.040*today + 0.026*thanksgiving +...</td>\n",
       "      <td>3</td>\n",
       "    </tr>\n",
       "    <tr>\n",
       "      <th>4</th>\n",
       "      <td>0.061*person + 0.021*friend + 0.016*love + 0.0...</td>\n",
       "      <td>4</td>\n",
       "    </tr>\n",
       "  </tbody>\n",
       "</table>\n",
       "</div>"
      ],
      "text/plain": [
       "                                           topic_BoW  topic_index\n",
       "0  0.161*job + 0.050*fit + 0.039*time + 0.034*sal...            0\n",
       "1  0.038*year + 0.025*shit + 0.024*birthday + 0.0...            1\n",
       "2  0.042*face + 0.039*amp + 0.033*tear + 0.021*gu...            2\n",
       "3  0.054*day + 0.040*today + 0.026*thanksgiving +...            3\n",
       "4  0.061*person + 0.021*friend + 0.016*love + 0.0...            4"
      ]
     },
     "execution_count": 142,
     "metadata": {},
     "output_type": "execute_result"
    }
   ],
   "source": [
    "topicRef"
   ]
  },
  {
   "cell_type": "markdown",
   "metadata": {
    "collapsed": true
   },
   "source": [
    "With **topicRef**, we are able to interprete what each topic means:"
   ]
  },
  {
   "cell_type": "markdown",
   "metadata": {},
   "source": [
    "**Topic 0: ** \n",
    "* Keyword: *Sale*\n",
    "* Bag of words: sale, click, life, thing, thank...\n",
    "\n",
    "**Topic 1: ** \n",
    "* Keyword: *Patriots* (People complaining about the loss of Patriots during thanksgiving week)\n",
    "* Bag of words: game, hour, ass, year, shit, man...\n",
    "\n",
    "**Topic 2: ** \n",
    "* Keyword: *Other*\n",
    "* Bag of words: face, tear, guy, night, world...\n",
    "\n",
    "**Topic 3: ** \n",
    "* Keyword: *Family*\n",
    "* Bag of words: family, home, team, school, tonight...\n",
    "\n",
    "**Topic 4: ** \n",
    "* Keyword: *Holiday*\n",
    "* Bag of words: friend, love, girl, food, holiday..."
   ]
  },
  {
   "cell_type": "markdown",
   "metadata": {},
   "source": [
    "We then add an column named 'Keyword' to **topicRef** to label the theme of the tweet. We also create an dictionary that maps the topic index and keyword for future reference."
   ]
  },
  {
   "cell_type": "code",
   "execution_count": 153,
   "metadata": {
    "collapsed": false
   },
   "outputs": [
    {
     "data": {
      "text/html": [
       "<div>\n",
       "<table border=\"1\" class=\"dataframe\">\n",
       "  <thead>\n",
       "    <tr style=\"text-align: right;\">\n",
       "      <th></th>\n",
       "      <th>topic_BoW</th>\n",
       "      <th>topic_index</th>\n",
       "      <th>Keyword</th>\n",
       "    </tr>\n",
       "  </thead>\n",
       "  <tbody>\n",
       "    <tr>\n",
       "      <th>0</th>\n",
       "      <td>0.161*job + 0.050*fit + 0.039*time + 0.034*sal...</td>\n",
       "      <td>0</td>\n",
       "      <td>Sale</td>\n",
       "    </tr>\n",
       "    <tr>\n",
       "      <th>1</th>\n",
       "      <td>0.038*year + 0.025*shit + 0.024*birthday + 0.0...</td>\n",
       "      <td>1</td>\n",
       "      <td>Patriots</td>\n",
       "    </tr>\n",
       "    <tr>\n",
       "      <th>2</th>\n",
       "      <td>0.042*face + 0.039*amp + 0.033*tear + 0.021*gu...</td>\n",
       "      <td>2</td>\n",
       "      <td>Other</td>\n",
       "    </tr>\n",
       "    <tr>\n",
       "      <th>3</th>\n",
       "      <td>0.054*day + 0.040*today + 0.026*thanksgiving +...</td>\n",
       "      <td>3</td>\n",
       "      <td>Family</td>\n",
       "    </tr>\n",
       "    <tr>\n",
       "      <th>4</th>\n",
       "      <td>0.061*person + 0.021*friend + 0.016*love + 0.0...</td>\n",
       "      <td>4</td>\n",
       "      <td>Holiday</td>\n",
       "    </tr>\n",
       "  </tbody>\n",
       "</table>\n",
       "</div>"
      ],
      "text/plain": [
       "                                           topic_BoW  topic_index   Keyword\n",
       "0  0.161*job + 0.050*fit + 0.039*time + 0.034*sal...            0      Sale\n",
       "1  0.038*year + 0.025*shit + 0.024*birthday + 0.0...            1  Patriots\n",
       "2  0.042*face + 0.039*amp + 0.033*tear + 0.021*gu...            2     Other\n",
       "3  0.054*day + 0.040*today + 0.026*thanksgiving +...            3    Family\n",
       "4  0.061*person + 0.021*friend + 0.016*love + 0.0...            4   Holiday"
      ]
     },
     "execution_count": 153,
     "metadata": {},
     "output_type": "execute_result"
    }
   ],
   "source": [
    "topicRef['Keyword'] = ['Sale', 'Patriots', 'Other', 'Family', 'Holiday']\n",
    "topicRef"
   ]
  },
  {
   "cell_type": "code",
   "execution_count": 156,
   "metadata": {
    "collapsed": false
   },
   "outputs": [
    {
     "data": {
      "text/plain": [
       "{0: 'Sale', 1: 'Patriots', 2: 'Other', 3: 'Family', 4: 'Holiday'}"
      ]
     },
     "execution_count": 156,
     "metadata": {},
     "output_type": "execute_result"
    }
   ],
   "source": [
    "topic_keyword = dict(zip(topicRef.topic_index, topicRef.Keyword))\n",
    "topic_keyword"
   ]
  },
  {
   "cell_type": "markdown",
   "metadata": {},
   "source": [
    "####Map the topic of each tweet "
   ]
  },
  {
   "cell_type": "markdown",
   "metadata": {},
   "source": [
    "Now that we have trained and compared models with different number of topics, and based on the analysis above, we decide to use lda5 for our next step: classifying the topic each tweet belongs to and getting the classifying confidence."
   ]
  },
  {
   "cell_type": "markdown",
   "metadata": {},
   "source": [
    "We define function *getTweetTopic* to get take the cleaned tweet text as input and generate its Topic. Here we simply take the topic with highest probabality from the topics set."
   ]
  },
  {
   "cell_type": "code",
   "execution_count": 121,
   "metadata": {
    "collapsed": true
   },
   "outputs": [],
   "source": [
    "\"\"\"\n",
    "Function\n",
    "--------\n",
    "getTweetTopic\n",
    "\n",
    "Get the topic index given the cleaned tweet text.\n",
    "\n",
    "Parameters\n",
    "----------\n",
    "tweet_text : a list of tokens of a tweet.\n",
    "lda_model: the LDA model adopted to make classifications\n",
    "returnType: decide whether to return the topic index or the confidence, 0 for index, 1 for confidence\n",
    "\n",
    "Output\n",
    "----------\n",
    "the topic index or the confidence of classification of the input tweet\n",
    "\n",
    "\"\"\"\n",
    "\n",
    "def getTweetTopic(tweet_text, lda_model, returnType = 0):\n",
    "    words = tweet_text.split(' ')\n",
    "    words_idx = []\n",
    "    for i in words:\n",
    "        if i in vocab.keys():\n",
    "            words_idx.append(vocab[i])\n",
    "    topics = lda_model.get_document_topics(constructDict(words_idx))\n",
    "    topics.sort(key=lambda x: x[1], reverse = True)\n",
    "    \n",
    "    if returnType == 0:\n",
    "        return topics[0][0]\n",
    "    else:\n",
    "        return topics[0][1]"
   ]
  },
  {
   "cell_type": "markdown",
   "metadata": {},
   "source": [
    "Apply getTweetTopic to the cleaned_text in dftokens dataframe to get the topic index of each tweet, and create a new column named *'Topic'* in dftokens. We use spark to accelerate the process."
   ]
  },
  {
   "cell_type": "code",
   "execution_count": 118,
   "metadata": {
    "collapsed": true
   },
   "outputs": [],
   "source": [
    "dftokens_spark = sqlsc.createDataFrame(dftokens)"
   ]
  },
  {
   "cell_type": "code",
   "execution_count": 122,
   "metadata": {
    "collapsed": true
   },
   "outputs": [],
   "source": [
    "topics = dftokens_spark.map(lambda x: getTweetTopic(x.cleaned_text, lda5, 0))"
   ]
  },
  {
   "cell_type": "code",
   "execution_count": 154,
   "metadata": {
    "collapsed": false
   },
   "outputs": [],
   "source": [
    "%time\n",
    "topics = topics.collect()"
   ]
  },
  {
   "cell_type": "code",
   "execution_count": 157,
   "metadata": {
    "collapsed": true
   },
   "outputs": [],
   "source": [
    "#dftokens = pd.read_csv('raw_data/dfsentiment.csv')"
   ]
  },
  {
   "cell_type": "code",
   "execution_count": 159,
   "metadata": {
    "collapsed": true
   },
   "outputs": [],
   "source": [
    "dftokens['Topic'] = topics\n",
    "dftokens['Topic_keyword'] = dftokens.Topics.apply(lambda x: topic_keyword[x])"
   ]
  },
  {
   "cell_type": "markdown",
   "metadata": {},
   "source": [
    "Now **dftokens** has both sentiment and topic labels:"
   ]
  },
  {
   "cell_type": "code",
   "execution_count": 160,
   "metadata": {
    "collapsed": false
   },
   "outputs": [
    {
     "data": {
      "text/html": [
       "<div>\n",
       "<table border=\"1\" class=\"dataframe\">\n",
       "  <thead>\n",
       "    <tr style=\"text-align: right;\">\n",
       "      <th></th>\n",
       "      <th>index</th>\n",
       "      <th>user_id</th>\n",
       "      <th>date</th>\n",
       "      <th>time</th>\n",
       "      <th>tweet_longitude</th>\n",
       "      <th>tweet_latitude</th>\n",
       "      <th>tweet_id</th>\n",
       "      <th>text</th>\n",
       "      <th>followers_count</th>\n",
       "      <th>friends_count</th>\n",
       "      <th>statuses_count</th>\n",
       "      <th>created_at_u</th>\n",
       "      <th>truncated</th>\n",
       "      <th>quoted_text</th>\n",
       "      <th>in_reply_to_status_id</th>\n",
       "      <th>retweeted_status</th>\n",
       "      <th>timestamp_ms</th>\n",
       "      <th>lang</th>\n",
       "      <th>country</th>\n",
       "      <th>place_full_name</th>\n",
       "      <th>sent</th>\n",
       "      <th>quoted</th>\n",
       "      <th>s_clean</th>\n",
       "      <th>s_tokens</th>\n",
       "      <th>s_emo</th>\n",
       "      <th>s_hashtags</th>\n",
       "      <th>q_clean</th>\n",
       "      <th>q_tokens</th>\n",
       "      <th>q_emo</th>\n",
       "      <th>q_hashtags</th>\n",
       "      <th>cleaned_text</th>\n",
       "      <th>sentiment</th>\n",
       "      <th>Topics</th>\n",
       "      <th>Topic</th>\n",
       "      <th>Topic_keyword</th>\n",
       "    </tr>\n",
       "  </thead>\n",
       "  <tbody>\n",
       "    <tr>\n",
       "      <th>0</th>\n",
       "      <td>0</td>\n",
       "      <td>3095695629</td>\n",
       "      <td>2015-11-23</td>\n",
       "      <td>14:06:44</td>\n",
       "      <td>-71.683502</td>\n",
       "      <td>42.036932</td>\n",
       "      <td>668868299040665603</td>\n",
       "      <td>@DopeAhhAquarius lemme come over bro :(</td>\n",
       "      <td>7424</td>\n",
       "      <td>985</td>\n",
       "      <td>36984</td>\n",
       "      <td>Thu Mar 19 01:33:34 +0000 2015</td>\n",
       "      <td>False</td>\n",
       "      <td>NaN</td>\n",
       "      <td>6.688680e+17</td>\n",
       "      <td>False</td>\n",
       "      <td>1.448306e+12</td>\n",
       "      <td>en</td>\n",
       "      <td>United States</td>\n",
       "      <td>Massachusetts, USA</td>\n",
       "      <td>( lemme come over bro , [lemme, come, over, br...</td>\n",
       "      <td>NaN</td>\n",
       "      <td>lemme come over bro</td>\n",
       "      <td>[lemme, come, over, bro]</td>\n",
       "      <td>[:(]</td>\n",
       "      <td>[]</td>\n",
       "      <td>NaN</td>\n",
       "      <td>NaN</td>\n",
       "      <td>NaN</td>\n",
       "      <td>NaN</td>\n",
       "      <td>lemme come over bro</td>\n",
       "      <td>0</td>\n",
       "      <td>1</td>\n",
       "      <td>PythonRDD[28] at collect at &lt;ipython-input-123...</td>\n",
       "      <td>Patriots</td>\n",
       "    </tr>\n",
       "    <tr>\n",
       "      <th>1</th>\n",
       "      <td>1</td>\n",
       "      <td>2174756318</td>\n",
       "      <td>2015-11-23</td>\n",
       "      <td>14:06:44</td>\n",
       "      <td>-71.326858</td>\n",
       "      <td>42.636248</td>\n",
       "      <td>668868299116138496</td>\n",
       "      <td>I've been in a bad mood since like 2010</td>\n",
       "      <td>110</td>\n",
       "      <td>159</td>\n",
       "      <td>2199</td>\n",
       "      <td>Mon Nov 04 21:06:33 +0000 2013</td>\n",
       "      <td>False</td>\n",
       "      <td>NaN</td>\n",
       "      <td>0.000000e+00</td>\n",
       "      <td>False</td>\n",
       "      <td>1.448306e+12</td>\n",
       "      <td>en</td>\n",
       "      <td>United States</td>\n",
       "      <td>Lowell, MA</td>\n",
       "      <td>(I've been in a bad mood since like 2010, [i'v...</td>\n",
       "      <td>NaN</td>\n",
       "      <td>I've been in a bad mood since like 2010</td>\n",
       "      <td>[i've, been, in, a, bad, mood, since, like, 2010]</td>\n",
       "      <td>[]</td>\n",
       "      <td>[]</td>\n",
       "      <td>NaN</td>\n",
       "      <td>NaN</td>\n",
       "      <td>NaN</td>\n",
       "      <td>NaN</td>\n",
       "      <td>I've been in a bad mood since like 2010</td>\n",
       "      <td>0</td>\n",
       "      <td>2</td>\n",
       "      <td>PythonRDD[28] at collect at &lt;ipython-input-123...</td>\n",
       "      <td>Other</td>\n",
       "    </tr>\n",
       "    <tr>\n",
       "      <th>2</th>\n",
       "      <td>2</td>\n",
       "      <td>408976087</td>\n",
       "      <td>2015-11-23</td>\n",
       "      <td>14:06:46</td>\n",
       "      <td>-71.088755</td>\n",
       "      <td>42.313670</td>\n",
       "      <td>668868309526429697</td>\n",
       "      <td>what's the appropriate age for me to start act...</td>\n",
       "      <td>514</td>\n",
       "      <td>246</td>\n",
       "      <td>37162</td>\n",
       "      <td>Thu Nov 10 03:50:52 +0000 2011</td>\n",
       "      <td>False</td>\n",
       "      <td>NaN</td>\n",
       "      <td>0.000000e+00</td>\n",
       "      <td>False</td>\n",
       "      <td>1.448306e+12</td>\n",
       "      <td>en</td>\n",
       "      <td>United States</td>\n",
       "      <td>Boston, MA</td>\n",
       "      <td>(what's the appropriate age for me to start ac...</td>\n",
       "      <td>NaN</td>\n",
       "      <td>what's the appropriate age for me to start act...</td>\n",
       "      <td>[what's, the, appropriate, age, for, me, to, s...</td>\n",
       "      <td>[]</td>\n",
       "      <td>[]</td>\n",
       "      <td>NaN</td>\n",
       "      <td>NaN</td>\n",
       "      <td>NaN</td>\n",
       "      <td>NaN</td>\n",
       "      <td>what's the appropriate age for me to start act...</td>\n",
       "      <td>1</td>\n",
       "      <td>0</td>\n",
       "      <td>PythonRDD[28] at collect at &lt;ipython-input-123...</td>\n",
       "      <td>Sale</td>\n",
       "    </tr>\n",
       "    <tr>\n",
       "      <th>3</th>\n",
       "      <td>3</td>\n",
       "      <td>1163319366</td>\n",
       "      <td>2015-11-23</td>\n",
       "      <td>14:06:52</td>\n",
       "      <td>-71.312617</td>\n",
       "      <td>42.693109</td>\n",
       "      <td>668868335573012480</td>\n",
       "      <td>@JackSillin @AlexReedWX @WesternMEwx ...I assu...</td>\n",
       "      <td>465</td>\n",
       "      <td>604</td>\n",
       "      <td>57037</td>\n",
       "      <td>Sat Feb 09 16:02:36 +0000 2013</td>\n",
       "      <td>False</td>\n",
       "      <td>NaN</td>\n",
       "      <td>6.688683e+17</td>\n",
       "      <td>False</td>\n",
       "      <td>1.448306e+12</td>\n",
       "      <td>en</td>\n",
       "      <td>United States</td>\n",
       "      <td>Dracut, MA</td>\n",
       "      <td>(   I assume your dad works at your school?), ...</td>\n",
       "      <td>NaN</td>\n",
       "      <td>I assume your dad works at your school?)</td>\n",
       "      <td>[i, assume, your, dad, works, at, your, school...</td>\n",
       "      <td>[]</td>\n",
       "      <td>[]</td>\n",
       "      <td>NaN</td>\n",
       "      <td>NaN</td>\n",
       "      <td>NaN</td>\n",
       "      <td>NaN</td>\n",
       "      <td>I assume your dad works at your school?)</td>\n",
       "      <td>1</td>\n",
       "      <td>2</td>\n",
       "      <td>PythonRDD[28] at collect at &lt;ipython-input-123...</td>\n",
       "      <td>Other</td>\n",
       "    </tr>\n",
       "    <tr>\n",
       "      <th>4</th>\n",
       "      <td>6</td>\n",
       "      <td>107886768</td>\n",
       "      <td>2015-11-23</td>\n",
       "      <td>14:06:55</td>\n",
       "      <td>-96.307306</td>\n",
       "      <td>65.838115</td>\n",
       "      <td>668868346813771776</td>\n",
       "      <td>@kady I'm watching River (BBC) on netflix, I t...</td>\n",
       "      <td>961</td>\n",
       "      <td>1198</td>\n",
       "      <td>85936</td>\n",
       "      <td>Sun Jan 24 03:02:09 +0000 2010</td>\n",
       "      <td>False</td>\n",
       "      <td>NaN</td>\n",
       "      <td>0.000000e+00</td>\n",
       "      <td>False</td>\n",
       "      <td>1.448306e+12</td>\n",
       "      <td>en</td>\n",
       "      <td>Canada</td>\n",
       "      <td>Canada</td>\n",
       "      <td>( I'm watching River (BBC) on netflix, I think...</td>\n",
       "      <td>NaN</td>\n",
       "      <td>I'm watching River (BBC) on netflix, I think ...</td>\n",
       "      <td>[i'm, watching, river, (, bbc, ), on, netflix,...</td>\n",
       "      <td>[]</td>\n",
       "      <td>[]</td>\n",
       "      <td>NaN</td>\n",
       "      <td>NaN</td>\n",
       "      <td>NaN</td>\n",
       "      <td>NaN</td>\n",
       "      <td>I'm watching River (BBC) on netflix, I think ...</td>\n",
       "      <td>0</td>\n",
       "      <td>3</td>\n",
       "      <td>PythonRDD[28] at collect at &lt;ipython-input-123...</td>\n",
       "      <td>Family</td>\n",
       "    </tr>\n",
       "  </tbody>\n",
       "</table>\n",
       "</div>"
      ],
      "text/plain": [
       "   index     user_id        date      time  tweet_longitude  tweet_latitude            tweet_id                                               text  followers_count  friends_count  statuses_count                    created_at_u truncated quoted_text  in_reply_to_status_id retweeted_status  timestamp_ms lang        country     place_full_name                                               sent quoted                                            s_clean  \\\n",
       "0      0  3095695629  2015-11-23  14:06:44       -71.683502       42.036932  668868299040665603            @DopeAhhAquarius lemme come over bro :(             7424            985           36984  Thu Mar 19 01:33:34 +0000 2015     False         NaN           6.688680e+17            False  1.448306e+12   en  United States  Massachusetts, USA  ( lemme come over bro , [lemme, come, over, br...    NaN                               lemme come over bro    \n",
       "1      1  2174756318  2015-11-23  14:06:44       -71.326858       42.636248  668868299116138496            I've been in a bad mood since like 2010              110            159            2199  Mon Nov 04 21:06:33 +0000 2013     False         NaN           0.000000e+00            False  1.448306e+12   en  United States          Lowell, MA  (I've been in a bad mood since like 2010, [i'v...    NaN            I've been in a bad mood since like 2010   \n",
       "2      2   408976087  2015-11-23  14:06:46       -71.088755       42.313670  668868309526429697  what's the appropriate age for me to start act...              514            246           37162  Thu Nov 10 03:50:52 +0000 2011     False         NaN           0.000000e+00            False  1.448306e+12   en  United States          Boston, MA  (what's the appropriate age for me to start ac...    NaN  what's the appropriate age for me to start act...   \n",
       "3      3  1163319366  2015-11-23  14:06:52       -71.312617       42.693109  668868335573012480  @JackSillin @AlexReedWX @WesternMEwx ...I assu...              465            604           57037  Sat Feb 09 16:02:36 +0000 2013     False         NaN           6.688683e+17            False  1.448306e+12   en  United States          Dracut, MA  (   I assume your dad works at your school?), ...    NaN           I assume your dad works at your school?)   \n",
       "4      6   107886768  2015-11-23  14:06:55       -96.307306       65.838115  668868346813771776  @kady I'm watching River (BBC) on netflix, I t...              961           1198           85936  Sun Jan 24 03:02:09 +0000 2010     False         NaN           0.000000e+00            False  1.448306e+12   en         Canada              Canada  ( I'm watching River (BBC) on netflix, I think...    NaN   I'm watching River (BBC) on netflix, I think ...   \n",
       "\n",
       "                                            s_tokens s_emo s_hashtags q_clean q_tokens q_emo q_hashtags                                       cleaned_text  sentiment  Topics                                              Topic Topic_keyword  \n",
       "0                           [lemme, come, over, bro]  [:(]         []     NaN      NaN   NaN        NaN                               lemme come over bro           0       1  PythonRDD[28] at collect at <ipython-input-123...      Patriots  \n",
       "1  [i've, been, in, a, bad, mood, since, like, 2010]    []         []     NaN      NaN   NaN        NaN            I've been in a bad mood since like 2010          0       2  PythonRDD[28] at collect at <ipython-input-123...         Other  \n",
       "2  [what's, the, appropriate, age, for, me, to, s...    []         []     NaN      NaN   NaN        NaN  what's the appropriate age for me to start act...          1       0  PythonRDD[28] at collect at <ipython-input-123...          Sale  \n",
       "3  [i, assume, your, dad, works, at, your, school...    []         []     NaN      NaN   NaN        NaN           I assume your dad works at your school?)          1       2  PythonRDD[28] at collect at <ipython-input-123...         Other  \n",
       "4  [i'm, watching, river, (, bbc, ), on, netflix,...    []         []     NaN      NaN   NaN        NaN   I'm watching River (BBC) on netflix, I think ...          0       3  PythonRDD[28] at collect at <ipython-input-123...        Family  "
      ]
     },
     "execution_count": 160,
     "metadata": {},
     "output_type": "execute_result"
    }
   ],
   "source": [
    "dftokens.head()"
   ]
  },
  {
   "cell_type": "code",
   "execution_count": 161,
   "metadata": {
    "collapsed": true
   },
   "outputs": [],
   "source": [
    "dftokens.to_csv(\"raw_data/dftokens.csv\", index = False, encoding='utf-8')"
   ]
  },
  {
   "cell_type": "code",
   "execution_count": 24,
   "metadata": {
    "collapsed": false
   },
   "outputs": [],
   "source": [
    "#dftokens = pd.read_csv('raw_data/dftokens.csv')\n",
    "#dftokens.drop(['sentiment'],axis=1)\n",
    "#dftokens=dftokens.drop(['sentiment'],axis=1)"
   ]
  },
  {
   "cell_type": "markdown",
   "metadata": {},
   "source": [
    "###Visualisations for Topic Analysis"
   ]
  },
  {
   "cell_type": "markdown",
   "metadata": {},
   "source": [
    "####Topic by Time"
   ]
  },
  {
   "cell_type": "markdown",
   "metadata": {},
   "source": [
    "<script type='text/javascript' src='https://public.tableau.com/javascripts/api/viz_v1.js'></script><div class='tableauPlaceholder' style='width: 982px; height: 745px;'><noscript><a href='https:&#47;&#47;public.tableau.com&#47;jack91an&#47;CS109-TopicAndSentiment&#47;'><img alt=' ' src='https:&#47;&#47;public.tableau.com&#47;static&#47;images&#47;CS&#47;CS109-TopicAndSentiment&#47;TopicbyTime&#47;1_rss.png' style='border: none' /></a></noscript><object class='tableauViz' width='600' height='400' style='display:none;'><param name='host_url' value='https%3A%2F%2Fpublic.tableau.com%2F' /> <param name='site_root' value='' /><param name='name' value='CS109-TopicAndSentiment&#47;TopicbyTime' /><param name='tabs' value='yes' /><param name='toolbar' value='yes' /><param name='static_image' value='https:&#47;&#47;public.tableau.com&#47;static&#47;images&#47;CS&#47;CS109-TopicAndSentiment&#47;TopicbyTime&#47;1.png' /> <param name='animate_transition' value='yes' /><param name='display_static_image' value='yes' /><param name='display_spinner' value='yes' /><param name='display_overlay' value='yes' /><param name='display_count' value='yes' /><param name='showVizHome' value='no' /><param name='showTabs' value='y' /><param name='bootstrapWhenNotified' value='true' /></object></div>"
   ]
  },
  {
   "cell_type": "markdown",
   "metadata": {},
   "source": [
    "#### Topic % by Time"
   ]
  },
  {
   "cell_type": "markdown",
   "metadata": {},
   "source": [
    "<script type='text/javascript' src='https://public.tableau.com/javascripts/api/viz_v1.js'></script><div class='tableauPlaceholder' style='width: 982px; height: 745px;'><noscript><a href='https:&#47;&#47;public.tableau.com&#47;jack91an&#47;CS109-TopicAndSentiment&#47;'><img alt=' ' src='https:&#47;&#47;public.tableau.com&#47;static&#47;images&#47;CS&#47;CS109-TopicAndSentiment&#47;TopicoverTime&#47;1_rss.png' style='border: none' /></a></noscript><object class='tableauViz' width='600' height='400' style='display:none;'><param name='host_url' value='https%3A%2F%2Fpublic.tableau.com%2F' /> <param name='site_root' value='' /><param name='name' value='CS109-TopicAndSentiment&#47;TopicoverTime' /><param name='tabs' value='yes' /><param name='toolbar' value='yes' /><param name='static_image' value='https:&#47;&#47;public.tableau.com&#47;static&#47;images&#47;CS&#47;CS109-TopicAndSentiment&#47;TopicoverTime&#47;1.png' /> <param name='animate_transition' value='yes' /><param name='display_static_image' value='yes' /><param name='display_spinner' value='yes' /><param name='display_overlay' value='yes' /><param name='display_count' value='yes' /><param name='showVizHome' value='no' /><param name='showTabs' value='y' /><param name='bootstrapWhenNotified' value='true' /></object></div>"
   ]
  },
  {
   "cell_type": "markdown",
   "metadata": {},
   "source": [
    "####Topic By Location"
   ]
  },
  {
   "cell_type": "markdown",
   "metadata": {},
   "source": [
    "<script type='text/javascript' src='https://public.tableau.com/javascripts/api/viz_v1.js'></script><div class='tableauPlaceholder' style='width: 982px; height: 745px;'><noscript><a href='https:&#47;&#47;public.tableau.com&#47;jack91an&#47;CS109-TopicAndSentiment&#47;'><img alt=' ' src='https:&#47;&#47;public.tableau.com&#47;static&#47;images&#47;CS&#47;CS109-TopicAndSentiment&#47;TopicbyLocation&#47;1_rss.png' style='border: none' /></a></noscript><object class='tableauViz' width='600' height='400' style='display:none;'><param name='host_url' value='https%3A%2F%2Fpublic.tableau.com%2F' /> <param name='site_root' value='' /><param name='name' value='CS109-TopicAndSentiment&#47;TopicbyLocation' /><param name='tabs' value='yes' /><param name='toolbar' value='yes' /><param name='static_image' value='https:&#47;&#47;public.tableau.com&#47;static&#47;images&#47;CS&#47;CS109-TopicAndSentiment&#47;TopicbyLocation&#47;1.png' /> <param name='animate_transition' value='yes' /><param name='display_static_image' value='yes' /><param name='display_spinner' value='yes' /><param name='display_overlay' value='yes' /><param name='display_count' value='yes' /><param name='showVizHome' value='no' /><param name='showTabs' value='y' /><param name='bootstrapWhenNotified' value='true' /></object></div>"
   ]
  },
  {
   "cell_type": "markdown",
   "metadata": {},
   "source": [
    "##Sentiment Analysis\n",
    "\n",
    "\n",
    "We want to analyze the sentiment of each tweet. However, it is not an easy task. In genearl, there are three approaches that we can measure the sentiment:\n",
    "\n",
    "1. identify words used in a tweet that are positive or negative, and then compute the sentiment score based on the number of positive and negative words.\n",
    "\n",
    "2. manually label a set of tweets, and conduct supervised machine learning algorithims, such as KNN or Naive Bayes classifiers.\n",
    "\n",
    "3. use existent sentiment analysis packages, such as `sentiment` from `pattern`.\n",
    "\n",
    "Each approach has its pros and cons. The first approach is straight forward but may only achieve relative low accuracy. The second approach may impove the accuracy, but it requires us to go through a fair amount of tweets and decide whether they are positive or negative. The accuracy relies on how well these tweets are classified, which is not an easy tasks and requires expertise in linguistics. The third approach is the easiest. However, we cannot tune parameters, and we do not know whether the mechanics behind works well for tweets, which are quite different from formal languages. \n",
    "\n",
    "Constrained by the amount of time we have, we decide to start with first approach and then compare its result with the result of third approach.\n",
    "Each approach has its pros and cons. The first approach is straight forward but may only achieve relative low accuracy. The secoEach approach has its pros and cons. The first approach is straight forward but may only achieve relative low accuracy. The second approach may impove the accuracy, but it requires us to go through a fair amount of tweets and decide whether they are positive or negative. The accuracy relies on how well these tweets are classified, which is not an easy tasks and requires expertise in linguistics. The third approach is the easiest. However, we cannot tune parameters, and we do not know whether the mechanics behind works well for tweets, which are quite different from formal languages. \n"
   ]
  },
  {
   "cell_type": "markdown",
   "metadata": {},
   "source": [
    "###Sentiment Analysis using Word Match\n",
    "\n",
    "####Positive - Negative Word Lists\n",
    "We find a list of positive and negative words that have been used in many opinion mining and senitment analysis [papers](https://www.cs.uic.edu/~liub/FBS/sentiment-analysis.html#datasets). \n",
    "\n",
    "The list of positive and negative words has around 6800 words and is quite comprehensive."
   ]
  },
  {
   "cell_type": "code",
   "execution_count": 7,
   "metadata": {
    "collapsed": true
   },
   "outputs": [],
   "source": [
    "import nltk;\n",
    "from nltk.stem.snowball import SnowballStemmer;\n",
    "stemmer = SnowballStemmer(\"english\");"
   ]
  },
  {
   "cell_type": "code",
   "execution_count": 8,
   "metadata": {
    "collapsed": false
   },
   "outputs": [],
   "source": [
    "#reading in positive words\n",
    "f = open('raw_data/positive-words.txt','r');\n",
    "poslist = set([]);\n",
    "for line in f:\n",
    "    line = line.strip();\n",
    "    # print \"Original: %s\" %(line);\n",
    "    line = stemmer.stem(line);\n",
    "    # print \"After Stemming: %s\" %(line);\n",
    "    poslist |= set([line]);\n",
    "f.close;"
   ]
  },
  {
   "cell_type": "code",
   "execution_count": 9,
   "metadata": {
    "collapsed": true
   },
   "outputs": [],
   "source": [
    "#reading in negative words\n",
    "neglist = set([]);\n",
    "f = open('raw_data/negative-words.txt','r');\n",
    "for line in f:\n",
    "    line = line.strip();\n",
    "    #print \"Original: %s\" %(line);\n",
    "    line = stemmer.stem(line);\n",
    "    # print \"After Stemming: %s\" %(line);\n",
    "    neglist |= set([line]);\n",
    "f.close;"
   ]
  },
  {
   "cell_type": "markdown",
   "metadata": {},
   "source": [
    "###Word Match Algorithm"
   ]
  },
  {
   "cell_type": "markdown",
   "metadata": {},
   "source": [
    "\n",
    "We use the `SnowballStemmer` method from `nltk` package to find sterm of a word. \n",
    "\n",
    "Then, we match the sterm of words in a tweet with words in negative or positive word list, and calculate the occurence of positive and negative words. If there is a positive word, then we add 1 to sentiment value of the tweet. If there is a negative word, then we substract 1 from total value. At the end, we compute the ratio of sentiment value to total occurences of positive or negative words as the sentiment of the tweet. Thus, the sentiment of a tweet range from -1 to 1.  \n",
    "\n",
    "If a tweet does not have any matched positive or negative words, we assume it is neutral and will get a 0 value."
   ]
  },
  {
   "cell_type": "code",
   "execution_count": 10,
   "metadata": {
    "collapsed": true
   },
   "outputs": [],
   "source": [
    "#https://github.com/ravikiranj/twitter-sentiment-analyzer/blob/master/simpleDemo.py\n",
    "\n",
    "#people sometimes like to type a word with a lot of repetitions.\n",
    "def replaceTwoOrMore(s):\n",
    "    #look for 2 or more repetitions of character\n",
    "    pattern = re.compile(r\"(.)\\1{1,}\", re.DOTALL) \n",
    "    return pattern.sub(r\"\\1\\1\", s)"
   ]
  },
  {
   "cell_type": "markdown",
   "metadata": {},
   "source": [
    "The following function matches every token of a tweet with positive or negative word from the word lists. We have strip \"#\", so hashtags will also be considered. However, people tend to spell hashtags or cetain words incorrectly, so we want to reformat them. For example, by removing repetitive letters in a word. "
   ]
  },
  {
   "cell_type": "code",
   "execution_count": 11,
   "metadata": {
    "collapsed": true
   },
   "outputs": [],
   "source": [
    "\"\"\"\n",
    "Function\n",
    "--------\n",
    "wordmatch\n",
    "\n",
    "match tokens of a tweet with positive or negative words, and \n",
    "calculate the sentiment of the tweet.\n",
    "\n",
    "Parameters\n",
    "----------\n",
    "textlist : a list of tokens of a tweet.\n",
    "\n",
    "Output\n",
    "----------\n",
    "a list of reformatted hashtags\n",
    "\"\"\"\n",
    "\n",
    "def wordmatch(tokenlist,pos,neg):\n",
    "    tokens= tokenlist[1:-1].replace(\"'\",\"\").split(\", \")\n",
    "    tokens = [replaceTwoOrMore(word) for word in tokens];\n",
    "    tokens = [word.strip(\"#\") for word in tokens if word not in stopwords];\n",
    "    tokens = [stemmer.stem(word.decode('utf-8')) for word in tokens if word not in punctuation];\n",
    "    pos_count = [1 for word in tokens if word in pos];\n",
    "    neg_count = [-1 for word in tokens if word in neg];\n",
    "    count=len(pos_count)+len(neg_count)\n",
    "    total=np.float(np.sum(pos_count)+np.sum(neg_count))\n",
    "    if count == 0.0:\n",
    "        return 0\n",
    "    else:\n",
    "        return total/count\n"
   ]
  },
  {
   "cell_type": "markdown",
   "metadata": {},
   "source": [
    "####Analysis on Tweets' main text"
   ]
  },
  {
   "cell_type": "markdown",
   "metadata": {},
   "source": [
    "Since we are only interested in tweets' text, we create another dataframe and only keep the columns that we are interested in."
   ]
  },
  {
   "cell_type": "code",
   "execution_count": 13,
   "metadata": {
    "collapsed": false
   },
   "outputs": [],
   "source": [
    "subdftokens=dftokens[['user_id','tweet_id','date','time','s_clean','s_tokens','s_emo','q_clean','q_tokens','q_emo']].copy()\n",
    "senti=subdftokens.apply(lambda r:wordmatch(r.s_tokens,poslist,neglist),axis=1)"
   ]
  },
  {
   "cell_type": "code",
   "execution_count": 14,
   "metadata": {
    "collapsed": false
   },
   "outputs": [
    {
     "data": {
      "text/plain": [
       "(array([ 20790.,     76.,   1170.,   3386.,    585.,  50186.,   5594.,\n",
       "          1838.,    880.,  53891.]),\n",
       " array([-1. , -0.8, -0.6, -0.4, -0.2,  0. ,  0.2,  0.4,  0.6,  0.8,  1. ]),\n",
       " <a list of 10 Patch objects>)"
      ]
     },
     "execution_count": 14,
     "metadata": {},
     "output_type": "execute_result"
    },
    {
     "data": {
      "image/png": "[encoded data removed]",
      "text/plain": [
       "<matplotlib.figure.Figure at 0x10ce15250>"
      ]
     },
     "metadata": {},
     "output_type": "display_data"
    }
   ],
   "source": [
    "plt.hist(senti)"
   ]
  },
  {
   "cell_type": "markdown",
   "metadata": {},
   "source": [
    "It seems that roughly half of the tweets are positive and half of them are neutral. \n",
    "\n",
    "However, is the positive or negative words list enough for tweets sentimental analysis? \n",
    "\n",
    "Not necessarily. Twitter language is like text message, and people tend to use abbreviations. We found a list of common abbreviations on this [website](http://www.illumasolutions.com/omg-plz-lol-idk-idc-btw-brb-jk.htm). Then, we pick some common abbreviations that indicate one's emotions/attitude, and add them to our positive and negative words list."
   ]
  },
  {
   "cell_type": "code",
   "execution_count": 15,
   "metadata": {
    "collapsed": true
   },
   "outputs": [],
   "source": [
    "#positive abbreviations\n",
    "textlangpos =['lol','lmao','lmfao','tff','rofl']\n",
    "#negative abbreviations\n",
    "textlangneg = ['stfu','pita','eol','myob','h8','dkdc','nc']\n",
    "\n",
    "poslist2=poslist.union(textlangpos)\n",
    "neglist2=neglist.union(textlangneg)"
   ]
  },
  {
   "cell_type": "code",
   "execution_count": 16,
   "metadata": {
    "collapsed": false
   },
   "outputs": [
    {
     "data": {
      "text/plain": [
       "(array([ 20206.,     78.,   1172.,   3420.,    597.,  49378.,   5807.,\n",
       "          1912.,    920.,  54906.]),\n",
       " array([-1. , -0.8, -0.6, -0.4, -0.2,  0. ,  0.2,  0.4,  0.6,  0.8,  1. ]),\n",
       " <a list of 10 Patch objects>)"
      ]
     },
     "execution_count": 16,
     "metadata": {},
     "output_type": "execute_result"
    },
    {
     "data": {
      "image/png": "[encoded data removed]",
      "text/plain": [
       "<matplotlib.figure.Figure at 0x10d887ed0>"
      ]
     },
     "metadata": {},
     "output_type": "display_data"
    }
   ],
   "source": [
    "senti2=subdftokens.apply(lambda r:wordmatch(r.s_tokens,poslist2,neglist2),axis=1)\n",
    "plt.hist(senti2)"
   ]
  },
  {
   "cell_type": "code",
   "execution_count": 17,
   "metadata": {
    "collapsed": false
   },
   "outputs": [
    {
     "name": "stdout",
     "output_type": "stream",
     "text": [
      "Total Sentiment Shift: 1712.05952381\n",
      "Average Sentiment Shift: 0.0123707298174\n"
     ]
    }
   ],
   "source": [
    "print \"Total Sentiment Shift:\",np.sum(senti2-senti)\n",
    "print \"Average Sentiment Shift:\",np.mean(senti2-senti)"
   ]
  },
  {
   "cell_type": "markdown",
   "metadata": {},
   "source": [
    "By adding text abbreviations into our negative/positive word lists, we see a slight change in overall sentiment."
   ]
  },
  {
   "cell_type": "code",
   "execution_count": 26,
   "metadata": {
    "collapsed": false
   },
   "outputs": [],
   "source": [
    "subdftokens['s_senti']=subdftokens['s_tokens'].apply(lambda r:wordmatch(r,poslist2,neglist2))"
   ]
  },
  {
   "cell_type": "markdown",
   "metadata": {},
   "source": [
    "Take a look at some tweets and their estimated sentiment. We did a good job for simple tweets, such as 'happy birthday brotha #osuforlife'. However, when a tweet has both positive and negative words, `wordmatch` did poorly. For example, the tweet, \"It's very hard for me to trust on people's words,\" gets a sentiment value of 0. \n",
    "\n",
    "At the same time, we also notice that we was not able to take out all the emoticons. "
   ]
  },
  {
   "cell_type": "code",
   "execution_count": 31,
   "metadata": {
    "collapsed": false,
    "scrolled": true
   },
   "outputs": [
    {
     "data": {
      "text/html": [
       "<div>\n",
       "<table border=\"1\" class=\"dataframe\">\n",
       "  <thead>\n",
       "    <tr style=\"text-align: right;\">\n",
       "      <th></th>\n",
       "      <th>s_clean</th>\n",
       "      <th>s_senti</th>\n",
       "      <th>s_emo</th>\n",
       "    </tr>\n",
       "  </thead>\n",
       "  <tbody>\n",
       "    <tr>\n",
       "      <th>1</th>\n",
       "      <td>I've been in a bad mood since like 2010</td>\n",
       "      <td>0.000000</td>\n",
       "      <td>[]</td>\n",
       "    </tr>\n",
       "    <tr>\n",
       "      <th>2</th>\n",
       "      <td>what's the appropriate age for me to start acting like an adult?</td>\n",
       "      <td>1.000000</td>\n",
       "      <td>[]</td>\n",
       "    </tr>\n",
       "    <tr>\n",
       "      <th>3</th>\n",
       "      <td>I assume your dad works at your school?)</td>\n",
       "      <td>1.000000</td>\n",
       "      <td>[]</td>\n",
       "    </tr>\n",
       "    <tr>\n",
       "      <th>4</th>\n",
       "      <td>I'm watching River (BBC) on netflix, I think you'd like it. A bit creepy &amp;amp; really really well acted.</td>\n",
       "      <td>0.000000</td>\n",
       "      <td>[]</td>\n",
       "    </tr>\n",
       "    <tr>\n",
       "      <th>5</th>\n",
       "      <td>baby take a look at what you've done</td>\n",
       "      <td>0.000000</td>\n",
       "      <td>[]</td>\n",
       "    </tr>\n",
       "    <tr>\n",
       "      <th>6</th>\n",
       "      <td>LOUDLY CRYING FACE.FACE WITH TEARS OF JOY. Lmfaooo I have him now actually he teaches night classes at bhcc ,,,,</td>\n",
       "      <td>-0.333333</td>\n",
       "      <td>[]</td>\n",
       "    </tr>\n",
       "    <tr>\n",
       "      <th>7</th>\n",
       "      <td>No, seasons change, people don't</td>\n",
       "      <td>1.000000</td>\n",
       "      <td>[]</td>\n",
       "    </tr>\n",
       "    <tr>\n",
       "      <th>8</th>\n",
       "      <td>Have you picked out your #ThanksgivingWine?\\n has festive goodies! #MelroseMA\\n</td>\n",
       "      <td>1.000000</td>\n",
       "      <td>[]</td>\n",
       "    </tr>\n",
       "    <tr>\n",
       "      <th>9</th>\n",
       "      <td>Listen, I love cheese. I do. But if you order xtra cheese on pizza I'm sorry we just can't be friends I might even call the cops on you idk.</td>\n",
       "      <td>0.600000</td>\n",
       "      <td>[]</td>\n",
       "    </tr>\n",
       "    <tr>\n",
       "      <th>10</th>\n",
       "      <td>#Construction #Job alert: Senior Construction Project Manager - | Simon | #Boston, MA</td>\n",
       "      <td>1.000000</td>\n",
       "      <td>[]</td>\n",
       "    </tr>\n",
       "  </tbody>\n",
       "</table>\n",
       "</div>"
      ],
      "text/plain": [
       "                                                                                                                                         s_clean   s_senti s_emo\n",
       "1   I've been in a bad mood since like 2010                                                                                                       0.000000  []  \n",
       "2   what's the appropriate age for me to start acting like an adult?                                                                              1.000000  []  \n",
       "3      I assume your dad works at your school?)                                                                                                   1.000000  []  \n",
       "4    I'm watching River (BBC) on netflix, I think you'd like it. A bit creepy &amp; really really well acted.                                     0.000000  []  \n",
       "5   baby take a look at what you've done                                                                                                          0.000000  []  \n",
       "6   LOUDLY CRYING FACE.FACE WITH TEARS OF JOY. Lmfaooo I have him now actually he teaches night classes at bhcc ,,,,                             -0.333333  []  \n",
       "7   No, seasons change, people don't                                                                                                              1.000000  []  \n",
       "8   Have you picked out your #ThanksgivingWine?\\n has festive goodies! #MelroseMA\\n                                                               1.000000  []  \n",
       "9   Listen, I love cheese. I do. But if you order xtra cheese on pizza I'm sorry we just can't be friends I might even call the cops on you idk.  0.600000  []  \n",
       "10  #Construction #Job alert: Senior Construction Project Manager - | Simon | #Boston, MA                                                         1.000000  []  "
      ]
     },
     "execution_count": 31,
     "metadata": {},
     "output_type": "execute_result"
    }
   ],
   "source": [
    "pd.set_option(\"display.max_colwidth\",-1)\n",
    "subdftokens[['s_clean','s_senti','s_emo']].ix[1:10]"
   ]
  },
  {
   "cell_type": "markdown",
   "metadata": {},
   "source": [
    "####Comparing sentiments of emoticons and text of the same tweet\n",
    "\n",
    "Since people use emoticons to express their emotions, we decide to conduct a sentiment analysis on emoticons as well. Then we compare the sentiment of emoticons with the sentiment of the text.\n",
    "\n",
    "If an emoticon has a mouth, such as 'D',')', and ']', we consider it a positive emoticon and assign a value of 1. If an emoticon has a mouth, such as '(', '[', we consider it a negative emoticon and assign a value of -1. All the other types express a neutral sentiment and have a value of 0."
   ]
  },
  {
   "cell_type": "code",
   "execution_count": 32,
   "metadata": {
    "collapsed": true
   },
   "outputs": [],
   "source": [
    "#define the emoticons that represent positive, negative, and neutral emotions.\n",
    "\n",
    "pos_str = r\"\"\"\n",
    "    (?:\n",
    "        [:=;] # Eyes\n",
    "        [oO\\-]? # Nose (optional)\n",
    "        [D\\)\\]] # Mouth\n",
    "    )\"\"\"\n",
    "\n",
    "neg_str =r\"\"\"\n",
    "    (?:\n",
    "        [:=;] # Eyes\n",
    "        [oO\\-]? # Nose (optional)\n",
    "        [\\(\\[] # Mouth\n",
    "    )\"\"\"\n",
    "\n",
    "neutral_str =r\"\"\"\n",
    "    (?:\n",
    "        [:=;] # Eyes\n",
    "        [oO\\-]? # Nose (optional)\n",
    "        [/\\\\OpP] # Mouth\n",
    "    )\"\"\"\n",
    "\n",
    "\n",
    "neutral_re= re.compile(r'^'+neutral_str+'$', re.VERBOSE | re.IGNORECASE)\n",
    "neg_re= re.compile(r'^'+neg_str+'$', re.VERBOSE | re.IGNORECASE)\n",
    "pos_re= re.compile(r'^'+pos_str+'$', re.VERBOSE | re.IGNORECASE)\n",
    "\n",
    "\n",
    "\n",
    "def proccessemo(text):\n",
    "    \n",
    "    if len(text)>2:\n",
    "        emoticons=text[1:-1].replace(\"'\",\"\").split(\", \")\n",
    "        pos=[1 for emo in emoticons if pos_re.search(emo)]\n",
    "        neg=[-1 for emo in emoticons if neg_re.search(emo)]\n",
    "        neutral=[0 for emo in emoticons if neutral_re.search(emo)]\n",
    "        count=len(pos)+len(neg)+len(neutral)\n",
    "        total=np.float(np.sum(pos)+np.sum(neg)+np.sum(neutral))\n",
    "        if count==0.0:\n",
    "            return 0\n",
    "        else:\n",
    "            return total/count\n",
    "    else:\n",
    "        return None\n"
   ]
  },
  {
   "cell_type": "code",
   "execution_count": 33,
   "metadata": {
    "collapsed": false
   },
   "outputs": [],
   "source": [
    "subdftokens['s_emo_senti']=subdftokens['s_emo'].apply(lambda r: proccessemo(r))"
   ]
  },
  {
   "cell_type": "code",
   "execution_count": 34,
   "metadata": {
    "collapsed": false
   },
   "outputs": [
    {
     "name": "stdout",
     "output_type": "stream",
     "text": [
      "Total number of tweets that are compared: 2114\n",
      "Average difference between Emoji Sentiment and Text Sentiment -0.217621750687\n",
      "Standard error 0.834468514555\n"
     ]
    },
    {
     "data": {
      "text/plain": [
       "(array([ 109.,   25.,  524.,  131.,   25.,  953.,   29.,  243.,   18.,   57.]),\n",
       " array([-2. , -1.6, -1.2, -0.8, -0.4,  0. ,  0.4,  0.8,  1.2,  1.6,  2. ]),\n",
       " <a list of 10 Patch objects>)"
      ]
     },
     "execution_count": 34,
     "metadata": {},
     "output_type": "execute_result"
    },
    {
     "data": {
      "image/png": "[encoded data removed]",
      "text/plain": [
       "<matplotlib.figure.Figure at 0x10db78490>"
      ]
     },
     "metadata": {},
     "output_type": "display_data"
    }
   ],
   "source": [
    "subdf=subdftokens[['s_clean','s_emo','s_senti','s_emo_senti']].dropna()\n",
    "subdf['diff']=subdf.s_senti-subdf.s_emo_senti\n",
    "print \"Total number of tweets that are compared:\", subdf.shape[0]\n",
    "print \"Average difference between Emoji Sentiment and Text Sentiment\", np.mean(subdf['diff'])\n",
    "print \"Standard error\", np.std(subdf['diff'])\n",
    "plt.hist(subdf['diff'])"
   ]
  },
  {
   "cell_type": "markdown",
   "metadata": {},
   "source": [
    "We are able to extract emoticons from 2114 tweets. \n",
    "\n",
    "1000 tweets' texts and emoticons express the same sentiment. \n",
    "\n",
    "Another 1000 of tweets whose text and emoticons are telling different stories. After we take a closer look at these tweets, emoticons seen to provide more information about the sentiment of the tweets."
   ]
  },
  {
   "cell_type": "code",
   "execution_count": 36,
   "metadata": {
    "collapsed": false
   },
   "outputs": [
    {
     "data": {
      "text/html": [
       "<div>\n",
       "<table border=\"1\" class=\"dataframe\">\n",
       "  <thead>\n",
       "    <tr style=\"text-align: right;\">\n",
       "      <th></th>\n",
       "      <th>s_clean</th>\n",
       "      <th>s_emo</th>\n",
       "      <th>s_senti</th>\n",
       "      <th>s_emo_senti</th>\n",
       "      <th>diff</th>\n",
       "    </tr>\n",
       "  </thead>\n",
       "  <tbody>\n",
       "    <tr>\n",
       "      <th>0</th>\n",
       "      <td>lemme come over bro</td>\n",
       "      <td>[:(]</td>\n",
       "      <td>1</td>\n",
       "      <td>-1</td>\n",
       "      <td>2</td>\n",
       "    </tr>\n",
       "    <tr>\n",
       "      <th>144</th>\n",
       "      <td>When u go to buy your first lottery ticket and they don't even ID you</td>\n",
       "      <td>[:(]</td>\n",
       "      <td>0</td>\n",
       "      <td>-1</td>\n",
       "      <td>1</td>\n",
       "    </tr>\n",
       "    <tr>\n",
       "      <th>201</th>\n",
       "      <td>you need to see this</td>\n",
       "      <td>[:)]</td>\n",
       "      <td>0</td>\n",
       "      <td>1</td>\n",
       "      <td>-1</td>\n",
       "    </tr>\n",
       "    <tr>\n",
       "      <th>228</th>\n",
       "      <td>tiling is a solution to zooming too. You get a content scale. Or: when you zoom in, the content gets bigger</td>\n",
       "      <td>[;-)]</td>\n",
       "      <td>0</td>\n",
       "      <td>1</td>\n",
       "      <td>-1</td>\n",
       "    </tr>\n",
       "    <tr>\n",
       "      <th>232</th>\n",
       "      <td>Well, no but I did Rebecca</td>\n",
       "      <td>[:)]</td>\n",
       "      <td>0</td>\n",
       "      <td>1</td>\n",
       "      <td>-1</td>\n",
       "    </tr>\n",
       "  </tbody>\n",
       "</table>\n",
       "</div>"
      ],
      "text/plain": [
       "                                                                                                           s_clean  s_emo  s_senti  s_emo_senti  diff\n",
       "0     lemme come over bro                                                                                           [:(]   1       -1            2   \n",
       "144  When u go to buy your first lottery ticket and they don't even ID you                                          [:(]   0       -1            1   \n",
       "201    you need to see this                                                                                         [:)]   0        1           -1   \n",
       "228   tiling is a solution to zooming too. You get a content scale. Or: when you zoom in, the content gets bigger   [;-)]  0        1           -1   \n",
       "232   Well, no but I did Rebecca                                                                                    [:)]   0        1           -1   "
      ]
     },
     "execution_count": 36,
     "metadata": {},
     "output_type": "execute_result"
    }
   ],
   "source": [
    "subdf[(subdf['diff']>=1) | (subdf['diff']<=-1)].head()"
   ]
  },
  {
   "cell_type": "markdown",
   "metadata": {},
   "source": [
    " Therefore, we decide to combined the sentiment score of texts and emotional score of emoticons. Since emoticons allow people to directly express their sentiment, we decide to place equal weight to sentiment of emoticons and sentiment of texts."
   ]
  },
  {
   "cell_type": "code",
   "execution_count": 37,
   "metadata": {
    "collapsed": false
   },
   "outputs": [],
   "source": [
    "def comb(r):\n",
    "    if np.isnan(r.s_senti):\n",
    "        if np.isnan(r.s_emo_senti):\n",
    "            return None\n",
    "        else:\n",
    "            return r.s_emo_senti\n",
    "    else:\n",
    "        if np.isnan(r.s_emo_senti):\n",
    "            return r.s_senti\n",
    "        else:\n",
    "            return 0.5*r.s_emo_senti+0.5*r.s_senti\n",
    "        \n",
    "subdftokens['s_comb']=subdftokens.apply(lambda r: comb(r),axis=1)\n"
   ]
  },
  {
   "cell_type": "code",
   "execution_count": 38,
   "metadata": {
    "collapsed": false
   },
   "outputs": [
    {
     "data": {
      "text/plain": [
       "(array([ 20005.,     84.,   1367.,   3407.,    611.,  49021.,   5707.,\n",
       "          2443.,   1030.,  54721.]),\n",
       " array([-1. , -0.8, -0.6, -0.4, -0.2,  0. ,  0.2,  0.4,  0.6,  0.8,  1. ]),\n",
       " <a list of 10 Patch objects>)"
      ]
     },
     "execution_count": 38,
     "metadata": {},
     "output_type": "execute_result"
    },
    {
     "data": {
      "image/png": "[encoded data removed]",
      "text/plain": [
       "<matplotlib.figure.Figure at 0x10d128410>"
      ]
     },
     "metadata": {},
     "output_type": "display_data"
    }
   ],
   "source": [
    "plt.hist(subdftokens['s_comb'])"
   ]
  },
  {
   "cell_type": "markdown",
   "metadata": {},
   "source": [
    "####Comparing sentiment of main text with that of quoted text\n",
    "\n",
    "Since some tweets have quoted text, we also looked at the sentiment of quoted text, and combine the score if it has emoticons."
   ]
  },
  {
   "cell_type": "code",
   "execution_count": 41,
   "metadata": {
    "collapsed": false
   },
   "outputs": [],
   "source": [
    "def quote_senti(r):\n",
    "    senti=wordmatch(r.q_tokens,poslist2,neglist2)\n",
    "    emo_senti=proccessemo(r.q_emo)\n",
    "    if emo_senti==None:\n",
    "        return senti\n",
    "    else:\n",
    "        return 0.5*emo_senti + 0.5*senti\n",
    "\n",
    "\n",
    "mask=subdftokens['q_clean'].isnull()\n",
    "quotedf=subdftokens[~mask].copy()\n",
    "quotedf['q_comb']=quotedf.apply(lambda r:quote_senti(r),axis=1)    \n",
    "    "
   ]
  },
  {
   "cell_type": "code",
   "execution_count": 90,
   "metadata": {
    "collapsed": false
   },
   "outputs": [
    {
     "data": {
      "text/plain": [
       "(array([  352.,   137.,  1653.,   329.,   277.,  3032.,   326.,  1644.,\n",
       "          160.,   381.]),\n",
       " array([-2. , -1.6, -1.2, -0.8, -0.4,  0. ,  0.4,  0.8,  1.2,  1.6,  2. ]),\n",
       " <a list of 10 Patch objects>)"
      ]
     },
     "execution_count": 90,
     "metadata": {},
     "output_type": "execute_result"
    },
    {
     "data": {
      "image/png": "[encoded data removed]",
      "text/plain": [
       "<matplotlib.figure.Figure at 0x25789f290>"
      ]
     },
     "metadata": {},
     "output_type": "display_data"
    }
   ],
   "source": [
    "quotedf['diff']=quotedf['s_comb']-quotedf['q_comb']\n",
    "plt.hist(quotedf['diff'].values)"
   ]
  },
  {
   "cell_type": "code",
   "execution_count": 43,
   "metadata": {
    "collapsed": false
   },
   "outputs": [
    {
     "data": {
      "text/html": [
       "<div>\n",
       "<table border=\"1\" class=\"dataframe\">\n",
       "  <thead>\n",
       "    <tr style=\"text-align: right;\">\n",
       "      <th></th>\n",
       "      <th>s_clean</th>\n",
       "      <th>s_comb</th>\n",
       "      <th>q_clean</th>\n",
       "      <th>q_comb</th>\n",
       "    </tr>\n",
       "  </thead>\n",
       "  <tbody>\n",
       "    <tr>\n",
       "      <th>7</th>\n",
       "      <td>No, seasons change, people don't</td>\n",
       "      <td>1</td>\n",
       "      <td>Love is rare, Life is strange, Nothing last, people change.</td>\n",
       "      <td>0</td>\n",
       "    </tr>\n",
       "    <tr>\n",
       "      <th>110</th>\n",
       "      <td>Used to be one of my favs</td>\n",
       "      <td>1</td>\n",
       "      <td>Madeline (1993-2001)</td>\n",
       "      <td>0</td>\n",
       "    </tr>\n",
       "    <tr>\n",
       "      <th>139</th>\n",
       "      <td>This is a must read.</td>\n",
       "      <td>0</td>\n",
       "      <td>Might want to keep this in mind when the next 12,300 polls come out.</td>\n",
       "      <td>1</td>\n",
       "    </tr>\n",
       "    <tr>\n",
       "      <th>147</th>\n",
       "      <td>CRYING FACE., Boston needs more of this ,</td>\n",
       "      <td>-1</td>\n",
       "      <td>#ChocolateWomenAppreciation</td>\n",
       "      <td>0</td>\n",
       "    </tr>\n",
       "    <tr>\n",
       "      <th>160</th>\n",
       "      <td>Low key baeeee. Like side bae or whatever</td>\n",
       "      <td>1</td>\n",
       "      <td>he tells a joke and stares blankly and no one gets it then he laughs lmaoooo so quirky and adorable</td>\n",
       "      <td>0</td>\n",
       "    </tr>\n",
       "  </tbody>\n",
       "</table>\n",
       "</div>"
      ],
      "text/plain": [
       "                                         s_clean  s_comb                                                                                               q_clean  q_comb\n",
       "7    No, seasons change, people don't             1       Love is rare, Life is strange, Nothing last, people change.                                           0     \n",
       "110  Used to be one of my favs                    1       Madeline (1993-2001)                                                                                  0     \n",
       "139  This is a must read.                         0       Might want to keep this in mind when the next 12,300 polls come out.                                  1     \n",
       "147  CRYING FACE., Boston needs more of this ,   -1       #ChocolateWomenAppreciation                                                                           0     \n",
       "160  Low key baeeee. Like side bae or whatever    1        he tells a joke and stares blankly and no one gets it then he laughs lmaoooo so quirky and adorable  0     "
      ]
     },
     "execution_count": 43,
     "metadata": {},
     "output_type": "execute_result"
    }
   ],
   "source": [
    "quotedf[['s_clean','s_comb','q_clean','q_comb']][(quotedf['diff']<=-1) | (quotedf['diff']>=1) ].head()"
   ]
  },
  {
   "cell_type": "markdown",
   "metadata": {},
   "source": [
    "After take a look at the quoted texts, we decide not to consider them when analyze texts. Sometimes texts agree with quoted texts, but sometimes they do not. Adding quoted texts would make the analysis more complicated but not necessarily more accurate."
   ]
  },
  {
   "cell_type": "markdown",
   "metadata": {},
   "source": [
    "###Sentiment Analysis using `Pattern`\n",
    "\n",
    "The `sentiment` function from `pattern` package evaluate the sentiment of a sentence. Based on the adjectives a given sentence contains, the function returns a `(polarity,subjectivity)` tuple for the sentence. Here we are only interested in polarity, which is a value between -1.0 and +1.0: +1.0 being positive; -1.0 being negative.\n",
    "\n",
    "The problem of using this function is that twitter language is very messy, and we do not know how well the function handle messy texts."
   ]
  },
  {
   "cell_type": "code",
   "execution_count": 44,
   "metadata": {
    "collapsed": false
   },
   "outputs": [
    {
     "name": "stdout",
     "output_type": "stream",
     "text": [
      "(0.28484848484848485, 0.6439393939393939)\n"
     ]
    }
   ],
   "source": [
    "from pattern.en import sentiment\n",
    "print sentiment(\"Breathe easy New England\")"
   ]
  },
  {
   "cell_type": "code",
   "execution_count": 45,
   "metadata": {
    "collapsed": false
   },
   "outputs": [
    {
     "name": "stderr",
     "output_type": "stream",
     "text": [
      "/Users/Jing/anaconda/lib/python2.7/site-packages/pattern/text/__init__.py:1943: UnicodeWarning: Unicode equal comparison failed to convert both arguments to Unicode - interpreting them as being unequal\n",
      "  if w in imap(lambda e: e.lower(), e):\n",
      "/Users/Jing/anaconda/lib/python2.7/site-packages/pattern/text/__init__.py:979: UnicodeWarning: Unicode equal comparison failed to convert both arguments to Unicode - interpreting them as being unequal\n",
      "  and tokens[j] in (\"'\", \"\\\"\", u\"”\", u\"’\", \"...\", \".\", \"!\", \"?\", \")\", EOS):\n"
     ]
    },
    {
     "data": {
      "text/html": [
       "<div>\n",
       "<table border=\"1\" class=\"dataframe\">\n",
       "  <thead>\n",
       "    <tr style=\"text-align: right;\">\n",
       "      <th></th>\n",
       "      <th>s_clean</th>\n",
       "      <th>s_senti</th>\n",
       "      <th>s_senti_2</th>\n",
       "      <th>s_comb</th>\n",
       "    </tr>\n",
       "  </thead>\n",
       "  <tbody>\n",
       "    <tr>\n",
       "      <th>0</th>\n",
       "      <td>lemme come over bro</td>\n",
       "      <td>1</td>\n",
       "      <td>0.00</td>\n",
       "      <td>0</td>\n",
       "    </tr>\n",
       "    <tr>\n",
       "      <th>1</th>\n",
       "      <td>I've been in a bad mood since like 2010</td>\n",
       "      <td>0</td>\n",
       "      <td>-0.70</td>\n",
       "      <td>0</td>\n",
       "    </tr>\n",
       "    <tr>\n",
       "      <th>2</th>\n",
       "      <td>what's the appropriate age for me to start acting like an adult?</td>\n",
       "      <td>1</td>\n",
       "      <td>0.20</td>\n",
       "      <td>1</td>\n",
       "    </tr>\n",
       "    <tr>\n",
       "      <th>3</th>\n",
       "      <td>I assume your dad works at your school?)</td>\n",
       "      <td>1</td>\n",
       "      <td>0.00</td>\n",
       "      <td>1</td>\n",
       "    </tr>\n",
       "    <tr>\n",
       "      <th>4</th>\n",
       "      <td>I'm watching River (BBC) on netflix, I think you'd like it. A bit creepy &amp;amp; really really well acted.</td>\n",
       "      <td>0</td>\n",
       "      <td>-0.15</td>\n",
       "      <td>0</td>\n",
       "    </tr>\n",
       "  </tbody>\n",
       "</table>\n",
       "</div>"
      ],
      "text/plain": [
       "                                                                                                     s_clean  s_senti  s_senti_2  s_comb\n",
       "0   lemme come over bro                                                                                       1        0.00       0     \n",
       "1  I've been in a bad mood since like 2010                                                                    0       -0.70       0     \n",
       "2  what's the appropriate age for me to start acting like an adult?                                           1        0.20       1     \n",
       "3     I assume your dad works at your school?)                                                                1        0.00       1     \n",
       "4   I'm watching River (BBC) on netflix, I think you'd like it. A bit creepy &amp; really really well acted.  0       -0.15       0     "
      ]
     },
     "execution_count": 45,
     "metadata": {},
     "output_type": "execute_result"
    }
   ],
   "source": [
    "subdftokens['s_senti_2'] = subdftokens['s_clean'].apply(lambda r: sentiment(r)[0])"
   ]
  },
  {
   "cell_type": "code",
   "execution_count": 46,
   "metadata": {
    "collapsed": false
   },
   "outputs": [
    {
     "name": "stdout",
     "output_type": "stream",
     "text": [
      "Total number of tweets: 138396\n",
      "Number of tweets that have a sentiment differed by at least 1 measured by two methods: 6171\n"
     ]
    }
   ],
   "source": [
    "print \"Total number of tweets:\", subdftokens.shape[0]\n",
    "mask=abs(subdftokens['s_senti']-subdftokens['s_senti_2'])>1\n",
    "print \"Number of tweets that have a sentiment differed by at least 1 measured by two methods:\",subdftokens[mask].shape[0]"
   ]
  },
  {
   "cell_type": "markdown",
   "metadata": {},
   "source": [
    "Out of 138,396 tweets, only 6171 of them have a sentiment score differed by 1 or more. We conduct a paired two-sample t-test to test whether the difference of two methods is zero.\n",
    "\n",
    "$H_0: \\delta=0$ \n",
    "\n",
    "$H_A: \\delta\\neq0$"
   ]
  },
  {
   "cell_type": "code",
   "execution_count": 89,
   "metadata": {
    "collapsed": false
   },
   "outputs": [
    {
     "name": "stdout",
     "output_type": "stream",
     "text": [
      "The t-value is : 98.7232687211\n",
      "The calculate p-value is approximate to: 0.0\n"
     ]
    },
    {
     "data": {
      "text/plain": [
       "(array([    78.,    941.,  12293.,   9736.,  13605.,  50697.,  21780.,\n",
       "         27909.,   1059.,    298.]),\n",
       " array([-2. , -1.6, -1.2, -0.8, -0.4,  0. ,  0.4,  0.8,  1.2,  1.6,  2. ]),\n",
       " <a list of 10 Patch objects>)"
      ]
     },
     "execution_count": 89,
     "metadata": {},
     "output_type": "execute_result"
    },
    {
     "data": {
      "image/png": "[encoded data removed]",
      "text/plain": [
       "<matplotlib.figure.Figure at 0x257571dd0>"
      ]
     },
     "metadata": {},
     "output_type": "display_data"
    }
   ],
   "source": [
    "from scipy import stats\n",
    "diff=subdftokens['s_senti'].values-subdftokens['s_senti_2'].values\n",
    "t,p=stats.ttest_1samp(diff,0)\n",
    "print \"The t-value is :\", t\n",
    "print \"The calculate p-value is approximate to:\" ,p\n",
    "plt.hist(diff)"
   ]
  },
  {
   "cell_type": "markdown",
   "metadata": {},
   "source": [
    "Since the calulated p-value is less than 0.05, we reject the null hypothesis, and conclude that the result of two methods is different.\n",
    "\n",
    "We also compare the `s_comb` and `s_senti_2`, and conclude that they are different."
   ]
  },
  {
   "cell_type": "code",
   "execution_count": 75,
   "metadata": {
    "collapsed": false
   },
   "outputs": [
    {
     "name": "stdout",
     "output_type": "stream",
     "text": [
      "The t-value is : 99.8966283225\n",
      "The calculate p-value is approximate to: 0.0\n"
     ]
    },
    {
     "data": {
      "text/plain": [
       "(array([    78.,    941.,  12293.,   9736.,  13605.,  50697.,  21780.,\n",
       "         27909.,   1059.,    298.]),\n",
       " array([-2. , -1.6, -1.2, -0.8, -0.4,  0. ,  0.4,  0.8,  1.2,  1.6,  2. ]),\n",
       " <a list of 10 Patch objects>)"
      ]
     },
     "execution_count": 75,
     "metadata": {},
     "output_type": "execute_result"
    },
    {
     "data": {
      "image/png": "[encoded data removed]",
      "text/plain": [
       "<matplotlib.figure.Figure at 0x1138bf9d0>"
      ]
     },
     "metadata": {},
     "output_type": "display_data"
    }
   ],
   "source": [
    "from scipy import stats\n",
    "diff2=subdftokens['s_comb'].values-subdftokens['s_senti_2'].values\n",
    "t,p=stats.ttest_1samp(diff2,0)\n",
    "print \"The t-value is :\", t\n",
    "print \"The calculate p-value is approximate to:\" ,p\n",
    "plt.hist(diff)"
   ]
  },
  {
   "cell_type": "markdown",
   "metadata": {},
   "source": [
    " We take a look at the tweets have very different sentiment score measured by the two methods. Sometimes Wordmatch method capture the right sentiment, and sometimes `sentiment` from `pattern` capture the right sentiment. In general, Wordmatch seems to have done a better job because it is tailered to tweets language."
   ]
  },
  {
   "cell_type": "code",
   "execution_count": 50,
   "metadata": {
    "collapsed": false
   },
   "outputs": [
    {
     "data": {
      "text/html": [
       "<div>\n",
       "<table border=\"1\" class=\"dataframe\">\n",
       "  <thead>\n",
       "    <tr style=\"text-align: right;\">\n",
       "      <th></th>\n",
       "      <th>s_clean</th>\n",
       "      <th>s_senti</th>\n",
       "      <th>s_senti_2</th>\n",
       "      <th>s_comb</th>\n",
       "    </tr>\n",
       "  </thead>\n",
       "  <tbody>\n",
       "    <tr>\n",
       "      <th>76</th>\n",
       "      <td>Senior Agile Product Owner - Ericsson: (#Waltham, Massachusetts)  #Job #Jobs #Hiring</td>\n",
       "      <td>1</td>\n",
       "      <td>-0.12500</td>\n",
       "      <td>1</td>\n",
       "    </tr>\n",
       "    <tr>\n",
       "      <th>90</th>\n",
       "      <td>Customer Service Rep Phys - Lahey Health: (#Burlington, MA)  #Clerical #Job #Jobs #Hiring</td>\n",
       "      <td>1</td>\n",
       "      <td>-0.75000</td>\n",
       "      <td>1</td>\n",
       "    </tr>\n",
       "    <tr>\n",
       "      <th>117</th>\n",
       "      <td>FACE WITH TEARS OF JOY.Yoo  so I went to the kitchen and I saw my 10 year old little sister watching your NBA video can you BELIVE that ,</td>\n",
       "      <td>1</td>\n",
       "      <td>-0.04375</td>\n",
       "      <td>1</td>\n",
       "    </tr>\n",
       "    <tr>\n",
       "      <th>121</th>\n",
       "      <td>Clinical Project Managers/Sr Clinical Project Managers, - Quintiles: (#Boston, Massachusetts)  #Pharmaceutical</td>\n",
       "      <td>1</td>\n",
       "      <td>-0.75000</td>\n",
       "      <td>1</td>\n",
       "    </tr>\n",
       "    <tr>\n",
       "      <th>136</th>\n",
       "      <td>Steven Gerrard to play for #Liverpool in January… in Legends game</td>\n",
       "      <td>1</td>\n",
       "      <td>-0.40000</td>\n",
       "      <td>1</td>\n",
       "    </tr>\n",
       "  </tbody>\n",
       "</table>\n",
       "</div>"
      ],
      "text/plain": [
       "                                                                                                                                       s_clean  s_senti  s_senti_2  s_comb\n",
       "76   Senior Agile Product Owner - Ericsson: (#Waltham, Massachusetts)  #Job #Jobs #Hiring                                                       1       -0.12500    1     \n",
       "90   Customer Service Rep Phys - Lahey Health: (#Burlington, MA)  #Clerical #Job #Jobs #Hiring                                                  1       -0.75000    1     \n",
       "117  FACE WITH TEARS OF JOY.Yoo  so I went to the kitchen and I saw my 10 year old little sister watching your NBA video can you BELIVE that ,  1       -0.04375    1     \n",
       "121  Clinical Project Managers/Sr Clinical Project Managers, - Quintiles: (#Boston, Massachusetts)  #Pharmaceutical                             1       -0.75000    1     \n",
       "136  Steven Gerrard to play for #Liverpool in January… in Legends game                                                                          1       -0.40000    1     "
      ]
     },
     "execution_count": 50,
     "metadata": {},
     "output_type": "execute_result"
    }
   ],
   "source": [
    "subdftokens[['s_clean','s_senti','s_senti_2','s_comb']]\\\n",
    "[abs(subdftokens['s_senti']-subdftokens['s_senti_2'])>1].head()"
   ]
  },
  {
   "cell_type": "markdown",
   "metadata": {},
   "source": [
    "Unfortunately, we do not know the sentiment of a tweet and cannot draw a conclusion on which method is better. By just going through tweets that rated differently by two methods, we find that sometimes `wordmatch` function gives a more reasonable sentiment score, while sometimes `sentiment` function gives a more reasonble score.\n",
    "\n",
    "We take the daily average of the sentiment and plot the following graph. As it shows in the graph below, the sentiment calculated using word match on average is higher than the sentiment calculated using `sentiment` function from `pattern` package, but the general trend is the same. Since we have tailed our word match analysis to tweets specific language, we decide to use sentiment from Wordmatch analysis for following analysis.\n",
    "\n",
    "If we take a closer look the plot, we see the sentiment peaks on the thanksgiving day, while it is relatively lower before thanksgiving."
   ]
  },
  {
   "cell_type": "code",
   "execution_count": 51,
   "metadata": {
    "collapsed": false
   },
   "outputs": [
    {
     "data": {
      "text/plain": [
       "<matplotlib.axes._subplots.AxesSubplot at 0x11118ae90>"
      ]
     },
     "execution_count": 51,
     "metadata": {},
     "output_type": "execute_result"
    },
    {
     "data": {
      "image/png": "[encoded data removed]",
      "text/plain": [
       "<matplotlib.figure.Figure at 0x1115883d0>"
      ]
     },
     "metadata": {},
     "output_type": "display_data"
    }
   ],
   "source": [
    "subdfgby=subdftokens.groupby(['date'])['s_comb','s_senti_2'].mean()\n",
    "subdfgby.plot()"
   ]
  },
  {
   "cell_type": "code",
   "execution_count": 52,
   "metadata": {
    "collapsed": true
   },
   "outputs": [],
   "source": [
    "dftokens['sentiment']=subdftokens['s_comb']\n",
    "#dftokens.to_csv(\"raw_data/dftokens.csv\", index = False, encoding='utf-8')"
   ]
  },
  {
   "cell_type": "markdown",
   "metadata": {},
   "source": [
    "###Visualisation for Sentiment Analysis"
   ]
  },
  {
   "cell_type": "markdown",
   "metadata": {},
   "source": [
    "<script type='text/javascript' src='https://public.tableau.com/javascripts/api/viz_v1.js'></script><div class='tableauPlaceholder' style='width: 982px; height: 745px;'><noscript><a href='https:&#47;&#47;public.tableau.com&#47;jack91an&#47;CS109-TopicAndSentiment&#47;'><img alt=' ' src='https:&#47;&#47;public.tableau.com&#47;static&#47;images&#47;HS&#47;HS34G8DPM&#47;1_rss.png' style='border: none' /></a></noscript><object class='tableauViz' width='982' height='745' style='display:none;'><param name='host_url' value='https%3A%2F%2Fpublic.tableau.com%2F' /> <param name='path' value='shared&#47;HS34G8DPM' /> <param name='toolbar' value='yes' /><param name='static_image' value='https:&#47;&#47;public.tableau.com&#47;static&#47;images&#47;HS&#47;HS34G8DPM&#47;1.png' /> <param name='animate_transition' value='yes' /><param name='display_static_image' value='yes' /><param name='display_spinner' value='yes' /><param name='display_overlay' value='yes' /><param name='display_count' value='yes' /><param name='showVizHome' value='no' /><param name='showTabs' value='y' /><param name='bootstrapWhenNotified' value='true' /></object></div>"
   ]
  },
  {
   "cell_type": "markdown",
   "metadata": {},
   "source": [
    "##Predictive Analysis\n",
    "\n",
    "We are interested in building a predictive model to predict the sentiment at certian time of day and week based on the topic and hashtags of a tweet. Because the sentiment is a continuous variable, we will be using regression models.\n",
    "\n",
    "###Feature Selection\n",
    "\n",
    "First, we need to do some data cleaning. We create some indicator variables based on hashtags and topics from LDA. For example, if a tweet has hashtag \"thanksgiving\", the indicator variable `thanksgiving` will be 1 otherwise 0. In addition, we mark the day of thanksgiving. Therefore, if a tweet is sent on thanksgiving, `thanksgivingday` will be 1 otherwise 0. Lastly, we include the time of day and the day of week."
   ]
  },
  {
   "cell_type": "code",
   "execution_count": 59,
   "metadata": {
    "collapsed": false
   },
   "outputs": [
    {
     "data": {
      "text/html": [
       "<div>\n",
       "<table border=\"1\" class=\"dataframe\">\n",
       "  <thead>\n",
       "    <tr style=\"text-align: right;\">\n",
       "      <th></th>\n",
       "      <th>job</th>\n",
       "      <th>hire</th>\n",
       "      <th>careerarc</th>\n",
       "      <th>boston</th>\n",
       "      <th>thanksgiving</th>\n",
       "      <th>nursing</th>\n",
       "      <th>healthcare</th>\n",
       "      <th>shopping</th>\n",
       "      <th>hour</th>\n",
       "      <th>day</th>\n",
       "      <th>thanksgivingday</th>\n",
       "      <th>T_Family</th>\n",
       "      <th>T_Holiday</th>\n",
       "      <th>T_Patriots</th>\n",
       "      <th>T_Sale</th>\n",
       "      <th>sentiment</th>\n",
       "    </tr>\n",
       "  </thead>\n",
       "  <tbody>\n",
       "    <tr>\n",
       "      <th>0</th>\n",
       "      <td>0</td>\n",
       "      <td>0</td>\n",
       "      <td>0</td>\n",
       "      <td>0</td>\n",
       "      <td>0</td>\n",
       "      <td>0</td>\n",
       "      <td>0</td>\n",
       "      <td>0</td>\n",
       "      <td>14</td>\n",
       "      <td>0</td>\n",
       "      <td>0</td>\n",
       "      <td>0</td>\n",
       "      <td>0</td>\n",
       "      <td>1</td>\n",
       "      <td>0</td>\n",
       "      <td>0</td>\n",
       "    </tr>\n",
       "    <tr>\n",
       "      <th>1</th>\n",
       "      <td>0</td>\n",
       "      <td>0</td>\n",
       "      <td>0</td>\n",
       "      <td>0</td>\n",
       "      <td>0</td>\n",
       "      <td>0</td>\n",
       "      <td>0</td>\n",
       "      <td>0</td>\n",
       "      <td>14</td>\n",
       "      <td>0</td>\n",
       "      <td>0</td>\n",
       "      <td>0</td>\n",
       "      <td>0</td>\n",
       "      <td>0</td>\n",
       "      <td>0</td>\n",
       "      <td>0</td>\n",
       "    </tr>\n",
       "    <tr>\n",
       "      <th>2</th>\n",
       "      <td>0</td>\n",
       "      <td>0</td>\n",
       "      <td>0</td>\n",
       "      <td>0</td>\n",
       "      <td>0</td>\n",
       "      <td>0</td>\n",
       "      <td>0</td>\n",
       "      <td>0</td>\n",
       "      <td>14</td>\n",
       "      <td>0</td>\n",
       "      <td>0</td>\n",
       "      <td>0</td>\n",
       "      <td>0</td>\n",
       "      <td>0</td>\n",
       "      <td>1</td>\n",
       "      <td>1</td>\n",
       "    </tr>\n",
       "    <tr>\n",
       "      <th>3</th>\n",
       "      <td>0</td>\n",
       "      <td>0</td>\n",
       "      <td>0</td>\n",
       "      <td>0</td>\n",
       "      <td>0</td>\n",
       "      <td>0</td>\n",
       "      <td>0</td>\n",
       "      <td>0</td>\n",
       "      <td>14</td>\n",
       "      <td>0</td>\n",
       "      <td>0</td>\n",
       "      <td>0</td>\n",
       "      <td>0</td>\n",
       "      <td>0</td>\n",
       "      <td>0</td>\n",
       "      <td>1</td>\n",
       "    </tr>\n",
       "    <tr>\n",
       "      <th>4</th>\n",
       "      <td>0</td>\n",
       "      <td>0</td>\n",
       "      <td>0</td>\n",
       "      <td>0</td>\n",
       "      <td>0</td>\n",
       "      <td>0</td>\n",
       "      <td>0</td>\n",
       "      <td>0</td>\n",
       "      <td>14</td>\n",
       "      <td>0</td>\n",
       "      <td>0</td>\n",
       "      <td>1</td>\n",
       "      <td>0</td>\n",
       "      <td>0</td>\n",
       "      <td>0</td>\n",
       "      <td>0</td>\n",
       "    </tr>\n",
       "  </tbody>\n",
       "</table>\n",
       "</div>"
      ],
      "text/plain": [
       "   job  hire  careerarc  boston  thanksgiving  nursing  healthcare  shopping hour  day  thanksgivingday  T_Family  T_Holiday  T_Patriots  T_Sale  sentiment\n",
       "0  0    0     0          0       0             0        0           0         14   0    0                0         0          1           0       0        \n",
       "1  0    0     0          0       0             0        0           0         14   0    0                0         0          0           0       0        \n",
       "2  0    0     0          0       0             0        0           0         14   0    0                0         0          0           1       1        \n",
       "3  0    0     0          0       0             0        0           0         14   0    0                0         0          0           0       1        \n",
       "4  0    0     0          0       0             0        0           0         14   0    0                1         0          0           0       0        "
      ]
     },
     "execution_count": 59,
     "metadata": {},
     "output_type": "execute_result"
    }
   ],
   "source": [
    "\n",
    "\"\"\"\n",
    "create features:\n",
    "hour: the hour of the day\n",
    "day: the day of week\n",
    "thanksgivingday: 1 if it is Thanksgiving Day\n",
    "other indicator variabes from hashtags and topics\n",
    "\"\"\"\n",
    "\n",
    "dftokens['T']=dftokens['Topic_keyword']\n",
    "dftokens['hour']=dftokens['time'].apply(lambda r: r.split(\":\")[0])\n",
    "dftokens['day']=  dftokens['date'].apply(lambda r: datetime.strptime(r, '%Y-%m-%d').weekday())\n",
    "dftokens['thanksgivingday'] = dftokens['date'].apply(lambda r: 1 if r=='2015-11-26' else 0)\n",
    "hashtags=[\"job\",\"hire\",\"careerarc\",\"boston\",\"thanksgiving\",\"nursing\",\"healthcare\",\"shopping\"]\n",
    "\n",
    "for h in hashtags:\n",
    "    dftokens[h]=dftokens['s_hashtags'].apply(lambda r:1 if h in r else 0)\n",
    "\n",
    "dummies=pd.core.reshape.get_dummies(dftokens[['T']])\n",
    "dummies.columns.values\n",
    "features=hashtags+['hour','day','thanksgivingday','T_Family', 'T_Holiday',\n",
    "      'T_Patriots', 'T_Sale']\n",
    "\n",
    "dftmp=pd.concat([dftokens,dummies], axis=1)\n",
    "dffeatures=dftmp[features].copy()\n",
    "dffeatures['sentiment']=dftokens['sentiment']\n",
    "dffeatures.head()"
   ]
  },
  {
   "cell_type": "markdown",
   "metadata": {},
   "source": [
    "Before we move on to any regression models, we take a look at the correlations between features and sentiment. As showed in the graph below, we did not observe any high correlations among features or between features and predicting values.  "
   ]
  },
  {
   "cell_type": "code",
   "execution_count": 60,
   "metadata": {
    "collapsed": false
   },
   "outputs": [
    {
     "name": "stderr",
     "output_type": "stream",
     "text": [
      "/Users/Jing/anaconda/lib/python2.7/site-packages/matplotlib/collections.py:590: FutureWarning: elementwise comparison failed; returning scalar instead, but in the future will perform elementwise comparison\n",
      "  if self._edgecolors == str('face'):\n"
     ]
    },
    {
     "data": {
      "text/plain": [
       "<matplotlib.axes._subplots.AxesSubplot at 0x111b50a90>"
      ]
     },
     "execution_count": 60,
     "metadata": {},
     "output_type": "execute_result"
    },
    {
     "data": {
      "image/png": "[encoded data removed]",
      "text/plain": [
       "<matplotlib.figure.Figure at 0x110b18310>"
      ]
     },
     "metadata": {},
     "output_type": "display_data"
    }
   ],
   "source": [
    "from string import letters\n",
    "import numpy as np\n",
    "import pandas as pd\n",
    "import seaborn as sns\n",
    "import matplotlib.pyplot as plt\n",
    "\n",
    "sns.set(style=\"white\")\n",
    "\n",
    "# Compute the correlation matrix\n",
    "corr = dffeatures.corr()\n",
    "\n",
    "# Generate a mask for the upper triangle\n",
    "mask = np.zeros_like(corr, dtype=np.bool)\n",
    "mask[np.triu_indices_from(mask)] = True\n",
    "\n",
    "# Set up the matplotlib figure\n",
    "f, ax = plt.subplots(figsize=(11, 9))\n",
    "\n",
    "# Generate a custom diverging colormap\n",
    "cmap = sns.diverging_palette(220, 10, as_cmap=True)\n",
    "\n",
    "# Draw the heatmap with the mask and correct aspect ratio\n",
    "sns.heatmap(corr, mask=mask, cmap=cmap, vmax=.3,\n",
    "            square=True, xticklabels=2, yticklabels=2,\n",
    "            linewidths=.5, cbar_kws={\"shrink\": .5}, ax=ax)"
   ]
  },
  {
   "cell_type": "markdown",
   "metadata": {},
   "source": [
    "####Split dataset into train and test data\n"
   ]
  },
  {
   "cell_type": "code",
   "execution_count": 86,
   "metadata": {
    "collapsed": true
   },
   "outputs": [],
   "source": [
    "from sklearn.cross_validation import train_test_split\n",
    "itrain, itest = train_test_split(xrange(dffeatures.shape[0]), train_size=0.7)\n",
    "mask=np.ones(dffeatures.shape[0], dtype='int')\n",
    "mask[itrain]=1\n",
    "mask[itest]=0\n",
    "mask = (mask==1)\n",
    "Xmatrix=dffeatures[features].values\n",
    "Yresp=dffeatures['sentiment'].values\n",
    "Xmatrix_train=Xmatrix[mask]\n",
    "Xmatrix_test=Xmatrix[~mask]\n",
    "Yresp_train=Yresp[mask]\n",
    "Yresp_test=Yresp[~mask]"
   ]
  },
  {
   "cell_type": "markdown",
   "metadata": {},
   "source": [
    "####Cross Validation and Model Selection functions"
   ]
  },
  {
   "cell_type": "code",
   "execution_count": 64,
   "metadata": {
    "collapsed": true
   },
   "outputs": [],
   "source": [
    "from sklearn.grid_search import GridSearchCV\n",
    "\"\"\"\n",
    "Function\n",
    "--------\n",
    "cv_optimize\n",
    "\n",
    "Inputs\n",
    "------\n",
    "clf : an instance of a scikit-learn classifier\n",
    "parameters: a parameter grid dictionary thats passed to GridSearchCV (see above)\n",
    "X: a samples-features matrix in the scikit-learn style\n",
    "y: the response vectors of 1s and 0s (+ives and -ives)\n",
    "n_folds: the number of cross-validation folds (default 5)\n",
    "score_func: a score function we might want to pass (default python None)\n",
    "   \n",
    "Returns\n",
    "-------\n",
    "The best estimator from the GridSearchCV, after the GridSearchCV has been used to\n",
    "fit the model.\n",
    "     \n",
    "Notes\n",
    "-----\n",
    "see do_classify and the code below for an example of how this is used\n",
    "\"\"\"\n",
    "#your code here\n",
    "\n",
    "def cv_optimize(clf,parameters,X,y,n_folds,score_func=None):\n",
    "    if score_func:\n",
    "        fitmodel = GridSearchCV(clf, param_grid=parameters, cv=n_folds, scoring=score_func)\n",
    "    else:\n",
    "        fitmodel = GridSearchCV(clf, param_grid=parameters, cv=n_folds)\n",
    "    fitmodel.fit(X,y)\n",
    "    print \"BEST\", fitmodel.best_params_, fitmodel.best_score_, fitmodel.grid_scores_\n",
    "    best = fitmodel.best_estimator_\n",
    "    return best"
   ]
  },
  {
   "cell_type": "markdown",
   "metadata": {},
   "source": [
    "We modify the `do_classify` code from homework to reflect that our response variable is continuous instead of binary."
   ]
  },
  {
   "cell_type": "code",
   "execution_count": 113,
   "metadata": {
    "collapsed": true
   },
   "outputs": [],
   "source": [
    "def select_mod(clf, parameters, indf, featurenames, targetname, mask=None, reuse_split=None, score_func=None, n_folds=5):\n",
    "    subdf=indf[featurenames]\n",
    "    X=subdf.values\n",
    "    y=indf[targetname].values\n",
    "    if mask !=None:\n",
    "        print \"using mask\"\n",
    "        Xtrain, Xtest, ytrain, ytest = X[mask], X[~mask], y[mask], y[~mask]\n",
    "    if reuse_split !=None:\n",
    "        print \"using reuse split\"\n",
    "        Xtrain, Xtest, ytrain, ytest = reuse_split['Xtrain'], reuse_split['Xtest'], reuse_split['ytrain'], reuse_split['ytest']\n",
    "    if parameters:\n",
    "        clf = cv_optimize(clf, parameters, Xtrain, ytrain, n_folds=n_folds, score_func=score_func)\n",
    "    clf=clf.fit(Xtrain, ytrain)\n",
    "    training_accuracy = mean_squared_error(clf.predict(Xtrain),ytrain)\n",
    "    test_accuracy = mean_squared_error(clf.predict(Xtest),ytest)\n",
    "    print \"############# based on standard predict ################\"\n",
    "    print \"MSE on training data: %0.2f\" % (training_accuracy)\n",
    "    print \"MSE on test data:     %0.2f\" % (test_accuracy)\n",
    "    print \"########################################################\"\n",
    "    return clf, Xtrain, ytrain, Xtest, ytest"
   ]
  },
  {
   "cell_type": "markdown",
   "metadata": {},
   "source": [
    "###  Linear Regression\n",
    "\n",
    "Since sentiment is continuous variable, we cannot use classifier. Thus we start with Linear Regression and include all features in the data. This will be our benchmark."
   ]
  },
  {
   "cell_type": "code",
   "execution_count": 112,
   "metadata": {
    "collapsed": false
   },
   "outputs": [
    {
     "name": "stdout",
     "output_type": "stream",
     "text": [
      "Mean Squared Error (train): 0.463654977528\n",
      "Mean Squared Error (test): 0.461121514385\n"
     ]
    }
   ],
   "source": [
    "from sklearn.linear_model import LinearRegression\n",
    "from sklearn.metrics import mean_squared_error\n",
    "LR = LinearRegression()\n",
    "\n",
    "LR.fit(Xmatrix_train, Yresp_train)\n",
    "\n",
    "#MSE\n",
    "error_trian = mean_squared_error(LR.predict(Xmatrix_train),Yresp_train )\n",
    "error_valid = mean_squared_error(LR.predict(Xmatrix_test),Yresp_test )\n",
    "print \"Mean Squared Error (train):\",error_trian\n",
    "print \"Mean Squared Error (test):\",error_valid"
   ]
  },
  {
   "cell_type": "markdown",
   "metadata": {},
   "source": [
    "The MSE of test and traning dataset is about the same. This indicates that we may not have overfitting issues. However, can we improve our models by having less features? We decide to try Ridge and Lasso models.\n",
    "\n",
    "###Ridge Regression\n",
    "\n",
    "Ridge regression addresses some of the problems of Ordinary Least Squares by imposing a penalty on the size of coefficients. The ridge coefficients minimize a penalized residual sum of squares,\n",
    "$$\\underset{w}{min\\,} {{|| X w - y||_2}^2 + \\alpha {||w||_2}^2}$$\n",
    "Here, $\\alpha \\geq 0$ is a complexity parameter that controls the amount of shrinkage: the larger the value of $\\alpha$, the greater the amount of shrinkage and thus the coefficients become more robust to collinearity.\n",
    "\n",
    "source: http://scikit-learn.org/stable/modules/linear_model.html"
   ]
  },
  {
   "cell_type": "code",
   "execution_count": 114,
   "metadata": {
    "collapsed": false
   },
   "outputs": [
    {
     "name": "stdout",
     "output_type": "stream",
     "text": [
      "using mask\n",
      "BEST {'alpha': 1e-09} -0.464777376651 [mean: -0.46478, std: 0.00835, params: {'alpha': 1e-09}, mean: -0.46478, std: 0.00835, params: {'alpha': 1e-08}, mean: -0.46478, std: 0.00835, params: {'alpha': 1e-05}, mean: -0.46478, std: 0.00835, params: {'alpha': 0.0001}, mean: -0.46478, std: 0.00835, params: {'alpha': 0.001}, mean: -0.46478, std: 0.00835, params: {'alpha': 0.01}, mean: -0.46478, std: 0.00835, params: {'alpha': 0.1}, mean: -0.46478, std: 0.00835, params: {'alpha': 1.0}]\n",
      "############# based on standard predict ################\n",
      "MSE on training data: 0.46\n",
      "MSE on test data:     0.46\n",
      "########################################################\n",
      "CPU times: user 4.22 s, sys: 385 ms, total: 4.6 s\n",
      "Wall time: 4.8 s\n"
     ]
    },
    {
     "name": "stderr",
     "output_type": "stream",
     "text": [
      "/Users/Jing/anaconda/lib/python2.7/site-packages/IPython/kernel/__main__.py:5: FutureWarning: comparison to `None` will result in an elementwise object comparison in the future.\n"
     ]
    }
   ],
   "source": [
    "%%time\n",
    "from sklearn.linear_model import Ridge\n",
    "\n",
    "ridge, Xtrain, ytrain, Xtest, ytest = select_mod(Ridge(),\n",
    "                                                   {\"alpha\": [1e-9,1e-8, 1e-5, 1e-4,1e-3, 1e-2, 1e-1, 1.0]}, \n",
    "                                                   dffeatures,features, u'sentiment',mask=mask,score_func=\"mean_squared_error\")"
   ]
  },
  {
   "cell_type": "code",
   "execution_count": 115,
   "metadata": {
    "collapsed": true
   },
   "outputs": [],
   "source": [
    "#we use the same train split in the following model selections\n",
    "reuse_split=dict(Xtrain=Xtrain, Xtest=Xtest, ytrain=ytrain, ytest=ytest)"
   ]
  },
  {
   "cell_type": "markdown",
   "metadata": {},
   "source": [
    "The best model has the smallest $\\alpha$. It implies that we do not need much shrinkage for our model. This makes sense becaus we did not observe collinearity in our data. Ridge Regression is not very useful here.\n",
    "\n",
    "###Lasso Regression\n",
    "\n",
    "The Lasso is a linear model that estimates sparse coefficients. It is useful in some contexts due to its tendency to prefer solutions with fewer parameter values, effectively reducing the number of variables upon which the given solution is dependent. For this reason, the Lasso and its variants are fundamental to the field of compressed sensing. Under certain conditions, it can recover the exact set of non-zero weights (see Compressive sensing: tomography reconstruction with L1 prior (Lasso)).\n",
    "Mathematically, it consists of a linear model trained with $\\ell_1$ prior as regularizer. The objective function to minimize is:\n",
    "$$\\underset{w}{min\\,} { \\frac{1}{2n_{samples}} ||X w - y||_2 ^ 2 + \\alpha ||w||_1}$$\n",
    "The lasso estimate thus solves the minimization of the least-squares penalty with $\\alpha ||w||_1$ added, where $\\alpha$ is a constant and $||w||_1$ is the $\\ell_1$-norm of the parameter vector.\n",
    "\n",
    "source: http://scikit-learn.org/stable/modules/linear_model.html"
   ]
  },
  {
   "cell_type": "code",
   "execution_count": 116,
   "metadata": {
    "collapsed": false
   },
   "outputs": [
    {
     "name": "stdout",
     "output_type": "stream",
     "text": [
      "using mask\n",
      "using reuse split\n",
      "BEST {'alpha': 1e-09} 0.0448827550262 [mean: 0.04488, std: 0.00874, params: {'alpha': 1e-09}, mean: 0.04488, std: 0.00874, params: {'alpha': 1e-08}, mean: 0.04486, std: 0.00876, params: {'alpha': 1e-05}, mean: 0.04464, std: 0.00894, params: {'alpha': 0.0001}, mean: 0.04186, std: 0.01202, params: {'alpha': 0.001}, mean: 0.03454, std: 0.01240, params: {'alpha': 0.01}, mean: -0.00502, std: 0.00619, params: {'alpha': 0.1}, mean: -0.00497, std: 0.00616, params: {'alpha': 1.0}]\n",
      "############# based on standard predict ################\n",
      "MSE on training data: 0.46\n",
      "MSE on test data:     0.46\n",
      "########################################################\n",
      "CPU times: user 9.68 s, sys: 496 ms, total: 10.2 s\n",
      "Wall time: 10.7 s\n"
     ]
    },
    {
     "name": "stderr",
     "output_type": "stream",
     "text": [
      "/Users/Jing/anaconda/lib/python2.7/site-packages/IPython/kernel/__main__.py:5: FutureWarning: comparison to `None` will result in an elementwise object comparison in the future.\n"
     ]
    }
   ],
   "source": [
    "%%time\n",
    "from sklearn.linear_model import Lasso\n",
    "\n",
    "lasso, Xtrain, ytrain, Xtest, ytest = select_mod(Lasso(),\n",
    "                                                   {\"alpha\": [1e-9,1e-8, 1e-5, 1e-4,1e-3, 1e-2, 1e-1, 1.0]}, \n",
    "                                                   dffeatures,features, u'sentiment',reuse_split=reuse_split,\n",
    "                                                    mask=mask)"
   ]
  },
  {
   "cell_type": "markdown",
   "metadata": {},
   "source": [
    "The best model takes very small alpha value, and it also means that we are giving very small value to extra features. In addition, there is no observable improvement in MSE.\n",
    "\n",
    "Moving forward, we decide to try some ensemble methods\n",
    "\n",
    "###Random Forest\n",
    "\n",
    "The random forest (Breiman, 2001) is an ensemble approach that can also be thought of as a form of nearest neighbor predictor.\n",
    "\n",
    "Ensembles are a divide-and-conquer approach used to improve performance. The main principle behind ensemble methods is that a group of “weak learners” can come together to form a “strong learner”. \n",
    "\n",
    "source: https://citizennet.com/blog/2012/11/10/random-forests-ensembles-and-performance-metrics/"
   ]
  },
  {
   "cell_type": "code",
   "execution_count": 117,
   "metadata": {
    "collapsed": false
   },
   "outputs": [
    {
     "name": "stdout",
     "output_type": "stream",
     "text": [
      "Mean Squared Error (train): 0.70050407478\n",
      "Mean Squared Error (test): 0.726220440965\n"
     ]
    }
   ],
   "source": [
    "from sklearn.ensemble import RandomForestClassifier \n",
    "\n",
    "# Create the random forest object which will include all the parameters\n",
    "# for the fit\n",
    "forest = RandomForestClassifier(n_estimators = 100)\n",
    "forest = forest.fit(Xmatrix[mask],Yresp[mask])\n",
    "\n",
    "#MSE\n",
    "error_trian = mean_squared_error(forest.predict(Xmatrix_train),Yresp_train )\n",
    "error_valid = mean_squared_error(forest.predict(Xmatrix_test),Yresp_test )\n",
    "print \"Mean Squared Error (train):\",error_trian\n",
    "print \"Mean Squared Error (test):\",error_valid"
   ]
  },
  {
   "cell_type": "markdown",
   "metadata": {},
   "source": [
    "The result of the ensemble method is not very good, and it is worse than the result of linear regression model. The main reason is that our sentiment is continuous, while all our features are either categorical or indicator variables. \n",
    "\n",
    "In reality, we do not really care about the sentiment score. Instead, we are interested if a tweet is positive, negative, or neutral. Thus we decide to transforme our sentiment score from continous to discrete, and divide sentiment to three groups. negative with a range from -1 to -0.5, netural with a range from -0.5 to 0.5, and positive with a range from 0.5 to 1. Based on the distributions of the `sentiment`, we will have about same size of postive and neutral sentiment, and a small amount of negative sentiment.\n"
   ]
  },
  {
   "cell_type": "code",
   "execution_count": 118,
   "metadata": {
    "collapsed": false
   },
   "outputs": [
    {
     "data": {
      "text/plain": [
       "(array([ 20005.,     84.,   1367.,   3407.,    611.,  49021.,   5707.,\n",
       "          2443.,   1030.,  54721.]),\n",
       " array([-1. , -0.8, -0.6, -0.4, -0.2,  0. ,  0.2,  0.4,  0.6,  0.8,  1. ]),\n",
       " <a list of 10 Patch objects>)"
      ]
     },
     "execution_count": 118,
     "metadata": {},
     "output_type": "execute_result"
    },
    {
     "data": {
      "image/png": "[encoded data removed]",
      "text/plain": [
       "<matplotlib.figure.Figure at 0x112d75110>"
      ]
     },
     "metadata": {},
     "output_type": "display_data"
    }
   ],
   "source": [
    "plt.hist(dftokens['sentiment'])"
   ]
  },
  {
   "cell_type": "code",
   "execution_count": 119,
   "metadata": {
    "collapsed": true
   },
   "outputs": [],
   "source": [
    "def classifysenti(r):\n",
    "    if r<=-0.5:\n",
    "        return -1\n",
    "    elif r <0.5:\n",
    "        return 0\n",
    "    else:\n",
    "        return 1\n",
    "dffeatures[\"sentiment2\"]=dffeatures[\"sentiment\"].apply(lambda r: classifysenti(r))"
   ]
  },
  {
   "cell_type": "markdown",
   "metadata": {},
   "source": [
    "Now we rerun random forest with new sentiment score. "
   ]
  },
  {
   "cell_type": "code",
   "execution_count": 120,
   "metadata": {
    "collapsed": false
   },
   "outputs": [
    {
     "name": "stdout",
     "output_type": "stream",
     "text": [
      "Mean Squared Error (train): 0.624461946592\n",
      "Mean Squared Error (test): 0.64941352152\n"
     ]
    }
   ],
   "source": [
    "from sklearn.ensemble import RandomForestClassifier \n",
    "\n",
    "Yresp2=dffeatures[\"sentiment2\"].values\n",
    "# Create the random forest object which will include all the parameters\n",
    "# for the fit\n",
    "forest = RandomForestClassifier(n_estimators = 100)\n",
    "forest = forest.fit(Xmatrix[mask],Yresp2[mask])\n",
    "\n",
    "#MSE\n",
    "error_trian = mean_squared_error(forest.predict(Xmatrix_train),Yresp2[mask] )\n",
    "error_valid = mean_squared_error(forest.predict(Xmatrix_test),Yresp2[~mask] )\n",
    "print \"Mean Squared Error (train):\",error_trian\n",
    "print \"Mean Squared Error (test):\",error_valid"
   ]
  },
  {
   "cell_type": "markdown",
   "metadata": {},
   "source": [
    "The mean squared error has improved but still more than that of Linear Regression. We decide to take a closer look at Linear Regression model."
   ]
  },
  {
   "cell_type": "code",
   "execution_count": 122,
   "metadata": {
    "collapsed": false
   },
   "outputs": [
    {
     "name": "stdout",
     "output_type": "stream",
     "text": [
      "Percentage of variance explained (train): 0.050182903948\n",
      "Percentage of variance explained (test): 0.0556612386306\n"
     ]
    },
    {
     "data": {
      "text/plain": [
       "[('job', 0.39238155271523856),\n",
       " ('hire', 0.13506981523524078),\n",
       " ('careerarc', -0.0073503099823873791),\n",
       " ('boston', 0.030089532842046799),\n",
       " ('thanksgiving', 0.12612428977639029),\n",
       " ('nursing', 0.011603221907530546),\n",
       " ('healthcare', 0.060838536743804544),\n",
       " ('shopping', 0.12093654988483798),\n",
       " ('hour', -0.0014340100912132276),\n",
       " ('day', -0.00085030102936646361),\n",
       " ('thanksgivingday', 0.084660103956090804),\n",
       " ('T_Family', 0.1444461113043346),\n",
       " ('T_Holiday', 0.091036617772626408),\n",
       " ('T_Patriots', -0.0008436056646353024),\n",
       " ('T_Sale', 0.055611487866173134)]"
      ]
     },
     "execution_count": 122,
     "metadata": {},
     "output_type": "execute_result"
    }
   ],
   "source": [
    "#calculate variance explained\n",
    "var_trian = LR.score(Xmatrix_train,Yresp_train )\n",
    "var_valid = LR.score(Xmatrix_test,Yresp_test)\n",
    "print \"Percentage of variance explained (train):\",var_trian\n",
    "print \"Percentage of variance explained (test):\",var_valid\n",
    "\n",
    "zip(features,LR.coef_)"
   ]
  },
  {
   "cell_type": "markdown",
   "metadata": {},
   "source": [
    "The score of Linear Regression is very low. This is may because the features we are choose are not useful in explaining the sentiment of a tweet. \n",
    "\n",
    "We are making the assumptions that two tweets that are sent on the same time of the same of day of a week would express the same sentiment if they talk about the same topic. Eventually, we are assuming that people were sending positive tweets about thanksgving during thanksgiving, or negative tweets about Patriots during the its game. However, it is not necessary true. \n",
    "\n",
    "In addition, our explantory variables and response variable heavily depends on our previous analysis. Since we do not have actual sentiment score or the topics a tweet talk about, we cannot validate our previous analysis. This also hinders from building models to predict sentiment using featured variables.  "
   ]
  },
  {
   "cell_type": "markdown",
   "metadata": {
    "collapsed": true
   },
   "source": [
    "#Take Away\n",
    "\n",
    "In general, tweets are categorized into four topics,  family, holiday, sale, patriots, and others. People talks more about family on Thanksgiving Day with respective to other days in the week, while the whole week people talks about holiday related topics, such as friends, love, and food. Around 30% of the tweets is about Sale, which is reasonable because of Black Friday and Cyber Monday. \n",
    "\n",
    "The average sentiment peaked on the Thanksgiving Day! The average sentiment became more positive since the Monday before Thanksgiving. Then it went down to normal level, and picked up again on the Monday after Thanksgiving, which is the Cyber Monday. This years Cyber Monday online sales exceeds the total sales on Black Friday. Is it because people get better deals on Monday, so the sentiment hiked on Monday? \n",
    "\n",
    "Through our analysis, we validate our guesses that people are more positive during Thanksgiving, and tend to talk more about family. At the same time, we also have many interesting findings, such as the account that constantly send job related tweets, and unexpected hike of sentiment on Monday. There are more to do and explore in the future."
   ]
  },
  {
   "cell_type": "code",
   "execution_count": null,
   "metadata": {
    "collapsed": true
   },
   "outputs": [],
   "source": []
  }
 ],
 "metadata": {
  "kernelspec": {
   "display_name": "Python 2",
   "language": "python",
   "name": "python2"
  },
  "language_info": {
   "codemirror_mode": {
    "name": "ipython",
    "version": 2
   },
   "file_extension": ".py",
   "mimetype": "text/x-python",
   "name": "python",
   "nbconvert_exporter": "python",
   "pygments_lexer": "ipython2",
   "version": "2.7.10"
  }
 },
 "nbformat": 4,
 "nbformat_minor": 0
}
